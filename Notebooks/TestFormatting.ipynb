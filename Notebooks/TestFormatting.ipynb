{
 "cells": [
  {
   "cell_type": "markdown",
   "source": [
    "Answer 1\n",
    "\n",
    "'Big Mountain Resort is considering ticket price increases, investing the resort and possible cost improvements. The resort just added a lift, which increased operating expenses by 1,540,000 dollars. To that end, a computing model using machine learning was designed to assess multiple resort feature changes and to predict ticket price changes relative to the market. \n",
    "The ticket price average used alone to assess price increases is inferior to the machine learning model. The mean ticket price in the dataset was $64.16 with a standard deviation of 24.55 dollars. Montana's mean price is about 52 dollars. The current Big Mountain Resort ticket price for an adult weekend or a weekday ticket is 81 dollars. A pure calculation using the mean does not include guidance regarding the important features that influence the appeal of a resort and its ticket pricing. The price is already higher than Montana's average ticket price. \n",
    "The designed machine learning allows current scenario assessments with one or more variables or features changes, dynamically, with potential price increases as outputs, relative to the market as a whole. The market is defined as all the resorts in the U.S., except Big Mountain Resort.\n",
    "Using the model, resort features that correlate with the ticket price level were identified. The model was fine-tuned using optimal hyperparameters and assessed in comparison to the baseline median ticket price. The modelled ticket price was 95.87 dollars with a mean absolute error of 10.39 dollars.\n",
    "Four scenarios under consideration were assessed using the model and the results are highlighted below:\n",
    "1) Closing up to 10 least used runs\n",
    "2) Adding a run, increasing the vertical drop by 150 feet, and installing an additional chair lift.\n",
    "3) Adding 2 acres of snow making in addition to adding a run, increasing the vertical drop by 150 feet, and installing an additional chair lift.\n",
    "4) Increasing the longest run by .2 miles and guaranteeing its snow coverage by adding 4 acres of snow making capability.\n",
    "The four scenarios were considered with assumptions of 350,000 visitors for the season and five day stays accounting for 5 tickets each and 1,750,000 tickets. For scenario 1, closing up to 10 runs, the model showed reducing 1-2 runs, decreases support for the current ticket price. Closing 3-5 runs, does not contribute greatly to further decline in ticket price support. Closing more will have a more pronounced effect.\n",
    "For scenario 2, adding a run, increasing the vertical drop by 150 feet, and installing/operating an additional chair lift, the model suggested increased ticket price support by 1.99 dollars amounting to 3,474,638 dollars increased cash flow. \n",
    "For scenario 3, adding 2 acres of snow making, in addition to scenario 2 changes, increased the ticket price support by 1.99 dollars amounting to 3,474,638 dollars increased cash flow.\n",
    "For scenario 4, increasing the longest run by .2 miles, the model found 0.0 dollars support for increases in ticket price.  \n",
    "The added operating cost of the new chairlift, 1,540,000 dollars per season may be offset by implementing scenarios 2 or 3, each generating 3,474,638 dollars in improved cash flow. With 1,750,000 tickets per season assumed, scenario 1 would lead to a worsening of cash flow amounting to $1,225,000, assuming a decrease of 0.7 dollars in ticket price support. These 3 scenarios may be combined to varying degrees to achieve the optimal cash flow for the season. The first scenario may be done incrementally over time with monitoring of visitor volume response over time.\n",
    "The development of an application, possibly a web app, with a dashboard that allows dynamic changes of several of the features and variables with visualization of the outputs may be helpful to management in studying many more scenarios and combinations. The outputs may include ticket price predictions and improvements in cash flow and operating expenses. '\n"
   ],
   "metadata": {
    "collapsed": false
   },
   "id": "6c8df2d2ced25ae7"
  },
  {
   "cell_type": "markdown",
   "source": [
    "'Answer 2\n",
    "The development of the model was based on a dataset with a substantial number of missing values. Weekend ticket price was chosen for comparison. Considering weekday ticket price may enhance the model and instruct additional strategies to generate revenue. The model took into account all state data. A more fine-tuned model would consider additional variations that are regional, additional resort features that enhance the appeal and generate additional revenue, such as overnight accommodations, restaurants and off season events. \n",
    "\n",
    "Understanding from management how a feature may influence pricing of the ticket would be important. Does a feature impact the appeal to clients or the contribution cost, whether fixed costs or variable ones. This type of data was not available.\n",
    "\n",
    "The operating costs of the chairlift per a season was taken into consideration. The financing costs of the lift may be important for management to include in the model in the long run. Itemization of the components of the operating expenses may also be instructive if analyzed, such as labor, maintenance and amortization among others.\n",
    "\n",
    "The modelled ticket price was 95.87 dollars compared to the current ticket price of 81 dollars during the weekend. The difference of nearly 15 dollars, points to the presence of possible significant opportunities to increase the ticket price relative to the broader resorts market. The regional market, in Montana, Wyoming, Idaho ticket prices have influenced the past pricing strategies in all likelihood. The average Montana price is around 51 dollars. This may have biased the price increases lower. Surprisingly, a materialized maximal increase in the ticket price would generate 26,250,000 dollars in one season (1,750,000 X 15). The considerations in the model included the main features currently offered without additional features that may enhance the appeal to clients.\n",
    "\n",
    "The model has certain assumptions related to more granular details and need further analysis. Including additional data and comparisons would instruct future efforts, such as further investments and marketing, to improve the business model of Big Mountain. Customer feedback through surveys and market studies would confirm or identify features important to clients.\n",
    "\n",
    "The management may wish to be more involved in enhancing the designed model with further analyses and enhancement with additional available data, such as costs and analyzing additional features, presently available or under consideration. Developing an interactive model dashboard for management use to analyze the changes in the features, costs, customer volume, among others. Investment in the further development of a machine learning model would improve future predictions of ticket price and cost improvements.'"
   ],
   "metadata": {
    "collapsed": false
   },
   "id": "1ea2f5d23e691d42"
  }
 ],
 "metadata": {
  "kernelspec": {
   "display_name": "Python 3",
   "language": "python",
   "name": "python3"
  },
  "language_info": {
   "codemirror_mode": {
    "name": "ipython",
    "version": 2
   },
   "file_extension": ".py",
   "mimetype": "text/x-python",
   "name": "python",
   "nbconvert_exporter": "python",
   "pygments_lexer": "ipython2",
   "version": "2.7.6"
  }
 },
 "nbformat": 4,
 "nbformat_minor": 5
}
