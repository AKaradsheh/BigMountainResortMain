{
 "cells": [
  {
   "cell_type": "markdown",
   "metadata": {},
   "source": [
    "# 4 Pre-Processing and Training Data<a id='4_Pre-Processing_and_Training_Data'></a>"
   ]
  },
  {
   "cell_type": "markdown",
   "metadata": {},
   "source": [
    "## 4.1 Contents<a id='4.1_Contents'></a>\n",
    "* [4 Pre-Processing and Training Data](#4_Pre-Processing_and_Training_Data)\n",
    "  * [4.1 Contents](#4.1_Contents)\n",
    "  * [4.2 Introduction](#4.2_Introduction)\n",
    "  * [4.3 Imports](#4.3_Imports)\n",
    "  * [4.4 Load Data](#4.4_Load_Data)\n",
    "  * [4.5 Extract Big Mountain Data](#4.5_Extract_Big_Mountain_Data)\n",
    "  * [4.6 Train/Test Split](#4.6_Train/Test_Split)\n",
    "  * [4.7 Initial Not-Even-A-Model](#4.7_Initial_Not-Even-A-Model)\n",
    "    * [4.7.1 Metrics](#4.7.1_Metrics)\n",
    "      * [4.7.1.1 R-squared, or coefficient of determination](#4.7.1.1_R-squared,_or_coefficient_of_determination)\n",
    "      * [4.7.1.2 Mean Absolute Error](#4.7.1.2_Mean_Absolute_Error)\n",
    "      * [4.7.1.3 Mean Squared Error](#4.7.1.3_Mean_Squared_Error)\n",
    "    * [4.7.2 sklearn metrics](#4.7.2_sklearn_metrics)\n",
    "        * [4.7.2.0.1 R-squared](#4.7.2.0.1_R-squared)\n",
    "        * [4.7.2.0.2 Mean absolute error](#4.7.2.0.2_Mean_absolute_error)\n",
    "        * [4.7.2.0.3 Mean squared error](#4.7.2.0.3_Mean_squared_error)\n",
    "    * [4.7.3 Note On Calculating Metrics](#4.7.3_Note_On_Calculating_Metrics)\n",
    "  * [4.8 Initial Models](#4.8_Initial_Models)\n",
    "    * [4.8.1 Imputing missing feature (predictor) values](#4.8.1_Imputing_missing_feature_(predictor)_values)\n",
    "      * [4.8.1.1 Impute missing values with median](#4.8.1.1_Impute_missing_values_with_median)\n",
    "        * [4.8.1.1.1 Learn the values to impute from the train set](#4.8.1.1.1_Learn_the_values_to_impute_from_the_train_set)\n",
    "        * [4.8.1.1.2 Apply the imputation to both train and test splits](#4.8.1.1.2_Apply_the_imputation_to_both_train_and_test_splits)\n",
    "        * [4.8.1.1.3 Scale the data](#4.8.1.1.3_Scale_the_data)\n",
    "        * [4.8.1.1.4 Train the model on the train split](#4.8.1.1.4_Train_the_model_on_the_train_split)\n",
    "        * [4.8.1.1.5 Make predictions using the model on both train and test splits](#4.8.1.1.5_Make_predictions_using_the_model_on_both_train_and_test_splits)\n",
    "        * [4.8.1.1.6 Assess model performance](#4.8.1.1.6_Assess_model_performance)\n",
    "      * [4.8.1.2 Impute missing values with the mean](#4.8.1.2_Impute_missing_values_with_the_mean)\n",
    "        * [4.8.1.2.1 Learn the values to impute from the train set](#4.8.1.2.1_Learn_the_values_to_impute_from_the_train_set)\n",
    "        * [4.8.1.2.2 Apply the imputation to both train and test splits](#4.8.1.2.2_Apply_the_imputation_to_both_train_and_test_splits)\n",
    "        * [4.8.1.2.3 Scale the data](#4.8.1.2.3_Scale_the_data)\n",
    "        * [4.8.1.2.4 Train the model on the train split](#4.8.1.2.4_Train_the_model_on_the_train_split)\n",
    "        * [4.8.1.2.5 Make predictions using the model on both train and test splits](#4.8.1.2.5_Make_predictions_using_the_model_on_both_train_and_test_splits)\n",
    "        * [4.8.1.2.6 Assess model performance](#4.8.1.2.6_Assess_model_performance)\n",
    "    * [4.8.2 Pipelines](#4.8.2_Pipelines)\n",
    "      * [4.8.2.1 Define the pipeline](#4.8.2.1_Define_the_pipeline)\n",
    "      * [4.8.2.2 Fit the pipeline](#4.8.2.2_Fit_the_pipeline)\n",
    "      * [4.8.2.3 Make predictions on the train and test sets](#4.8.2.3_Make_predictions_on_the_train_and_test_sets)\n",
    "      * [4.8.2.4 Assess performance](#4.8.2.4_Assess_performance)\n",
    "  * [4.9 Refining The Linear Model](#4.9_Refining_The_Linear_Model)\n",
    "    * [4.9.1 Define the pipeline](#4.9.1_Define_the_pipeline)\n",
    "    * [4.9.2 Fit the pipeline](#4.9.2_Fit_the_pipeline)\n",
    "    * [4.9.3 Assess performance on the train and test set](#4.9.3_Assess_performance_on_the_train_and_test_set)\n",
    "    * [4.9.4 Define a new pipeline to select a different number of features](#4.9.4_Define_a_new_pipeline_to_select_a_different_number_of_features)\n",
    "    * [4.9.5 Fit the pipeline](#4.9.5_Fit_the_pipeline)\n",
    "    * [4.9.6 Assess performance on train and test data](#4.9.6_Assess_performance_on_train_and_test_data)\n",
    "    * [4.9.7 Assessing performance using cross-validation](#4.9.7_Assessing_performance_using_cross-validation)\n",
    "    * [4.9.8 Hyperparameter search using GridSearchCV](#4.9.8_Hyperparameter_search_using_GridSearchCV)\n",
    "  * [4.10 Random Forest Model](#4.10_Random_Forest_Model)\n",
    "    * [4.10.1 Define the pipeline](#4.10.1_Define_the_pipeline)\n",
    "    * [4.10.2 Fit and assess performance using cross-validation](#4.10.2_Fit_and_assess_performance_using_cross-validation)\n",
    "    * [4.10.3 Hyperparameter search using GridSearchCV](#4.10.3_Hyperparameter_search_using_GridSearchCV)\n",
    "  * [4.11 Final Model Selection](#4.11_Final_Model_Selection)\n",
    "    * [4.11.1 Linear regression model performance](#4.11.1_Linear_regression_model_performance)\n",
    "    * [4.11.2 Random forest regression model performance](#4.11.2_Random_forest_regression_model_performance)\n",
    "    * [4.11.3 Conclusion](#4.11.3_Conclusion)\n",
    "  * [4.12 Data quantity assessment](#4.12_Data_quantity_assessment)\n",
    "  * [4.13 Save best model object from pipeline](#4.13_Save_best_model_object_from_pipeline)\n",
    "  * [4.14 Summary](#4.14_Summary)\n"
   ]
  },
  {
   "cell_type": "markdown",
   "metadata": {},
   "source": [
    "## 4.2 Introduction<a id='4.2_Introduction'></a>"
   ]
  },
  {
   "cell_type": "markdown",
   "metadata": {},
   "source": [
    "In preceding notebooks, performed preliminary assessments of data quality and refined the question to be answered. You found a small number of data values that gave clear choices about whether to replace values or drop a whole row. You determined that predicting the adult weekend ticket price was your primary aim. You threw away records with missing price data, but not before making the most of the other available data to look for any patterns between the states. You didn't see any and decided to treat all states equally; the state label didn't seem to be particularly useful.\n",
    "\n",
    "In this notebook you'll start to build machine learning models. Before even starting with learning a machine learning model, however, start by considering how useful the mean value is as a predictor. This is more than just a pedagogical device. You never want to go to stakeholders with a machine learning model only to have the CEO point out that it performs worse than just guessing the average! Your first model is a baseline performance comparitor for any subsequent model. You then build up the process of efficiently and robustly creating and assessing models against it. The development we lay out may be little slower than in the real world, but this step of the capstone is definitely more than just instructional. It is good practice to build up an understanding that the machine learning pipelines you build work as expected. You can validate steps with your own functions for checking expected equivalence between, say, pandas and sklearn implementations."
   ]
  },
  {
   "cell_type": "markdown",
   "metadata": {},
   "source": [
    "## 4.3 Imports<a id='4.3_Imports'></a>"
   ]
  },
  {
   "cell_type": "code",
   "execution_count": 1,
   "metadata": {
    "ExecuteTime": {
     "end_time": "2024-04-04T16:02:03.180802900Z",
     "start_time": "2024-04-04T16:02:02.765144500Z"
    }
   },
   "outputs": [],
   "source": [
    "import pandas as pd\n",
    "import numpy as np\n",
    "import os\n",
    "import pickle\n",
    "import matplotlib.pyplot as plt\n",
    "import seaborn as sns\n",
    "from sklearn import __version__ as sklearn_version\n",
    "from sklearn.decomposition import PCA\n",
    "from sklearn.preprocessing import scale\n",
    "from sklearn.model_selection import train_test_split, cross_validate, GridSearchCV, learning_curve\n",
    "from sklearn.preprocessing import StandardScaler, MinMaxScaler\n",
    "from sklearn.dummy import DummyRegressor\n",
    "from sklearn.linear_model import LinearRegression\n",
    "from sklearn.ensemble import RandomForestRegressor\n",
    "from sklearn.metrics import r2_score, mean_squared_error, mean_absolute_error\n",
    "from sklearn.pipeline import make_pipeline\n",
    "from sklearn.impute import SimpleImputer\n",
    "from sklearn.feature_selection import SelectKBest, f_regression\n",
    "import datetime\n",
    "\n",
    "from library.sb_utils import save_file"
   ]
  },
  {
   "cell_type": "markdown",
   "metadata": {},
   "source": [
    "## 4.4 Load Data<a id='4.4_Load_Data'></a>"
   ]
  },
  {
   "cell_type": "code",
   "execution_count": 2,
   "metadata": {
    "scrolled": true,
    "ExecuteTime": {
     "end_time": "2024-04-04T16:03:42.154894400Z",
     "start_time": "2024-04-04T16:03:42.059880Z"
    }
   },
   "outputs": [
    {
     "data": {
      "text/plain": "                                                 0                    1  \\\nName                                Alyeska Resort  Eaglecrest Ski Area   \nRegion                                      Alaska               Alaska   \nstate                                       Alaska               Alaska   \nsummit_elev                                   3939                 2600   \nvertical_drop                                 2500                 1540   \nbase_elev                                      250                 1200   \ntrams                                            1                    0   \nfastSixes                                        0                    0   \nfastQuads                                        2                    0   \nquad                                             2                    0   \ntriple                                           0                    0   \ndouble                                           0                    4   \nsurface                                          2                    0   \ntotal_chairs                                     7                    4   \nRuns                                          76.0                 36.0   \nTerrainParks                                   2.0                  1.0   \nLongestRun_mi                                  1.0                  2.0   \nSkiableTerrain_ac                           1610.0                640.0   \nSnow Making_ac                               113.0                 60.0   \ndaysOpenLastYear                             150.0                 45.0   \nyearsOpen                                     60.0                 44.0   \naverageSnowfall                              669.0                350.0   \nAdultWeekend                                  85.0                 53.0   \nprojectedDaysOpen                            150.0                 90.0   \nNightSkiing_ac                               550.0                  NaN   \nresorts_per_state                                3                    3   \nresorts_per_100kcapita                    0.410091             0.410091   \nresorts_per_100ksq_mile                   0.450867             0.450867   \nresort_skiable_area_ac_state_ratio         0.70614             0.280702   \nresort_days_open_state_ratio              0.434783             0.130435   \nresort_terrain_park_state_ratio                0.5                 0.25   \nresort_night_skiing_state_ratio           0.948276                  NaN   \ntotal_chairs_runs_ratio                   0.092105             0.111111   \ntotal_chairs_skiable_ratio                0.004348              0.00625   \nfastQuads_runs_ratio                      0.026316                  0.0   \nfastQuads_skiable_ratio                   0.001242                  0.0   \n\n                                                   2                 3  \\\nName                                Hilltop Ski Area  Arizona Snowbowl   \nRegion                                        Alaska           Arizona   \nstate                                         Alaska           Arizona   \nsummit_elev                                     2090             11500   \nvertical_drop                                    294              2300   \nbase_elev                                       1796              9200   \ntrams                                              0                 0   \nfastSixes                                          0                 1   \nfastQuads                                          0                 0   \nquad                                               0                 2   \ntriple                                             1                 2   \ndouble                                             0                 1   \nsurface                                            2                 2   \ntotal_chairs                                       3                 8   \nRuns                                            13.0              55.0   \nTerrainParks                                     1.0               4.0   \nLongestRun_mi                                    1.0               2.0   \nSkiableTerrain_ac                               30.0             777.0   \nSnow Making_ac                                  30.0             104.0   \ndaysOpenLastYear                               150.0             122.0   \nyearsOpen                                       36.0              81.0   \naverageSnowfall                                 69.0             260.0   \nAdultWeekend                                    34.0              89.0   \nprojectedDaysOpen                              152.0             122.0   \nNightSkiing_ac                                  30.0               NaN   \nresorts_per_state                                  3                 2   \nresorts_per_100kcapita                      0.410091          0.027477   \nresorts_per_100ksq_mile                     0.450867           1.75454   \nresort_skiable_area_ac_state_ratio          0.013158          0.492708   \nresort_days_open_state_ratio                0.434783          0.514768   \nresort_terrain_park_state_ratio                 0.25          0.666667   \nresort_night_skiing_state_ratio             0.051724               NaN   \ntotal_chairs_runs_ratio                     0.230769          0.145455   \ntotal_chairs_skiable_ratio                       0.1          0.010296   \nfastQuads_runs_ratio                             0.0               0.0   \nfastQuads_skiable_ratio                          0.0               0.0   \n\n                                                      4  \nName                                Sunrise Park Resort  \nRegion                                          Arizona  \nstate                                           Arizona  \nsummit_elev                                       11100  \nvertical_drop                                      1800  \nbase_elev                                          9200  \ntrams                                                 0  \nfastSixes                                             0  \nfastQuads                                             1  \nquad                                                  2  \ntriple                                                3  \ndouble                                                1  \nsurface                                               0  \ntotal_chairs                                          7  \nRuns                                               65.0  \nTerrainParks                                        2.0  \nLongestRun_mi                                       1.2  \nSkiableTerrain_ac                                 800.0  \nSnow Making_ac                                     80.0  \ndaysOpenLastYear                                  115.0  \nyearsOpen                                          49.0  \naverageSnowfall                                   250.0  \nAdultWeekend                                       78.0  \nprojectedDaysOpen                                 104.0  \nNightSkiing_ac                                     80.0  \nresorts_per_state                                     2  \nresorts_per_100kcapita                         0.027477  \nresorts_per_100ksq_mile                         1.75454  \nresort_skiable_area_ac_state_ratio             0.507292  \nresort_days_open_state_ratio                   0.485232  \nresort_terrain_park_state_ratio                0.333333  \nresort_night_skiing_state_ratio                     1.0  \ntotal_chairs_runs_ratio                        0.107692  \ntotal_chairs_skiable_ratio                      0.00875  \nfastQuads_runs_ratio                           0.015385  \nfastQuads_skiable_ratio                         0.00125  ",
      "text/html": "<div>\n<style scoped>\n    .dataframe tbody tr th:only-of-type {\n        vertical-align: middle;\n    }\n\n    .dataframe tbody tr th {\n        vertical-align: top;\n    }\n\n    .dataframe thead th {\n        text-align: right;\n    }\n</style>\n<table border=\"1\" class=\"dataframe\">\n  <thead>\n    <tr style=\"text-align: right;\">\n      <th></th>\n      <th>0</th>\n      <th>1</th>\n      <th>2</th>\n      <th>3</th>\n      <th>4</th>\n    </tr>\n  </thead>\n  <tbody>\n    <tr>\n      <th>Name</th>\n      <td>Alyeska Resort</td>\n      <td>Eaglecrest Ski Area</td>\n      <td>Hilltop Ski Area</td>\n      <td>Arizona Snowbowl</td>\n      <td>Sunrise Park Resort</td>\n    </tr>\n    <tr>\n      <th>Region</th>\n      <td>Alaska</td>\n      <td>Alaska</td>\n      <td>Alaska</td>\n      <td>Arizona</td>\n      <td>Arizona</td>\n    </tr>\n    <tr>\n      <th>state</th>\n      <td>Alaska</td>\n      <td>Alaska</td>\n      <td>Alaska</td>\n      <td>Arizona</td>\n      <td>Arizona</td>\n    </tr>\n    <tr>\n      <th>summit_elev</th>\n      <td>3939</td>\n      <td>2600</td>\n      <td>2090</td>\n      <td>11500</td>\n      <td>11100</td>\n    </tr>\n    <tr>\n      <th>vertical_drop</th>\n      <td>2500</td>\n      <td>1540</td>\n      <td>294</td>\n      <td>2300</td>\n      <td>1800</td>\n    </tr>\n    <tr>\n      <th>base_elev</th>\n      <td>250</td>\n      <td>1200</td>\n      <td>1796</td>\n      <td>9200</td>\n      <td>9200</td>\n    </tr>\n    <tr>\n      <th>trams</th>\n      <td>1</td>\n      <td>0</td>\n      <td>0</td>\n      <td>0</td>\n      <td>0</td>\n    </tr>\n    <tr>\n      <th>fastSixes</th>\n      <td>0</td>\n      <td>0</td>\n      <td>0</td>\n      <td>1</td>\n      <td>0</td>\n    </tr>\n    <tr>\n      <th>fastQuads</th>\n      <td>2</td>\n      <td>0</td>\n      <td>0</td>\n      <td>0</td>\n      <td>1</td>\n    </tr>\n    <tr>\n      <th>quad</th>\n      <td>2</td>\n      <td>0</td>\n      <td>0</td>\n      <td>2</td>\n      <td>2</td>\n    </tr>\n    <tr>\n      <th>triple</th>\n      <td>0</td>\n      <td>0</td>\n      <td>1</td>\n      <td>2</td>\n      <td>3</td>\n    </tr>\n    <tr>\n      <th>double</th>\n      <td>0</td>\n      <td>4</td>\n      <td>0</td>\n      <td>1</td>\n      <td>1</td>\n    </tr>\n    <tr>\n      <th>surface</th>\n      <td>2</td>\n      <td>0</td>\n      <td>2</td>\n      <td>2</td>\n      <td>0</td>\n    </tr>\n    <tr>\n      <th>total_chairs</th>\n      <td>7</td>\n      <td>4</td>\n      <td>3</td>\n      <td>8</td>\n      <td>7</td>\n    </tr>\n    <tr>\n      <th>Runs</th>\n      <td>76.0</td>\n      <td>36.0</td>\n      <td>13.0</td>\n      <td>55.0</td>\n      <td>65.0</td>\n    </tr>\n    <tr>\n      <th>TerrainParks</th>\n      <td>2.0</td>\n      <td>1.0</td>\n      <td>1.0</td>\n      <td>4.0</td>\n      <td>2.0</td>\n    </tr>\n    <tr>\n      <th>LongestRun_mi</th>\n      <td>1.0</td>\n      <td>2.0</td>\n      <td>1.0</td>\n      <td>2.0</td>\n      <td>1.2</td>\n    </tr>\n    <tr>\n      <th>SkiableTerrain_ac</th>\n      <td>1610.0</td>\n      <td>640.0</td>\n      <td>30.0</td>\n      <td>777.0</td>\n      <td>800.0</td>\n    </tr>\n    <tr>\n      <th>Snow Making_ac</th>\n      <td>113.0</td>\n      <td>60.0</td>\n      <td>30.0</td>\n      <td>104.0</td>\n      <td>80.0</td>\n    </tr>\n    <tr>\n      <th>daysOpenLastYear</th>\n      <td>150.0</td>\n      <td>45.0</td>\n      <td>150.0</td>\n      <td>122.0</td>\n      <td>115.0</td>\n    </tr>\n    <tr>\n      <th>yearsOpen</th>\n      <td>60.0</td>\n      <td>44.0</td>\n      <td>36.0</td>\n      <td>81.0</td>\n      <td>49.0</td>\n    </tr>\n    <tr>\n      <th>averageSnowfall</th>\n      <td>669.0</td>\n      <td>350.0</td>\n      <td>69.0</td>\n      <td>260.0</td>\n      <td>250.0</td>\n    </tr>\n    <tr>\n      <th>AdultWeekend</th>\n      <td>85.0</td>\n      <td>53.0</td>\n      <td>34.0</td>\n      <td>89.0</td>\n      <td>78.0</td>\n    </tr>\n    <tr>\n      <th>projectedDaysOpen</th>\n      <td>150.0</td>\n      <td>90.0</td>\n      <td>152.0</td>\n      <td>122.0</td>\n      <td>104.0</td>\n    </tr>\n    <tr>\n      <th>NightSkiing_ac</th>\n      <td>550.0</td>\n      <td>NaN</td>\n      <td>30.0</td>\n      <td>NaN</td>\n      <td>80.0</td>\n    </tr>\n    <tr>\n      <th>resorts_per_state</th>\n      <td>3</td>\n      <td>3</td>\n      <td>3</td>\n      <td>2</td>\n      <td>2</td>\n    </tr>\n    <tr>\n      <th>resorts_per_100kcapita</th>\n      <td>0.410091</td>\n      <td>0.410091</td>\n      <td>0.410091</td>\n      <td>0.027477</td>\n      <td>0.027477</td>\n    </tr>\n    <tr>\n      <th>resorts_per_100ksq_mile</th>\n      <td>0.450867</td>\n      <td>0.450867</td>\n      <td>0.450867</td>\n      <td>1.75454</td>\n      <td>1.75454</td>\n    </tr>\n    <tr>\n      <th>resort_skiable_area_ac_state_ratio</th>\n      <td>0.70614</td>\n      <td>0.280702</td>\n      <td>0.013158</td>\n      <td>0.492708</td>\n      <td>0.507292</td>\n    </tr>\n    <tr>\n      <th>resort_days_open_state_ratio</th>\n      <td>0.434783</td>\n      <td>0.130435</td>\n      <td>0.434783</td>\n      <td>0.514768</td>\n      <td>0.485232</td>\n    </tr>\n    <tr>\n      <th>resort_terrain_park_state_ratio</th>\n      <td>0.5</td>\n      <td>0.25</td>\n      <td>0.25</td>\n      <td>0.666667</td>\n      <td>0.333333</td>\n    </tr>\n    <tr>\n      <th>resort_night_skiing_state_ratio</th>\n      <td>0.948276</td>\n      <td>NaN</td>\n      <td>0.051724</td>\n      <td>NaN</td>\n      <td>1.0</td>\n    </tr>\n    <tr>\n      <th>total_chairs_runs_ratio</th>\n      <td>0.092105</td>\n      <td>0.111111</td>\n      <td>0.230769</td>\n      <td>0.145455</td>\n      <td>0.107692</td>\n    </tr>\n    <tr>\n      <th>total_chairs_skiable_ratio</th>\n      <td>0.004348</td>\n      <td>0.00625</td>\n      <td>0.1</td>\n      <td>0.010296</td>\n      <td>0.00875</td>\n    </tr>\n    <tr>\n      <th>fastQuads_runs_ratio</th>\n      <td>0.026316</td>\n      <td>0.0</td>\n      <td>0.0</td>\n      <td>0.0</td>\n      <td>0.015385</td>\n    </tr>\n    <tr>\n      <th>fastQuads_skiable_ratio</th>\n      <td>0.001242</td>\n      <td>0.0</td>\n      <td>0.0</td>\n      <td>0.0</td>\n      <td>0.00125</td>\n    </tr>\n  </tbody>\n</table>\n</div>"
     },
     "execution_count": 2,
     "metadata": {},
     "output_type": "execute_result"
    }
   ],
   "source": [
    "ski_data = pd.read_csv('../data/ski_data_step3_features.csv')\n",
    "ski_data.head().T"
   ]
  },
  {
   "cell_type": "code",
   "outputs": [
    {
     "data": {
      "text/plain": "                                                 0                    1  \\\nName                                Alyeska Resort  Eaglecrest Ski Area   \nRegion                                      Alaska               Alaska   \nstate                                       Alaska               Alaska   \nsummit_elev                                   3939                 2600   \nvertical_drop                                 2500                 1540   \nbase_elev                                      250                 1200   \ntrams                                            1                    0   \nfastSixes                                        0                    0   \nfastQuads                                        2                    0   \nquad                                             2                    0   \ntriple                                           0                    0   \ndouble                                           0                    4   \nsurface                                          2                    0   \ntotal_chairs                                     7                    4   \nRuns                                          76.0                 36.0   \nTerrainParks                                   2.0                  1.0   \nLongestRun_mi                                  1.0                  2.0   \nSkiableTerrain_ac                           1610.0                640.0   \nSnow Making_ac                               113.0                 60.0   \ndaysOpenLastYear                             150.0                 45.0   \nyearsOpen                                     60.0                 44.0   \naverageSnowfall                              669.0                350.0   \nAdultWeekend                                  85.0                 53.0   \nprojectedDaysOpen                            150.0                 90.0   \nNightSkiing_ac                               550.0                  NaN   \nresorts_per_state                                3                    3   \nresorts_per_100kcapita                    0.410091             0.410091   \nresorts_per_100ksq_mile                   0.450867             0.450867   \nresort_skiable_area_ac_state_ratio         0.70614             0.280702   \nresort_days_open_state_ratio              0.434783             0.130435   \nresort_terrain_park_state_ratio                0.5                 0.25   \nresort_night_skiing_state_ratio           0.948276                  NaN   \ntotal_chairs_runs_ratio                   0.092105             0.111111   \ntotal_chairs_skiable_ratio                0.004348              0.00625   \nfastQuads_runs_ratio                      0.026316                  0.0   \nfastQuads_skiable_ratio                   0.001242                  0.0   \n\n                                                   2                 3  \\\nName                                Hilltop Ski Area  Arizona Snowbowl   \nRegion                                        Alaska           Arizona   \nstate                                         Alaska           Arizona   \nsummit_elev                                     2090             11500   \nvertical_drop                                    294              2300   \nbase_elev                                       1796              9200   \ntrams                                              0                 0   \nfastSixes                                          0                 1   \nfastQuads                                          0                 0   \nquad                                               0                 2   \ntriple                                             1                 2   \ndouble                                             0                 1   \nsurface                                            2                 2   \ntotal_chairs                                       3                 8   \nRuns                                            13.0              55.0   \nTerrainParks                                     1.0               4.0   \nLongestRun_mi                                    1.0               2.0   \nSkiableTerrain_ac                               30.0             777.0   \nSnow Making_ac                                  30.0             104.0   \ndaysOpenLastYear                               150.0             122.0   \nyearsOpen                                       36.0              81.0   \naverageSnowfall                                 69.0             260.0   \nAdultWeekend                                    34.0              89.0   \nprojectedDaysOpen                              152.0             122.0   \nNightSkiing_ac                                  30.0               NaN   \nresorts_per_state                                  3                 2   \nresorts_per_100kcapita                      0.410091          0.027477   \nresorts_per_100ksq_mile                     0.450867           1.75454   \nresort_skiable_area_ac_state_ratio          0.013158          0.492708   \nresort_days_open_state_ratio                0.434783          0.514768   \nresort_terrain_park_state_ratio                 0.25          0.666667   \nresort_night_skiing_state_ratio             0.051724               NaN   \ntotal_chairs_runs_ratio                     0.230769          0.145455   \ntotal_chairs_skiable_ratio                       0.1          0.010296   \nfastQuads_runs_ratio                             0.0               0.0   \nfastQuads_skiable_ratio                          0.0               0.0   \n\n                                                      4  \nName                                Sunrise Park Resort  \nRegion                                          Arizona  \nstate                                           Arizona  \nsummit_elev                                       11100  \nvertical_drop                                      1800  \nbase_elev                                          9200  \ntrams                                                 0  \nfastSixes                                             0  \nfastQuads                                             1  \nquad                                                  2  \ntriple                                                3  \ndouble                                                1  \nsurface                                               0  \ntotal_chairs                                          7  \nRuns                                               65.0  \nTerrainParks                                        2.0  \nLongestRun_mi                                       1.2  \nSkiableTerrain_ac                                 800.0  \nSnow Making_ac                                     80.0  \ndaysOpenLastYear                                  115.0  \nyearsOpen                                          49.0  \naverageSnowfall                                   250.0  \nAdultWeekend                                       78.0  \nprojectedDaysOpen                                 104.0  \nNightSkiing_ac                                     80.0  \nresorts_per_state                                     2  \nresorts_per_100kcapita                         0.027477  \nresorts_per_100ksq_mile                         1.75454  \nresort_skiable_area_ac_state_ratio             0.507292  \nresort_days_open_state_ratio                   0.485232  \nresort_terrain_park_state_ratio                0.333333  \nresort_night_skiing_state_ratio                     1.0  \ntotal_chairs_runs_ratio                        0.107692  \ntotal_chairs_skiable_ratio                      0.00875  \nfastQuads_runs_ratio                           0.015385  \nfastQuads_skiable_ratio                         0.00125  ",
      "text/html": "<div>\n<style scoped>\n    .dataframe tbody tr th:only-of-type {\n        vertical-align: middle;\n    }\n\n    .dataframe tbody tr th {\n        vertical-align: top;\n    }\n\n    .dataframe thead th {\n        text-align: right;\n    }\n</style>\n<table border=\"1\" class=\"dataframe\">\n  <thead>\n    <tr style=\"text-align: right;\">\n      <th></th>\n      <th>0</th>\n      <th>1</th>\n      <th>2</th>\n      <th>3</th>\n      <th>4</th>\n    </tr>\n  </thead>\n  <tbody>\n    <tr>\n      <th>Name</th>\n      <td>Alyeska Resort</td>\n      <td>Eaglecrest Ski Area</td>\n      <td>Hilltop Ski Area</td>\n      <td>Arizona Snowbowl</td>\n      <td>Sunrise Park Resort</td>\n    </tr>\n    <tr>\n      <th>Region</th>\n      <td>Alaska</td>\n      <td>Alaska</td>\n      <td>Alaska</td>\n      <td>Arizona</td>\n      <td>Arizona</td>\n    </tr>\n    <tr>\n      <th>state</th>\n      <td>Alaska</td>\n      <td>Alaska</td>\n      <td>Alaska</td>\n      <td>Arizona</td>\n      <td>Arizona</td>\n    </tr>\n    <tr>\n      <th>summit_elev</th>\n      <td>3939</td>\n      <td>2600</td>\n      <td>2090</td>\n      <td>11500</td>\n      <td>11100</td>\n    </tr>\n    <tr>\n      <th>vertical_drop</th>\n      <td>2500</td>\n      <td>1540</td>\n      <td>294</td>\n      <td>2300</td>\n      <td>1800</td>\n    </tr>\n    <tr>\n      <th>base_elev</th>\n      <td>250</td>\n      <td>1200</td>\n      <td>1796</td>\n      <td>9200</td>\n      <td>9200</td>\n    </tr>\n    <tr>\n      <th>trams</th>\n      <td>1</td>\n      <td>0</td>\n      <td>0</td>\n      <td>0</td>\n      <td>0</td>\n    </tr>\n    <tr>\n      <th>fastSixes</th>\n      <td>0</td>\n      <td>0</td>\n      <td>0</td>\n      <td>1</td>\n      <td>0</td>\n    </tr>\n    <tr>\n      <th>fastQuads</th>\n      <td>2</td>\n      <td>0</td>\n      <td>0</td>\n      <td>0</td>\n      <td>1</td>\n    </tr>\n    <tr>\n      <th>quad</th>\n      <td>2</td>\n      <td>0</td>\n      <td>0</td>\n      <td>2</td>\n      <td>2</td>\n    </tr>\n    <tr>\n      <th>triple</th>\n      <td>0</td>\n      <td>0</td>\n      <td>1</td>\n      <td>2</td>\n      <td>3</td>\n    </tr>\n    <tr>\n      <th>double</th>\n      <td>0</td>\n      <td>4</td>\n      <td>0</td>\n      <td>1</td>\n      <td>1</td>\n    </tr>\n    <tr>\n      <th>surface</th>\n      <td>2</td>\n      <td>0</td>\n      <td>2</td>\n      <td>2</td>\n      <td>0</td>\n    </tr>\n    <tr>\n      <th>total_chairs</th>\n      <td>7</td>\n      <td>4</td>\n      <td>3</td>\n      <td>8</td>\n      <td>7</td>\n    </tr>\n    <tr>\n      <th>Runs</th>\n      <td>76.0</td>\n      <td>36.0</td>\n      <td>13.0</td>\n      <td>55.0</td>\n      <td>65.0</td>\n    </tr>\n    <tr>\n      <th>TerrainParks</th>\n      <td>2.0</td>\n      <td>1.0</td>\n      <td>1.0</td>\n      <td>4.0</td>\n      <td>2.0</td>\n    </tr>\n    <tr>\n      <th>LongestRun_mi</th>\n      <td>1.0</td>\n      <td>2.0</td>\n      <td>1.0</td>\n      <td>2.0</td>\n      <td>1.2</td>\n    </tr>\n    <tr>\n      <th>SkiableTerrain_ac</th>\n      <td>1610.0</td>\n      <td>640.0</td>\n      <td>30.0</td>\n      <td>777.0</td>\n      <td>800.0</td>\n    </tr>\n    <tr>\n      <th>Snow Making_ac</th>\n      <td>113.0</td>\n      <td>60.0</td>\n      <td>30.0</td>\n      <td>104.0</td>\n      <td>80.0</td>\n    </tr>\n    <tr>\n      <th>daysOpenLastYear</th>\n      <td>150.0</td>\n      <td>45.0</td>\n      <td>150.0</td>\n      <td>122.0</td>\n      <td>115.0</td>\n    </tr>\n    <tr>\n      <th>yearsOpen</th>\n      <td>60.0</td>\n      <td>44.0</td>\n      <td>36.0</td>\n      <td>81.0</td>\n      <td>49.0</td>\n    </tr>\n    <tr>\n      <th>averageSnowfall</th>\n      <td>669.0</td>\n      <td>350.0</td>\n      <td>69.0</td>\n      <td>260.0</td>\n      <td>250.0</td>\n    </tr>\n    <tr>\n      <th>AdultWeekend</th>\n      <td>85.0</td>\n      <td>53.0</td>\n      <td>34.0</td>\n      <td>89.0</td>\n      <td>78.0</td>\n    </tr>\n    <tr>\n      <th>projectedDaysOpen</th>\n      <td>150.0</td>\n      <td>90.0</td>\n      <td>152.0</td>\n      <td>122.0</td>\n      <td>104.0</td>\n    </tr>\n    <tr>\n      <th>NightSkiing_ac</th>\n      <td>550.0</td>\n      <td>NaN</td>\n      <td>30.0</td>\n      <td>NaN</td>\n      <td>80.0</td>\n    </tr>\n    <tr>\n      <th>resorts_per_state</th>\n      <td>3</td>\n      <td>3</td>\n      <td>3</td>\n      <td>2</td>\n      <td>2</td>\n    </tr>\n    <tr>\n      <th>resorts_per_100kcapita</th>\n      <td>0.410091</td>\n      <td>0.410091</td>\n      <td>0.410091</td>\n      <td>0.027477</td>\n      <td>0.027477</td>\n    </tr>\n    <tr>\n      <th>resorts_per_100ksq_mile</th>\n      <td>0.450867</td>\n      <td>0.450867</td>\n      <td>0.450867</td>\n      <td>1.75454</td>\n      <td>1.75454</td>\n    </tr>\n    <tr>\n      <th>resort_skiable_area_ac_state_ratio</th>\n      <td>0.70614</td>\n      <td>0.280702</td>\n      <td>0.013158</td>\n      <td>0.492708</td>\n      <td>0.507292</td>\n    </tr>\n    <tr>\n      <th>resort_days_open_state_ratio</th>\n      <td>0.434783</td>\n      <td>0.130435</td>\n      <td>0.434783</td>\n      <td>0.514768</td>\n      <td>0.485232</td>\n    </tr>\n    <tr>\n      <th>resort_terrain_park_state_ratio</th>\n      <td>0.5</td>\n      <td>0.25</td>\n      <td>0.25</td>\n      <td>0.666667</td>\n      <td>0.333333</td>\n    </tr>\n    <tr>\n      <th>resort_night_skiing_state_ratio</th>\n      <td>0.948276</td>\n      <td>NaN</td>\n      <td>0.051724</td>\n      <td>NaN</td>\n      <td>1.0</td>\n    </tr>\n    <tr>\n      <th>total_chairs_runs_ratio</th>\n      <td>0.092105</td>\n      <td>0.111111</td>\n      <td>0.230769</td>\n      <td>0.145455</td>\n      <td>0.107692</td>\n    </tr>\n    <tr>\n      <th>total_chairs_skiable_ratio</th>\n      <td>0.004348</td>\n      <td>0.00625</td>\n      <td>0.1</td>\n      <td>0.010296</td>\n      <td>0.00875</td>\n    </tr>\n    <tr>\n      <th>fastQuads_runs_ratio</th>\n      <td>0.026316</td>\n      <td>0.0</td>\n      <td>0.0</td>\n      <td>0.0</td>\n      <td>0.015385</td>\n    </tr>\n    <tr>\n      <th>fastQuads_skiable_ratio</th>\n      <td>0.001242</td>\n      <td>0.0</td>\n      <td>0.0</td>\n      <td>0.0</td>\n      <td>0.00125</td>\n    </tr>\n  </tbody>\n</table>\n</div>"
     },
     "execution_count": 3,
     "metadata": {},
     "output_type": "execute_result"
    }
   ],
   "source": [
    "ski_data = pd.read_csv('../data/ski_data_step3_features.csv')\n",
    "ski_data.head().T"
   ],
   "metadata": {
    "collapsed": false,
    "ExecuteTime": {
     "end_time": "2024-04-04T16:04:17.006540800Z",
     "start_time": "2024-04-04T16:04:16.919035900Z"
    }
   },
   "execution_count": 3
  },
  {
   "cell_type": "markdown",
   "metadata": {},
   "source": [
    "## 4.5 Extract Big Mountain Data<a id='4.5_Extract_Big_Mountain_Data'></a>"
   ]
  },
  {
   "cell_type": "markdown",
   "metadata": {},
   "source": [
    "Big Mountain is your resort. Separate it from the rest of the data to use later."
   ]
  },
  {
   "cell_type": "code",
   "execution_count": 4,
   "metadata": {
    "ExecuteTime": {
     "end_time": "2024-04-04T16:05:08.825894600Z",
     "start_time": "2024-04-04T16:05:08.787163Z"
    }
   },
   "outputs": [],
   "source": [
    "big_mountain = ski_data[ski_data.Name == 'Big Mountain Resort']"
   ]
  },
  {
   "cell_type": "code",
   "execution_count": 5,
   "metadata": {
    "ExecuteTime": {
     "end_time": "2024-04-04T16:05:28.883190800Z",
     "start_time": "2024-04-04T16:05:28.806597500Z"
    }
   },
   "outputs": [
    {
     "data": {
      "text/plain": "                                                    124\nName                                Big Mountain Resort\nRegion                                          Montana\nstate                                           Montana\nsummit_elev                                        6817\nvertical_drop                                      2353\nbase_elev                                          4464\ntrams                                                 0\nfastSixes                                             0\nfastQuads                                             3\nquad                                                  2\ntriple                                                6\ndouble                                                0\nsurface                                               3\ntotal_chairs                                         14\nRuns                                              105.0\nTerrainParks                                        4.0\nLongestRun_mi                                       3.3\nSkiableTerrain_ac                                3000.0\nSnow Making_ac                                    600.0\ndaysOpenLastYear                                  123.0\nyearsOpen                                          72.0\naverageSnowfall                                   333.0\nAdultWeekend                                       81.0\nprojectedDaysOpen                                 123.0\nNightSkiing_ac                                    600.0\nresorts_per_state                                    12\nresorts_per_100kcapita                         1.122778\nresorts_per_100ksq_mile                        8.161045\nresort_skiable_area_ac_state_ratio             0.140121\nresort_days_open_state_ratio                   0.129338\nresort_terrain_park_state_ratio                0.148148\nresort_night_skiing_state_ratio                 0.84507\ntotal_chairs_runs_ratio                        0.133333\ntotal_chairs_skiable_ratio                     0.004667\nfastQuads_runs_ratio                           0.028571\nfastQuads_skiable_ratio                           0.001",
      "text/html": "<div>\n<style scoped>\n    .dataframe tbody tr th:only-of-type {\n        vertical-align: middle;\n    }\n\n    .dataframe tbody tr th {\n        vertical-align: top;\n    }\n\n    .dataframe thead th {\n        text-align: right;\n    }\n</style>\n<table border=\"1\" class=\"dataframe\">\n  <thead>\n    <tr style=\"text-align: right;\">\n      <th></th>\n      <th>124</th>\n    </tr>\n  </thead>\n  <tbody>\n    <tr>\n      <th>Name</th>\n      <td>Big Mountain Resort</td>\n    </tr>\n    <tr>\n      <th>Region</th>\n      <td>Montana</td>\n    </tr>\n    <tr>\n      <th>state</th>\n      <td>Montana</td>\n    </tr>\n    <tr>\n      <th>summit_elev</th>\n      <td>6817</td>\n    </tr>\n    <tr>\n      <th>vertical_drop</th>\n      <td>2353</td>\n    </tr>\n    <tr>\n      <th>base_elev</th>\n      <td>4464</td>\n    </tr>\n    <tr>\n      <th>trams</th>\n      <td>0</td>\n    </tr>\n    <tr>\n      <th>fastSixes</th>\n      <td>0</td>\n    </tr>\n    <tr>\n      <th>fastQuads</th>\n      <td>3</td>\n    </tr>\n    <tr>\n      <th>quad</th>\n      <td>2</td>\n    </tr>\n    <tr>\n      <th>triple</th>\n      <td>6</td>\n    </tr>\n    <tr>\n      <th>double</th>\n      <td>0</td>\n    </tr>\n    <tr>\n      <th>surface</th>\n      <td>3</td>\n    </tr>\n    <tr>\n      <th>total_chairs</th>\n      <td>14</td>\n    </tr>\n    <tr>\n      <th>Runs</th>\n      <td>105.0</td>\n    </tr>\n    <tr>\n      <th>TerrainParks</th>\n      <td>4.0</td>\n    </tr>\n    <tr>\n      <th>LongestRun_mi</th>\n      <td>3.3</td>\n    </tr>\n    <tr>\n      <th>SkiableTerrain_ac</th>\n      <td>3000.0</td>\n    </tr>\n    <tr>\n      <th>Snow Making_ac</th>\n      <td>600.0</td>\n    </tr>\n    <tr>\n      <th>daysOpenLastYear</th>\n      <td>123.0</td>\n    </tr>\n    <tr>\n      <th>yearsOpen</th>\n      <td>72.0</td>\n    </tr>\n    <tr>\n      <th>averageSnowfall</th>\n      <td>333.0</td>\n    </tr>\n    <tr>\n      <th>AdultWeekend</th>\n      <td>81.0</td>\n    </tr>\n    <tr>\n      <th>projectedDaysOpen</th>\n      <td>123.0</td>\n    </tr>\n    <tr>\n      <th>NightSkiing_ac</th>\n      <td>600.0</td>\n    </tr>\n    <tr>\n      <th>resorts_per_state</th>\n      <td>12</td>\n    </tr>\n    <tr>\n      <th>resorts_per_100kcapita</th>\n      <td>1.122778</td>\n    </tr>\n    <tr>\n      <th>resorts_per_100ksq_mile</th>\n      <td>8.161045</td>\n    </tr>\n    <tr>\n      <th>resort_skiable_area_ac_state_ratio</th>\n      <td>0.140121</td>\n    </tr>\n    <tr>\n      <th>resort_days_open_state_ratio</th>\n      <td>0.129338</td>\n    </tr>\n    <tr>\n      <th>resort_terrain_park_state_ratio</th>\n      <td>0.148148</td>\n    </tr>\n    <tr>\n      <th>resort_night_skiing_state_ratio</th>\n      <td>0.84507</td>\n    </tr>\n    <tr>\n      <th>total_chairs_runs_ratio</th>\n      <td>0.133333</td>\n    </tr>\n    <tr>\n      <th>total_chairs_skiable_ratio</th>\n      <td>0.004667</td>\n    </tr>\n    <tr>\n      <th>fastQuads_runs_ratio</th>\n      <td>0.028571</td>\n    </tr>\n    <tr>\n      <th>fastQuads_skiable_ratio</th>\n      <td>0.001</td>\n    </tr>\n  </tbody>\n</table>\n</div>"
     },
     "execution_count": 5,
     "metadata": {},
     "output_type": "execute_result"
    }
   ],
   "source": [
    "big_mountain.T"
   ]
  },
  {
   "cell_type": "code",
   "execution_count": 6,
   "metadata": {
    "ExecuteTime": {
     "end_time": "2024-04-04T16:05:45.606147800Z",
     "start_time": "2024-04-04T16:05:45.551522400Z"
    }
   },
   "outputs": [
    {
     "data": {
      "text/plain": "(277, 36)"
     },
     "execution_count": 6,
     "metadata": {},
     "output_type": "execute_result"
    }
   ],
   "source": [
    "ski_data.shape"
   ]
  },
  {
   "cell_type": "code",
   "execution_count": 7,
   "metadata": {
    "ExecuteTime": {
     "end_time": "2024-04-04T16:06:15.903403400Z",
     "start_time": "2024-04-04T16:06:15.859020500Z"
    }
   },
   "outputs": [],
   "source": [
    "ski_data = ski_data[ski_data.Name != 'Big Mountain Resort']"
   ]
  },
  {
   "cell_type": "code",
   "execution_count": 9,
   "metadata": {
    "ExecuteTime": {
     "end_time": "2024-04-04T17:13:40.741950300Z",
     "start_time": "2024-04-04T17:13:40.700345600Z"
    }
   },
   "outputs": [
    {
     "data": {
      "text/plain": "(276, 36)"
     },
     "execution_count": 9,
     "metadata": {},
     "output_type": "execute_result"
    }
   ],
   "source": [
    "ski_data.shape"
   ]
  },
  {
   "cell_type": "markdown",
   "metadata": {},
   "source": [
    "## 4.6 Train/Test Split<a id='4.6_Train/Test_Split'></a>"
   ]
  },
  {
   "cell_type": "markdown",
   "metadata": {},
   "source": [
    "So far, you've treated ski resort data as a single entity. In machine learning, when you train your model on all of your data, you end up with no data set aside to evaluate model performance. You could keep making more and more complex models that fit the data better and better and not realise you were overfitting to that one set of samples. By partitioning the data into training and testing splits, without letting a model (or missing-value imputation) learn anything about the test split, you have a somewhat independent assessment of how your model might perform in the future. An often overlooked subtlety here is that people all too frequently use the test set to assess model performance _and then compare multiple models to pick the best_. This means their overall model selection process is  fitting to one specific data set, now the test split. You could keep going, trying to get better and better performance on that one data set, but that's  where cross-validation becomes especially useful. While training models, a test split is very useful as a final check on expected future performance."
   ]
  },
  {
   "cell_type": "markdown",
   "metadata": {},
   "source": [
    "What partition sizes would you have with a 70/30 train/test split?"
   ]
  },
  {
   "cell_type": "code",
   "execution_count": 11,
   "metadata": {
    "ExecuteTime": {
     "end_time": "2024-04-04T17:53:20.563953400Z",
     "start_time": "2024-04-04T17:53:20.518057500Z"
    }
   },
   "outputs": [
    {
     "data": {
      "text/plain": "(193.2, 82.8)"
     },
     "execution_count": 11,
     "metadata": {},
     "output_type": "execute_result"
    }
   ],
   "source": [
    "len(ski_data) * .7, len(ski_data) * .3"
   ]
  },
  {
   "cell_type": "code",
   "execution_count": 145,
   "metadata": {
    "ExecuteTime": {
     "end_time": "2024-04-05T16:13:41.328901200Z",
     "start_time": "2024-04-05T16:13:41.268778200Z"
    }
   },
   "outputs": [],
   "source": [
    "X_train, X_test, y_train, y_test = train_test_split(ski_data.drop(columns='AdultWeekend'), ski_data.AdultWeekend, test_size=0.3, random_state=47)"
   ]
  },
  {
   "cell_type": "code",
   "execution_count": 146,
   "metadata": {
    "ExecuteTime": {
     "end_time": "2024-04-05T16:13:47.157850Z",
     "start_time": "2024-04-05T16:13:47.049003600Z"
    }
   },
   "outputs": [
    {
     "data": {
      "text/plain": "((193, 35), (83, 35))"
     },
     "execution_count": 146,
     "metadata": {},
     "output_type": "execute_result"
    }
   ],
   "source": [
    "X_train.shape, X_test.shape"
   ]
  },
  {
   "cell_type": "code",
   "execution_count": 15,
   "metadata": {
    "ExecuteTime": {
     "end_time": "2024-04-04T17:59:31.649953200Z",
     "start_time": "2024-04-04T17:59:31.605846700Z"
    }
   },
   "outputs": [
    {
     "data": {
      "text/plain": "((193,), (83,))"
     },
     "execution_count": 15,
     "metadata": {},
     "output_type": "execute_result"
    }
   ],
   "source": [
    "y_train.shape, y_test.shape"
   ]
  },
  {
   "cell_type": "code",
   "execution_count": 147,
   "metadata": {
    "ExecuteTime": {
     "end_time": "2024-04-05T16:14:33.678030700Z",
     "start_time": "2024-04-05T16:14:33.582096900Z"
    }
   },
   "outputs": [
    {
     "data": {
      "text/plain": "((193, 32), (83, 32))"
     },
     "execution_count": 147,
     "metadata": {},
     "output_type": "execute_result"
    }
   ],
   "source": [
    "#Code task 1#\n",
    "#Save the 'Name', 'state', and 'Region' columns from the train/test data into names_train and names_test\n",
    "#Then drop those columns from `X_train` and `X_test`. Use 'inplace=True'\n",
    "names_list = ['Name', 'state', 'Region']\n",
    "names_train = X_train[names_list]\n",
    "names_test = X_test[names_list]\n",
    "X_train.drop(columns=names_list, inplace=True)\n",
    "X_test.drop(columns=names_list, inplace=True)\n",
    "X_train.shape, X_test.shape"
   ]
  },
  {
   "cell_type": "code",
   "execution_count": 24,
   "metadata": {
    "ExecuteTime": {
     "end_time": "2024-04-04T18:15:52.021192300Z",
     "start_time": "2024-04-04T18:15:51.913356400Z"
    }
   },
   "outputs": [
    {
     "data": {
      "text/plain": "summit_elev                             int64\nvertical_drop                           int64\nbase_elev                               int64\ntrams                                   int64\nfastSixes                               int64\nfastQuads                               int64\nquad                                    int64\ntriple                                  int64\ndouble                                  int64\nsurface                                 int64\ntotal_chairs                            int64\nRuns                                  float64\nTerrainParks                          float64\nLongestRun_mi                         float64\nSkiableTerrain_ac                     float64\nSnow Making_ac                        float64\ndaysOpenLastYear                      float64\nyearsOpen                             float64\naverageSnowfall                       float64\nprojectedDaysOpen                     float64\nNightSkiing_ac                        float64\nresorts_per_state                       int64\nresorts_per_100kcapita                float64\nresorts_per_100ksq_mile               float64\nresort_skiable_area_ac_state_ratio    float64\nresort_days_open_state_ratio          float64\nresort_terrain_park_state_ratio       float64\nresort_night_skiing_state_ratio       float64\ntotal_chairs_runs_ratio               float64\ntotal_chairs_skiable_ratio            float64\nfastQuads_runs_ratio                  float64\nfastQuads_skiable_ratio               float64\ndtype: object"
     },
     "execution_count": 24,
     "metadata": {},
     "output_type": "execute_result"
    }
   ],
   "source": [
    "#Code task 2#\n",
    "#Check the `dtypes` attribute of `X_train` to verify all features are numeric\n",
    "X_train.dtypes"
   ]
  },
  {
   "cell_type": "code",
   "execution_count": 25,
   "metadata": {
    "ExecuteTime": {
     "end_time": "2024-04-04T18:16:55.877081500Z",
     "start_time": "2024-04-04T18:16:55.801513500Z"
    }
   },
   "outputs": [
    {
     "data": {
      "text/plain": "summit_elev                             int64\nvertical_drop                           int64\nbase_elev                               int64\ntrams                                   int64\nfastSixes                               int64\nfastQuads                               int64\nquad                                    int64\ntriple                                  int64\ndouble                                  int64\nsurface                                 int64\ntotal_chairs                            int64\nRuns                                  float64\nTerrainParks                          float64\nLongestRun_mi                         float64\nSkiableTerrain_ac                     float64\nSnow Making_ac                        float64\ndaysOpenLastYear                      float64\nyearsOpen                             float64\naverageSnowfall                       float64\nprojectedDaysOpen                     float64\nNightSkiing_ac                        float64\nresorts_per_state                       int64\nresorts_per_100kcapita                float64\nresorts_per_100ksq_mile               float64\nresort_skiable_area_ac_state_ratio    float64\nresort_days_open_state_ratio          float64\nresort_terrain_park_state_ratio       float64\nresort_night_skiing_state_ratio       float64\ntotal_chairs_runs_ratio               float64\ntotal_chairs_skiable_ratio            float64\nfastQuads_runs_ratio                  float64\nfastQuads_skiable_ratio               float64\ndtype: object"
     },
     "execution_count": 25,
     "metadata": {},
     "output_type": "execute_result"
    }
   ],
   "source": [
    "#Code task 3#\n",
    "#Repeat this check for the test split in `X_test`\n",
    "X_test.dtypes"
   ]
  },
  {
   "cell_type": "code",
   "outputs": [
    {
     "data": {
      "text/plain": "dtype('float64')"
     },
     "execution_count": 148,
     "metadata": {},
     "output_type": "execute_result"
    }
   ],
   "source": [
    "y_train.dtypes"
   ],
   "metadata": {
    "collapsed": false,
    "ExecuteTime": {
     "end_time": "2024-04-05T16:15:47.009705100Z",
     "start_time": "2024-04-05T16:15:46.904431900Z"
    }
   },
   "execution_count": 148
  },
  {
   "cell_type": "code",
   "outputs": [
    {
     "name": "stdout",
     "output_type": "stream",
     "text": [
      "108     48.0\n",
      "96      50.0\n",
      "189     68.0\n",
      "232    119.0\n",
      "1       53.0\n",
      "       ...  \n",
      "23      89.0\n",
      "180     55.0\n",
      "72      71.0\n",
      "265     47.0\n",
      "136     58.0\n",
      "Name: AdultWeekend, Length: 193, dtype: float64\n"
     ]
    }
   ],
   "source": [
    "print(y_train)"
   ],
   "metadata": {
    "collapsed": false,
    "ExecuteTime": {
     "end_time": "2024-04-05T16:16:16.403432300Z",
     "start_time": "2024-04-05T16:16:16.293956500Z"
    }
   },
   "execution_count": 149
  },
  {
   "cell_type": "code",
   "outputs": [
    {
     "name": "stdout",
     "output_type": "stream",
     "text": [
      "119     39.0\n",
      "195     44.0\n",
      "115     63.0\n",
      "102     37.0\n",
      "167     59.0\n",
      "       ...  \n",
      "223    116.0\n",
      "76      48.0\n",
      "241     81.0\n",
      "254     87.0\n",
      "45      71.0\n",
      "Name: AdultWeekend, Length: 83, dtype: float64\n"
     ]
    }
   ],
   "source": [
    "print(y_test)"
   ],
   "metadata": {
    "collapsed": false,
    "ExecuteTime": {
     "end_time": "2024-04-05T16:17:10.493253Z",
     "start_time": "2024-04-05T16:17:10.429541400Z"
    }
   },
   "execution_count": 150
  },
  {
   "cell_type": "code",
   "outputs": [
    {
     "name": "stdout",
     "output_type": "stream",
     "text": [
      "     summit_elev  vertical_drop  base_elev  trams  fastSixes  fastQuads  quad  \\\n",
      "108          790            300        500      0          0          0     1   \n",
      "96           900            320        580      0          0          0     0   \n",
      "189         5506            830       4675      0          0          0     3   \n",
      "232        10488           2494       7994      0          0          4     2   \n",
      "1           2600           1540       1200      0          0          0     0   \n",
      "..           ...            ...        ...    ...        ...        ...   ...   \n",
      "23         11952           1162      10790      0          0          0     1   \n",
      "180         2000            700       1300      0          0          0     0   \n",
      "72          2006           1000       1006      0          0          3     0   \n",
      "265         1137            265        872      0          0          0     0   \n",
      "136          850            350        500      0          0          0     0   \n",
      "\n",
      "     triple  double  surface  ...  resorts_per_100kcapita  \\\n",
      "108       0       2        3  ...                0.248243   \n",
      "96        2       1        2  ...                0.280368   \n",
      "189       0       3        2  ...                0.057208   \n",
      "232       1       1        1  ...                0.405495   \n",
      "1         0       4        0  ...                0.410091   \n",
      "..      ...     ...      ...  ...                     ...   \n",
      "23        0       4        2  ...                0.382028   \n",
      "180       1       1        3  ...                0.169635   \n",
      "72        1       0        4  ...                0.159594   \n",
      "265       1       1        5  ...                0.257624   \n",
      "136       3       0        3  ...                1.176721   \n",
      "\n",
      "     resorts_per_100ksq_mile  resort_skiable_area_ac_state_ratio  \\\n",
      "108                16.103800                            0.038462   \n",
      "96                 28.951341                            0.003631   \n",
      "189                11.148479                            0.256757   \n",
      "232                15.312673                            0.039334   \n",
      "1                   0.450867                            0.280702   \n",
      "..                       ...                                 ...   \n",
      "23                 21.134744                            0.018314   \n",
      "180                60.489414                            0.015415   \n",
      "72                104.225886                            0.096055   \n",
      "265                22.902162                            0.034286   \n",
      "136               171.141299                            0.014006   \n",
      "\n",
      "     resort_days_open_state_ratio  resort_terrain_park_state_ratio  \\\n",
      "108                      0.065101                         0.137931   \n",
      "96                       0.019674                         0.015873   \n",
      "189                      0.193676                         0.111111   \n",
      "232                      0.104275                              NaN   \n",
      "1                        0.130435                         0.250000   \n",
      "..                            ...                              ...   \n",
      "23                       0.043892                         0.027027   \n",
      "180                           NaN                         0.027778   \n",
      "72                            NaN                         0.111111   \n",
      "265                      0.044766                         0.100000   \n",
      "136                      0.056849                         0.046512   \n",
      "\n",
      "     resort_night_skiing_state_ratio  total_chairs_runs_ratio  \\\n",
      "108                         0.058824                 0.400000   \n",
      "96                          0.008222                 0.333333   \n",
      "189                         0.283582                 0.470588   \n",
      "232                              NaN                 0.112500   \n",
      "1                                NaN                 0.111111   \n",
      "..                               ...                      ...   \n",
      "23                               NaN                 0.109375   \n",
      "180                         0.025740                 0.227273   \n",
      "72                          0.178388                 0.296296   \n",
      "265                         0.056338                 0.388889   \n",
      "136                         0.061170                 0.352941   \n",
      "\n",
      "     total_chairs_skiable_ratio  fastQuads_runs_ratio  fastQuads_skiable_ratio  \n",
      "108                    0.100000              0.000000                 0.000000  \n",
      "96                     0.312500              0.000000                 0.000000  \n",
      "189                    0.084211              0.000000                 0.000000  \n",
      "232                    0.007500              0.050000                 0.003333  \n",
      "1                      0.006250              0.000000                 0.000000  \n",
      "..                          ...                   ...                      ...  \n",
      "23                     0.008750              0.000000                 0.000000  \n",
      "180                    0.058824              0.000000                 0.000000  \n",
      "72                     0.071429              0.111111                 0.026786  \n",
      "265                    0.116667              0.000000                 0.000000  \n",
      "136                    0.125000              0.000000                 0.000000  \n",
      "\n",
      "[193 rows x 32 columns]\n"
     ]
    }
   ],
   "source": [
    "print(X_train)"
   ],
   "metadata": {
    "collapsed": false,
    "ExecuteTime": {
     "end_time": "2024-04-05T16:18:06.957161400Z",
     "start_time": "2024-04-05T16:18:06.886870600Z"
    }
   },
   "execution_count": 152
  },
  {
   "cell_type": "markdown",
   "metadata": {},
   "source": [
    "You have only numeric features in your X now!"
   ]
  },
  {
   "cell_type": "markdown",
   "metadata": {},
   "source": [
    "## 4.7 Initial Not-Even-A-Model<a id='4.7_Initial_Not-Even-A-Model'></a>"
   ]
  },
  {
   "cell_type": "markdown",
   "metadata": {},
   "source": [
    "A good place to start is to see how good the mean is as a predictor. In other words, what if you simply say your best guess is the average price?"
   ]
  },
  {
   "cell_type": "code",
   "execution_count": 153,
   "metadata": {
    "ExecuteTime": {
     "end_time": "2024-04-05T16:27:57.539241700Z",
     "start_time": "2024-04-05T16:27:57.443222900Z"
    }
   },
   "outputs": [
    {
     "data": {
      "text/plain": "63.811088082901556"
     },
     "execution_count": 153,
     "metadata": {},
     "output_type": "execute_result"
    }
   ],
   "source": [
    "#Code task 4#\n",
    "#Calculate the mean of `y_train`\n",
    "train_mean = y_train.mean()\n",
    "train_mean"
   ]
  },
  {
   "cell_type": "markdown",
   "metadata": {},
   "source": [
    "`sklearn`'s `DummyRegressor` easily does this:"
   ]
  },
  {
   "cell_type": "code",
   "execution_count": 27,
   "metadata": {
    "ExecuteTime": {
     "end_time": "2024-04-04T18:21:22.635221400Z",
     "start_time": "2024-04-04T18:21:22.544274400Z"
    }
   },
   "outputs": [
    {
     "data": {
      "text/plain": "array([[63.81108808]])"
     },
     "execution_count": 27,
     "metadata": {},
     "output_type": "execute_result"
    }
   ],
   "source": [
    "#Code task 5#\n",
    "#Fit the dummy regressor on the training data\n",
    "#Hint, call its `.fit()` method with `X_train` and `y_train` as arguments\n",
    "#Then print the object's `constant_` attribute and verify it's the same as the mean above\n",
    "dumb_reg = DummyRegressor(strategy='mean')\n",
    "dumb_reg.fit(X_train, y_train)\n",
    "dumb_reg.constant_"
   ]
  },
  {
   "cell_type": "markdown",
   "metadata": {},
   "source": [
    "How good is this? How closely does this match, or explain, the actual values? There are many ways of assessing how good one set of values agrees with another, which brings us to the subject of metrics."
   ]
  },
  {
   "cell_type": "markdown",
   "metadata": {},
   "source": [
    "### 4.7.1 Metrics<a id='4.7.1_Metrics'></a>"
   ]
  },
  {
   "cell_type": "markdown",
   "metadata": {},
   "source": [
    "#### 4.7.1.1 R-squared, or coefficient of determination<a id='4.7.1.1_R-squared,_or_coefficient_of_determination'></a>"
   ]
  },
  {
   "cell_type": "markdown",
   "metadata": {},
   "source": [
    "One measure is $R^2$, the [coefficient of determination](https://en.wikipedia.org/wiki/Coefficient_of_determination). This is a measure of the proportion of variance in the dependent variable (our ticket price) that is predicted by our \"model\". The linked Wikipedia articles gives a nice explanation of how negative values can arise. This is frequently a cause of confusion for newcomers who, reasonably, ask how can a squared value be negative?\n",
    "\n",
    "Recall the mean can be denoted by $\\bar{y}$, where\n",
    "\n",
    "$$\\bar{y} = \\frac{1}{n}\\sum_{i=1}^ny_i$$\n",
    "\n",
    "and where $y_i$ are the individual values of the dependent variable.\n",
    "\n",
    "The total sum of squares (error), can be expressed as\n",
    "\n",
    "$$SS_{tot} = \\sum_i(y_i-\\bar{y})^2$$\n",
    "\n",
    "The above formula should be familiar as it's simply the variance without the denominator to scale (divide) by the sample size.\n",
    "\n",
    "The residual sum of squares is similarly defined to be\n",
    "\n",
    "$$SS_{res} = \\sum_i(y_i-\\hat{y})^2$$\n",
    "\n",
    "where $\\hat{y}$ are our predicted values for the depended variable.\n",
    "\n",
    "The coefficient of determination, $R^2$, here is given by\n",
    "\n",
    "$$R^2 = 1 - \\frac{SS_{res}}{SS_{tot}}$$\n",
    "\n",
    "Putting it into words, it's one minus the ratio of the residual variance to the original variance. Thus, the baseline model here, which always predicts $\\bar{y}$, should give $R^2=0$. A model that perfectly predicts the observed values would have no residual error and so give $R^2=1$. Models that do worse than predicting the mean will have increased the sum of squares of residuals and so produce a negative $R^2$."
   ]
  },
  {
   "cell_type": "code",
   "execution_count": 28,
   "metadata": {
    "ExecuteTime": {
     "end_time": "2024-04-04T18:38:49.816222900Z",
     "start_time": "2024-04-04T18:38:49.752227800Z"
    }
   },
   "outputs": [],
   "source": [
    "#Code task 6#\n",
    "#Calculate the R^2 as defined above\n",
    "def r_squared(y, ypred):\n",
    "    \"\"\"R-squared score.\n",
    "    \n",
    "    Calculate the R-squared, or coefficient of determination, of the input.\n",
    "    \n",
    "    Arguments:\n",
    "    y -- the observed values\n",
    "    ypred -- the predicted values\n",
    "    \"\"\"\n",
    "    ybar = np.sum(y) / len(y) #yes, we could use np.mean(y)\n",
    "    sum_sq_tot = np.sum((y - ybar)**2) #total sum of squares error\n",
    "    sum_sq_res = np.sum((y - ypred)**2) #residual sum of squares error\n",
    "    R2 = 1.0 - sum_sq_res / sum_sq_tot\n",
    "    return R2"
   ]
  },
  {
   "cell_type": "markdown",
   "metadata": {},
   "source": [
    "Make your predictions by creating an array of length the size of the training set with the single value of the mean."
   ]
  },
  {
   "cell_type": "code",
   "execution_count": 29,
   "metadata": {
    "ExecuteTime": {
     "end_time": "2024-04-04T18:41:43.340886200Z",
     "start_time": "2024-04-04T18:41:43.283317200Z"
    }
   },
   "outputs": [
    {
     "data": {
      "text/plain": "array([63.81108808, 63.81108808, 63.81108808, 63.81108808, 63.81108808])"
     },
     "execution_count": 29,
     "metadata": {},
     "output_type": "execute_result"
    }
   ],
   "source": [
    "y_tr_pred_ = train_mean * np.ones(len(y_train))\n",
    "y_tr_pred_[:5]"
   ]
  },
  {
   "cell_type": "markdown",
   "metadata": {},
   "source": [
    "Remember the `sklearn` dummy regressor? "
   ]
  },
  {
   "cell_type": "code",
   "execution_count": 30,
   "metadata": {
    "ExecuteTime": {
     "end_time": "2024-04-04T18:42:18.566765600Z",
     "start_time": "2024-04-04T18:42:18.463061400Z"
    }
   },
   "outputs": [
    {
     "data": {
      "text/plain": "array([63.81108808, 63.81108808, 63.81108808, 63.81108808, 63.81108808])"
     },
     "execution_count": 30,
     "metadata": {},
     "output_type": "execute_result"
    }
   ],
   "source": [
    "y_tr_pred = dumb_reg.predict(X_train)\n",
    "y_tr_pred[:5]"
   ]
  },
  {
   "cell_type": "markdown",
   "metadata": {},
   "source": [
    "You can see that `DummyRegressor` produces exactly the same results and saves you having to mess about broadcasting the mean (or whichever other statistic we used - check out the [documentation](https://scikit-learn.org/stable/modules/generated/sklearn.dummy.DummyRegressor.html) to see what's available) to an array of the appropriate length. It also gives you an object with `fit()` and `predict()` methods as well so you can use them as conveniently as any other `sklearn` estimator."
   ]
  },
  {
   "cell_type": "code",
   "execution_count": 31,
   "metadata": {
    "ExecuteTime": {
     "end_time": "2024-04-04T19:09:43.412585400Z",
     "start_time": "2024-04-04T19:09:43.331977700Z"
    }
   },
   "outputs": [
    {
     "data": {
      "text/plain": "0.0"
     },
     "execution_count": 31,
     "metadata": {},
     "output_type": "execute_result"
    }
   ],
   "source": [
    "r_squared(y_train, y_tr_pred)"
   ]
  },
  {
   "cell_type": "markdown",
   "metadata": {},
   "source": [
    "Exactly as expected, if you use the average value as your prediction, you get an $R^2$ of zero _on our training set_. What if you use this \"model\" to predict unseen values from the test set? Remember, of course, that your \"model\" is trained on the training set; you still use the training set mean as your prediction."
   ]
  },
  {
   "cell_type": "markdown",
   "metadata": {},
   "source": [
    "Make your predictions by creating an array of length the size of the test set with the single value of the (training) mean."
   ]
  },
  {
   "cell_type": "code",
   "execution_count": 32,
   "metadata": {
    "ExecuteTime": {
     "end_time": "2024-04-04T19:10:58.580832100Z",
     "start_time": "2024-04-04T19:10:58.489352200Z"
    }
   },
   "outputs": [
    {
     "data": {
      "text/plain": "-0.0031235200417913944"
     },
     "execution_count": 32,
     "metadata": {},
     "output_type": "execute_result"
    }
   ],
   "source": [
    "y_te_pred = train_mean * np.ones(len(y_test))\n",
    "r_squared(y_test, y_te_pred)"
   ]
  },
  {
   "cell_type": "markdown",
   "metadata": {},
   "source": [
    "Generally, you can expect performance on a test set to be slightly worse than on the training set. As you are getting an $R^2$ of zero on the training set, there's nowhere to go but negative!"
   ]
  },
  {
   "cell_type": "markdown",
   "metadata": {},
   "source": [
    "$R^2$ is a common metric, and interpretable in terms of the amount of variance explained, it's less appealing if you want an idea of how \"close\" your predictions are to the true values. Metrics that summarise the difference between predicted and actual values are _mean absolute error_ and _mean squared error_."
   ]
  },
  {
   "cell_type": "markdown",
   "metadata": {},
   "source": [
    "#### 4.7.1.2 Mean Absolute Error<a id='4.7.1.2_Mean_Absolute_Error'></a>"
   ]
  },
  {
   "cell_type": "markdown",
   "metadata": {},
   "source": [
    "This is very simply the average of the absolute errors:\n",
    "\n",
    "$$MAE = \\frac{1}{n}\\sum_i^n|y_i - \\hat{y}|$$"
   ]
  },
  {
   "cell_type": "code",
   "execution_count": 33,
   "metadata": {
    "ExecuteTime": {
     "end_time": "2024-04-04T19:19:45.500666500Z",
     "start_time": "2024-04-04T19:19:45.450864700Z"
    }
   },
   "outputs": [],
   "source": [
    "#Code task 7#\n",
    "#Calculate the MAE as defined above\n",
    "def mae(y, ypred):\n",
    "    \"\"\"Mean absolute error.\n",
    "    \n",
    "    Calculate the mean absolute error of the arguments\n",
    "\n",
    "    Arguments:\n",
    "    y -- the observed values\n",
    "    ypred -- the predicted values\n",
    "    \"\"\"\n",
    "    abs_error = np.abs(y - ypred)\n",
    "    mae = np.mean(abs_error)\n",
    "    return mae"
   ]
  },
  {
   "cell_type": "code",
   "execution_count": 34,
   "metadata": {
    "ExecuteTime": {
     "end_time": "2024-04-04T19:20:43.916418300Z",
     "start_time": "2024-04-04T19:20:43.847142200Z"
    }
   },
   "outputs": [
    {
     "data": {
      "text/plain": "17.92346371714677"
     },
     "execution_count": 34,
     "metadata": {},
     "output_type": "execute_result"
    }
   ],
   "source": [
    "mae(y_train, y_tr_pred)"
   ]
  },
  {
   "cell_type": "code",
   "execution_count": 24,
   "metadata": {},
   "outputs": [
    {
     "data": {
      "text/plain": [
       "19.136142081278486"
      ]
     },
     "execution_count": 24,
     "metadata": {},
     "output_type": "execute_result"
    }
   ],
   "source": [
    "mae(y_test, y_te_pred)"
   ]
  },
  {
   "cell_type": "markdown",
   "metadata": {},
   "source": [
    "Mean absolute error is arguably the most intuitive of all the metrics, this essentially tells you that, on average, you might expect to be off by around \\\\$19 if you guessed ticket price based on an average of known values."
   ]
  },
  {
   "cell_type": "markdown",
   "metadata": {},
   "source": [
    "#### 4.7.1.3 Mean Squared Error<a id='4.7.1.3_Mean_Squared_Error'></a>"
   ]
  },
  {
   "cell_type": "markdown",
   "metadata": {},
   "source": [
    "Another common metric (and an important one internally for optimizing machine learning models) is the mean squared error. This is simply the average of the square of the errors:\n",
    "\n",
    "$$MSE = \\frac{1}{n}\\sum_i^n(y_i - \\hat{y})^2$$"
   ]
  },
  {
   "cell_type": "code",
   "execution_count": 49,
   "metadata": {
    "scrolled": true,
    "ExecuteTime": {
     "end_time": "2024-04-04T19:40:55.075005200Z",
     "start_time": "2024-04-04T19:40:55.013926700Z"
    }
   },
   "outputs": [],
   "source": [
    "#Code task 8#\n",
    "#Calculate the MSE as defined above\n",
    "def mse(y, ypred):\n",
    "    \"\"\"Mean square error.\n",
    "    \n",
    "    Calculate the mean square error of the arguments\n",
    "\n",
    "    Arguments:\n",
    "    y -- the observed values\n",
    "    ypred -- the predicted values\n",
    "    \"\"\"\n",
    "    sq_error = (y - ypred)**2\n",
    "    mse = np.mean(sq_error)\n",
    "    return mse"
   ]
  },
  {
   "cell_type": "code",
   "execution_count": 50,
   "metadata": {
    "ExecuteTime": {
     "end_time": "2024-04-04T19:40:58.258105700Z",
     "start_time": "2024-04-04T19:40:58.183529100Z"
    }
   },
   "outputs": [
    {
     "data": {
      "text/plain": "614.1334096969046"
     },
     "execution_count": 50,
     "metadata": {},
     "output_type": "execute_result"
    }
   ],
   "source": [
    "mse(y_train, y_tr_pred)"
   ]
  },
  {
   "cell_type": "code",
   "execution_count": 51,
   "metadata": {
    "ExecuteTime": {
     "end_time": "2024-04-04T19:41:01.846317700Z",
     "start_time": "2024-04-04T19:41:01.764055700Z"
    }
   },
   "outputs": [
    {
     "data": {
      "text/plain": "581.4365441953483"
     },
     "execution_count": 51,
     "metadata": {},
     "output_type": "execute_result"
    }
   ],
   "source": [
    "mse(y_test, y_te_pred)"
   ]
  },
  {
   "cell_type": "markdown",
   "metadata": {},
   "source": [
    "So here, you get a slightly better MSE on the test set than you did on the train set. And what does a squared error mean anyway? To convert this back to our measurement space, we often take the square root, to form the _root mean square error_ thus:"
   ]
  },
  {
   "cell_type": "code",
   "execution_count": 52,
   "metadata": {
    "ExecuteTime": {
     "end_time": "2024-04-04T19:41:06.106636500Z",
     "start_time": "2024-04-04T19:41:06.023795500Z"
    }
   },
   "outputs": [
    {
     "data": {
      "text/plain": "array([24.78171523, 24.11299534])"
     },
     "execution_count": 52,
     "metadata": {},
     "output_type": "execute_result"
    }
   ],
   "source": [
    "np.sqrt([mse(y_train, y_tr_pred), mse(y_test, y_te_pred)])"
   ]
  },
  {
   "cell_type": "markdown",
   "metadata": {},
   "source": [
    "### 4.7.2 sklearn metrics<a id='4.7.2_sklearn_metrics'></a>"
   ]
  },
  {
   "cell_type": "markdown",
   "metadata": {},
   "source": [
    "Functions are good, but you don't want to have to define functions every time we want to assess performance. `sklearn.metrics` provides many commonly used metrics, included the ones above."
   ]
  },
  {
   "cell_type": "markdown",
   "metadata": {},
   "source": [
    "##### 4.7.2.0.1 R-squared<a id='4.7.2.0.1_R-squared'></a>"
   ]
  },
  {
   "cell_type": "code",
   "execution_count": 53,
   "metadata": {
    "ExecuteTime": {
     "end_time": "2024-04-04T19:41:10.355728100Z",
     "start_time": "2024-04-04T19:41:10.275117900Z"
    }
   },
   "outputs": [
    {
     "data": {
      "text/plain": "(0.0, -0.0031235200417913944)"
     },
     "execution_count": 53,
     "metadata": {},
     "output_type": "execute_result"
    }
   ],
   "source": [
    "r2_score(y_train, y_tr_pred), r2_score(y_test, y_te_pred)"
   ]
  },
  {
   "cell_type": "markdown",
   "metadata": {},
   "source": [
    "##### 4.7.2.0.2 Mean absolute error<a id='4.7.2.0.2_Mean_absolute_error'></a>"
   ]
  },
  {
   "cell_type": "code",
   "execution_count": 54,
   "metadata": {
    "ExecuteTime": {
     "end_time": "2024-04-04T19:41:14.172095900Z",
     "start_time": "2024-04-04T19:41:14.093492700Z"
    }
   },
   "outputs": [
    {
     "data": {
      "text/plain": "(17.92346371714677, 19.136142081278486)"
     },
     "execution_count": 54,
     "metadata": {},
     "output_type": "execute_result"
    }
   ],
   "source": [
    "mean_absolute_error(y_train, y_tr_pred), mean_absolute_error(y_test, y_te_pred)"
   ]
  },
  {
   "cell_type": "markdown",
   "metadata": {},
   "source": [
    "##### 4.7.2.0.3 Mean squared error<a id='4.7.2.0.3_Mean_squared_error'></a>"
   ]
  },
  {
   "cell_type": "code",
   "execution_count": 55,
   "metadata": {
    "ExecuteTime": {
     "end_time": "2024-04-04T19:41:18.341752800Z",
     "start_time": "2024-04-04T19:41:18.266279800Z"
    }
   },
   "outputs": [
    {
     "data": {
      "text/plain": "(614.1334096969046, 581.4365441953483)"
     },
     "execution_count": 55,
     "metadata": {},
     "output_type": "execute_result"
    }
   ],
   "source": [
    "mean_squared_error(y_train, y_tr_pred), mean_squared_error(y_test, y_te_pred)"
   ]
  },
  {
   "cell_type": "markdown",
   "metadata": {},
   "source": [
    "### 4.7.3 Note On Calculating Metrics<a id='4.7.3_Note_On_Calculating_Metrics'></a>"
   ]
  },
  {
   "cell_type": "markdown",
   "metadata": {},
   "source": [
    "When calling functions to calculate metrics, it is important to take care in the order of the arguments. Two of the metrics above actually don't care if the arguments are reversed; one does. Which one cares?"
   ]
  },
  {
   "cell_type": "markdown",
   "metadata": {},
   "source": [
    "In a Jupyter code cell, running `r2_score?` will bring up the docstring for the function, and `r2_score??` will bring up the actual code of the function! Try them and compare the source for `sklearn`'s function with yours. Feel free to explore what happens when you reverse the order of the arguments and compare behaviour of `sklearn`'s function and yours.\n",
    "\n"
   ]
  },
  {
   "cell_type": "code",
   "execution_count": 56,
   "metadata": {
    "ExecuteTime": {
     "end_time": "2024-04-04T19:41:23.746134900Z",
     "start_time": "2024-04-04T19:41:23.677420Z"
    }
   },
   "outputs": [
    {
     "data": {
      "text/plain": "(0.0, -3.041041349306602e+30)"
     },
     "execution_count": 56,
     "metadata": {},
     "output_type": "execute_result"
    }
   ],
   "source": [
    "# train set - sklearn\n",
    "# correct order, incorrect order\n",
    "r2_score(y_train, y_tr_pred), r2_score(y_tr_pred, y_train)"
   ]
  },
  {
   "cell_type": "code",
   "execution_count": 57,
   "metadata": {
    "ExecuteTime": {
     "end_time": "2024-04-04T19:41:28.178537600Z",
     "start_time": "2024-04-04T19:41:28.111896100Z"
    }
   },
   "outputs": [
    {
     "data": {
      "text/plain": "(-0.0031235200417913944, 0.0)"
     },
     "execution_count": 57,
     "metadata": {},
     "output_type": "execute_result"
    }
   ],
   "source": [
    "# test set - sklearn\n",
    "# correct order, incorrect order\n",
    "r2_score(y_test, y_te_pred), r2_score(y_te_pred, y_test)"
   ]
  },
  {
   "cell_type": "code",
   "execution_count": 58,
   "metadata": {
    "ExecuteTime": {
     "end_time": "2024-04-04T19:41:32.596949100Z",
     "start_time": "2024-04-04T19:41:32.524925300Z"
    }
   },
   "outputs": [
    {
     "data": {
      "text/plain": "(0.0, -3.041041349306602e+30)"
     },
     "execution_count": 58,
     "metadata": {},
     "output_type": "execute_result"
    }
   ],
   "source": [
    "# train set - using our homebrew function\n",
    "# correct order, incorrect order\n",
    "r_squared(y_train, y_tr_pred), r_squared(y_tr_pred, y_train)"
   ]
  },
  {
   "cell_type": "code",
   "execution_count": 170,
   "metadata": {
    "ExecuteTime": {
     "end_time": "2024-04-05T17:19:18.198542500Z",
     "start_time": "2024-04-05T17:19:18.111890800Z"
    }
   },
   "outputs": [
    {
     "data": {
      "text/plain": "(0.6376199973170795, 0.5771801803509755)"
     },
     "execution_count": 170,
     "metadata": {},
     "output_type": "execute_result"
    }
   ],
   "source": [
    "# test set - using our homebrew function\n",
    "# correct order, incorrect order\n",
    "r_squared(y_test, y_te_pred), r_squared(y_te_pred, y_test)"
   ]
  },
  {
   "cell_type": "markdown",
   "metadata": {},
   "source": [
    "You can get very different results swapping the argument order. It's worth highlighting this because data scientists do this too much in the real world! Don't be one of them! Frequently the argument order doesn't matter, but it will bite you when you do it with a function that does care. It's sloppy, bad practice and if you don't make a habit of putting arguments in the right order, you will forget!\n",
    "\n",
    "Remember:\n",
    "* argument order matters,\n",
    "* check function syntax with `func?` in a code cell"
   ]
  },
  {
   "cell_type": "markdown",
   "metadata": {},
   "source": [
    "## 4.8 Initial Models<a id='4.8_Initial_Models'></a>"
   ]
  },
  {
   "cell_type": "markdown",
   "metadata": {},
   "source": [
    "### 4.8.1 Imputing missing feature (predictor) values<a id='4.8.1_Imputing_missing_feature_(predictor)_values'></a>"
   ]
  },
  {
   "cell_type": "markdown",
   "metadata": {},
   "source": [
    "Recall when performing EDA, you imputed (filled in) some missing values in pandas. You did this judiciously for exploratory/visualization purposes. You left many missing values in the data. You can impute missing values using scikit-learn, but note that you should learn values to impute from a train split and apply that to the test split to then assess how well your imputation worked."
   ]
  },
  {
   "cell_type": "markdown",
   "metadata": {},
   "source": [
    "#### 4.8.1.1 Impute missing values with median<a id='4.8.1.1_Impute_missing_values_with_median'></a>"
   ]
  },
  {
   "cell_type": "markdown",
   "metadata": {},
   "source": [
    "There's missing values. Recall from your data exploration that many distributions were skewed. Your first thought might be to impute missing values using the median."
   ]
  },
  {
   "cell_type": "markdown",
   "metadata": {},
   "source": [
    "##### 4.8.1.1.1 Learn the values to impute from the train set<a id='4.8.1.1.1_Learn_the_values_to_impute_from_the_train_set'></a>"
   ]
  },
  {
   "cell_type": "code",
   "execution_count": 60,
   "metadata": {
    "ExecuteTime": {
     "end_time": "2024-04-04T19:43:50.714678Z",
     "start_time": "2024-04-04T19:43:50.644483200Z"
    }
   },
   "outputs": [
    {
     "data": {
      "text/plain": "summit_elev                           2215.000000\nvertical_drop                          750.000000\nbase_elev                             1300.000000\ntrams                                    0.000000\nfastSixes                                0.000000\nfastQuads                                0.000000\nquad                                     1.000000\ntriple                                   1.000000\ndouble                                   1.000000\nsurface                                  2.000000\ntotal_chairs                             7.000000\nRuns                                    28.000000\nTerrainParks                             2.000000\nLongestRun_mi                            1.000000\nSkiableTerrain_ac                      170.000000\nSnow Making_ac                          96.500000\ndaysOpenLastYear                       109.000000\nyearsOpen                               57.000000\naverageSnowfall                        120.000000\nprojectedDaysOpen                      115.000000\nNightSkiing_ac                          70.000000\nresorts_per_state                       15.000000\nresorts_per_100kcapita                   0.248243\nresorts_per_100ksq_mile                 22.902162\nresort_skiable_area_ac_state_ratio       0.051458\nresort_days_open_state_ratio             0.071225\nresort_terrain_park_state_ratio          0.069444\nresort_night_skiing_state_ratio          0.077081\ntotal_chairs_runs_ratio                  0.200000\ntotal_chairs_skiable_ratio               0.040323\nfastQuads_runs_ratio                     0.000000\nfastQuads_skiable_ratio                  0.000000\ndtype: float64"
     },
     "execution_count": 60,
     "metadata": {},
     "output_type": "execute_result"
    }
   ],
   "source": [
    "# These are the values we'll use to fill in any missing values\n",
    "X_defaults_median = X_train.median()\n",
    "X_defaults_median"
   ]
  },
  {
   "cell_type": "markdown",
   "metadata": {},
   "source": [
    "##### 4.8.1.1.2 Apply the imputation to both train and test splits<a id='4.8.1.1.2_Apply_the_imputation_to_both_train_and_test_splits'></a>"
   ]
  },
  {
   "cell_type": "code",
   "execution_count": 61,
   "metadata": {
    "ExecuteTime": {
     "end_time": "2024-04-04T19:46:10.920219300Z",
     "start_time": "2024-04-04T19:46:10.841806200Z"
    }
   },
   "outputs": [],
   "source": [
    "#Code task 9#\n",
    "#Call `X_train` and `X_test`'s `fillna()` method, passing `X_defaults_median` as the values to use\n",
    "#Assign the results to `X_tr` and `X_te`, respectively\n",
    "X_tr = X_train.fillna(X_defaults_median)\n",
    "X_te = X_test.fillna(X_defaults_median)"
   ]
  },
  {
   "cell_type": "markdown",
   "metadata": {},
   "source": [
    "##### 4.8.1.1.3 Scale the data<a id='4.8.1.1.3_Scale_the_data'></a>"
   ]
  },
  {
   "cell_type": "markdown",
   "metadata": {},
   "source": [
    "As you have features measured in many different units, with numbers that vary by orders of magnitude, start off by scaling them to put them all on a consistent scale. The [StandardScaler](https://scikit-learn.org/stable/modules/generated/sklearn.preprocessing.StandardScaler.html) scales each feature to zero mean and unit variance."
   ]
  },
  {
   "cell_type": "code",
   "execution_count": 63,
   "metadata": {
    "ExecuteTime": {
     "end_time": "2024-04-04T20:13:28.965999300Z",
     "start_time": "2024-04-04T20:13:28.894229600Z"
    }
   },
   "outputs": [],
   "source": [
    "#Code task 10#\n",
    "#Call the StandardScaler`s fit method on `X_tr` to fit the scaler\n",
    "#then use it's `transform()` method to apply the scaling to both the train and test split\n",
    "#data (`X_tr` and `X_te`), naming the results `X_tr_scaled` and `X_te_scaled`, respectively\n",
    "scaler = StandardScaler()\n",
    "scaler.fit(X_tr)\n",
    "X_tr_scaled = scaler.transform(X_tr)\n",
    "X_te_scaled = scaler.transform(X_te)"
   ]
  },
  {
   "cell_type": "markdown",
   "metadata": {},
   "source": [
    "##### 4.8.1.1.4 Train the model on the train split<a id='4.8.1.1.4_Train_the_model_on_the_train_split'></a>"
   ]
  },
  {
   "cell_type": "code",
   "execution_count": 64,
   "metadata": {
    "ExecuteTime": {
     "end_time": "2024-04-04T20:13:34.920948600Z",
     "start_time": "2024-04-04T20:13:34.826552400Z"
    }
   },
   "outputs": [],
   "source": [
    "lm = LinearRegression().fit(X_tr_scaled, y_train)"
   ]
  },
  {
   "cell_type": "markdown",
   "metadata": {},
   "source": [
    "##### 4.8.1.1.5 Make predictions using the model on both train and test splits<a id='4.8.1.1.5_Make_predictions_using_the_model_on_both_train_and_test_splits'></a>"
   ]
  },
  {
   "cell_type": "code",
   "execution_count": 66,
   "metadata": {
    "ExecuteTime": {
     "end_time": "2024-04-04T20:14:49.118069700Z",
     "start_time": "2024-04-04T20:14:49.013360400Z"
    }
   },
   "outputs": [],
   "source": [
    "#Code task 11#\n",
    "#Call the `predict()` method of the model (`lm`) on both the (scaled) train and test data\n",
    "#Assign the predictions to `y_tr_pred` and `y_te_pred`, respectively\n",
    "y_tr_pred = lm.predict(X_tr_scaled)\n",
    "y_te_pred = lm.predict(X_te_scaled)"
   ]
  },
  {
   "cell_type": "markdown",
   "metadata": {},
   "source": [
    "##### 4.8.1.1.6 Assess model performance<a id='4.8.1.1.6_Assess_model_performance'></a>"
   ]
  },
  {
   "cell_type": "code",
   "execution_count": 67,
   "metadata": {
    "ExecuteTime": {
     "end_time": "2024-04-04T20:14:55.202598900Z",
     "start_time": "2024-04-04T20:14:55.129880800Z"
    }
   },
   "outputs": [
    {
     "data": {
      "text/plain": "(0.8177988515690603, 0.7209725843435149)"
     },
     "execution_count": 67,
     "metadata": {},
     "output_type": "execute_result"
    }
   ],
   "source": [
    "# r^2 - train, test\n",
    "median_r2 = r2_score(y_train, y_tr_pred), r2_score(y_test, y_te_pred)\n",
    "median_r2"
   ]
  },
  {
   "cell_type": "markdown",
   "metadata": {},
   "source": [
    "Recall that you estimated ticket price by simply using a known average. As expected, this produced an $R^2$ of zero for both the training and test set, because $R^2$ tells us how much of the variance you're explaining beyond that of using just the mean, and you were using just the mean. Here we see that our simple linear regression model explains over 80% of the variance on the train set and over 70% on the test set. Clearly you are onto something, although the much lower value for the test set suggests you're overfitting somewhat. This isn't a surprise as you've made no effort to select a parsimonious set of features or deal with multicollinearity in our data."
   ]
  },
  {
   "cell_type": "code",
   "execution_count": 70,
   "metadata": {
    "ExecuteTime": {
     "end_time": "2024-04-04T20:17:34.798923900Z",
     "start_time": "2024-04-04T20:17:34.729978900Z"
    }
   },
   "outputs": [
    {
     "data": {
      "text/plain": "(8.547850301825427, 9.407020118581316)"
     },
     "execution_count": 70,
     "metadata": {},
     "output_type": "execute_result"
    }
   ],
   "source": [
    "#Code task 12#\n",
    "#Now calculate the mean absolute error scores using `sklearn`'s `mean_absolute_error` function\n",
    "# as we did above for R^2\n",
    "# MAE - train, test\n",
    "median_mae = mean_absolute_error(y_train, y_tr_pred), mean_absolute_error(y_test, y_te_pred)\n",
    "median_mae"
   ]
  },
  {
   "cell_type": "markdown",
   "metadata": {},
   "source": [
    "Using this model, then, on average you'd expect to estimate a ticket price within \\\\$9 or so of the real price. This is much, much better than the \\\\$19 from just guessing using the average. There may be something to this machine learning lark after all!"
   ]
  },
  {
   "cell_type": "code",
   "execution_count": 71,
   "metadata": {
    "ExecuteTime": {
     "end_time": "2024-04-04T20:20:12.413210700Z",
     "start_time": "2024-04-04T20:20:12.339747300Z"
    }
   },
   "outputs": [
    {
     "data": {
      "text/plain": "(111.8958125365848, 161.73156451192244)"
     },
     "execution_count": 71,
     "metadata": {},
     "output_type": "execute_result"
    }
   ],
   "source": [
    "#Code task 13#\n",
    "#And also do the same using `sklearn`'s `mean_squared_error`\n",
    "# MSE - train, test\n",
    "median_mse = mean_squared_error(y_train, y_tr_pred), mean_squared_error(y_test, y_te_pred)\n",
    "median_mse"
   ]
  },
  {
   "cell_type": "markdown",
   "metadata": {},
   "source": [
    "#### 4.8.1.2 Impute missing values with the mean<a id='4.8.1.2_Impute_missing_values_with_the_mean'></a>"
   ]
  },
  {
   "cell_type": "markdown",
   "metadata": {},
   "source": [
    "You chose to use the median for filling missing values because of the skew of many of our predictor feature distributions. What if you wanted to try something else, such as the mean?"
   ]
  },
  {
   "cell_type": "markdown",
   "metadata": {},
   "source": [
    "##### 4.8.1.2.1 Learn the values to impute from the train set<a id='4.8.1.2.1_Learn_the_values_to_impute_from_the_train_set'></a>"
   ]
  },
  {
   "cell_type": "code",
   "execution_count": 72,
   "metadata": {
    "ExecuteTime": {
     "end_time": "2024-04-04T20:21:01.596633700Z",
     "start_time": "2024-04-04T20:21:01.512081Z"
    }
   },
   "outputs": [
    {
     "data": {
      "text/plain": "summit_elev                           4074.554404\nvertical_drop                         1043.196891\nbase_elev                             3020.512953\ntrams                                    0.103627\nfastSixes                                0.072539\nfastQuads                                0.673575\nquad                                     1.010363\ntriple                                   1.440415\ndouble                                   1.813472\nsurface                                  2.497409\ntotal_chairs                             7.611399\nRuns                                    41.188482\nTerrainParks                             2.434783\nLongestRun_mi                            1.293122\nSkiableTerrain_ac                      448.785340\nSnow Making_ac                         129.601190\ndaysOpenLastYear                       110.100629\nyearsOpen                               56.559585\naverageSnowfall                        162.310160\nprojectedDaysOpen                      115.920245\nNightSkiing_ac                          86.384615\nresorts_per_state                       16.264249\nresorts_per_100kcapita                   0.424802\nresorts_per_100ksq_mile                 40.957785\nresort_skiable_area_ac_state_ratio       0.097205\nresort_days_open_state_ratio             0.126014\nresort_terrain_park_state_ratio          0.116022\nresort_night_skiing_state_ratio          0.155024\ntotal_chairs_runs_ratio                  0.271441\ntotal_chairs_skiable_ratio               0.070483\nfastQuads_runs_ratio                     0.010401\nfastQuads_skiable_ratio                  0.001633\ndtype: float64"
     },
     "execution_count": 72,
     "metadata": {},
     "output_type": "execute_result"
    }
   ],
   "source": [
    "#Code task 14#\n",
    "#As we did for the median above, calculate mean values for imputing missing values\n",
    "# These are the values we'll use to fill in any missing values\n",
    "X_defaults_mean = X_train.mean()\n",
    "X_defaults_mean"
   ]
  },
  {
   "cell_type": "markdown",
   "metadata": {},
   "source": [
    "By eye, you can immediately tell that your replacement values are much higher than those from using the median."
   ]
  },
  {
   "cell_type": "markdown",
   "metadata": {},
   "source": [
    "##### 4.8.1.2.2 Apply the imputation to both train and test splits<a id='4.8.1.2.2_Apply_the_imputation_to_both_train_and_test_splits'></a>"
   ]
  },
  {
   "cell_type": "code",
   "execution_count": 73,
   "metadata": {
    "ExecuteTime": {
     "end_time": "2024-04-04T20:21:30.480849800Z",
     "start_time": "2024-04-04T20:21:30.396955400Z"
    }
   },
   "outputs": [],
   "source": [
    "X_tr = X_train.fillna(X_defaults_mean)\n",
    "X_te = X_test.fillna(X_defaults_mean)"
   ]
  },
  {
   "cell_type": "markdown",
   "metadata": {},
   "source": [
    "##### 4.8.1.2.3 Scale the data<a id='4.8.1.2.3_Scale_the_data'></a>"
   ]
  },
  {
   "cell_type": "code",
   "execution_count": 74,
   "metadata": {
    "ExecuteTime": {
     "end_time": "2024-04-04T20:21:46.506409300Z",
     "start_time": "2024-04-04T20:21:46.432736Z"
    }
   },
   "outputs": [],
   "source": [
    "scaler = StandardScaler()\n",
    "scaler.fit(X_tr)\n",
    "X_tr_scaled = scaler.transform(X_tr)\n",
    "X_te_scaled = scaler.transform(X_te)"
   ]
  },
  {
   "cell_type": "markdown",
   "metadata": {},
   "source": [
    "##### 4.8.1.2.4 Train the model on the train split<a id='4.8.1.2.4_Train_the_model_on_the_train_split'></a>"
   ]
  },
  {
   "cell_type": "code",
   "execution_count": 75,
   "metadata": {
    "ExecuteTime": {
     "end_time": "2024-04-04T20:21:59.606518600Z",
     "start_time": "2024-04-04T20:21:59.529513300Z"
    }
   },
   "outputs": [],
   "source": [
    "lm = LinearRegression().fit(X_tr_scaled, y_train)"
   ]
  },
  {
   "cell_type": "markdown",
   "metadata": {},
   "source": [
    "##### 4.8.1.2.5 Make predictions using the model on both train and test splits<a id='4.8.1.2.5_Make_predictions_using_the_model_on_both_train_and_test_splits'></a>"
   ]
  },
  {
   "cell_type": "code",
   "execution_count": 76,
   "metadata": {
    "ExecuteTime": {
     "end_time": "2024-04-04T20:22:04.589337500Z",
     "start_time": "2024-04-04T20:22:04.513967900Z"
    }
   },
   "outputs": [],
   "source": [
    "y_tr_pred = lm.predict(X_tr_scaled)\n",
    "y_te_pred = lm.predict(X_te_scaled)"
   ]
  },
  {
   "cell_type": "markdown",
   "metadata": {},
   "source": [
    "##### 4.8.1.2.6 Assess model performance<a id='4.8.1.2.6_Assess_model_performance'></a>"
   ]
  },
  {
   "cell_type": "code",
   "execution_count": 77,
   "metadata": {
    "ExecuteTime": {
     "end_time": "2024-04-04T20:22:13.952156800Z",
     "start_time": "2024-04-04T20:22:13.902966300Z"
    }
   },
   "outputs": [
    {
     "data": {
      "text/plain": "(0.8170154093990025, 0.7163814716959963)"
     },
     "execution_count": 77,
     "metadata": {},
     "output_type": "execute_result"
    }
   ],
   "source": [
    "r2_score(y_train, y_tr_pred), r2_score(y_test, y_te_pred)"
   ]
  },
  {
   "cell_type": "code",
   "execution_count": 78,
   "metadata": {
    "ExecuteTime": {
     "end_time": "2024-04-04T20:22:19.288573600Z",
     "start_time": "2024-04-04T20:22:19.215323400Z"
    }
   },
   "outputs": [
    {
     "data": {
      "text/plain": "(8.536884040670973, 9.41637562578927)"
     },
     "execution_count": 78,
     "metadata": {},
     "output_type": "execute_result"
    }
   ],
   "source": [
    "mean_absolute_error(y_train, y_tr_pred), mean_absolute_error(y_test, y_te_pred)"
   ]
  },
  {
   "cell_type": "code",
   "execution_count": 79,
   "metadata": {
    "ExecuteTime": {
     "end_time": "2024-04-04T20:22:23.992685500Z",
     "start_time": "2024-04-04T20:22:23.916984100Z"
    }
   },
   "outputs": [
    {
     "data": {
      "text/plain": "(112.37695054778276, 164.39269309524346)"
     },
     "execution_count": 79,
     "metadata": {},
     "output_type": "execute_result"
    }
   ],
   "source": [
    "mean_squared_error(y_train, y_tr_pred), mean_squared_error(y_test, y_te_pred)"
   ]
  },
  {
   "cell_type": "markdown",
   "metadata": {},
   "source": [
    "These results don't seem very different to when you used the median for imputing missing values. Perhaps it doesn't make much difference here. Maybe your overtraining dominates. Maybe other feature transformations, such as taking the log, would help. You could try with just a subset of features rather than using all of them as inputs.\n",
    "\n",
    "To perform the median/mean comparison, you copied and pasted a lot of code just to change the function for imputing missing values. It would make more sense to write a function that performed the sequence of steps:\n",
    "1. impute missing values\n",
    "2. scale the features\n",
    "3. train a model\n",
    "4. calculate model performance\n",
    "\n",
    "But these are common steps and `sklearn` provides something much better than writing custom functions."
   ]
  },
  {
   "cell_type": "markdown",
   "metadata": {},
   "source": [
    "### 4.8.2 Pipelines<a id='4.8.2_Pipelines'></a>"
   ]
  },
  {
   "cell_type": "markdown",
   "metadata": {},
   "source": [
    "One of the most important and useful components of `sklearn` is the [pipeline](https://scikit-learn.org/stable/modules/generated/sklearn.pipeline.Pipeline.html). In place of `panda`'s `fillna` DataFrame method, there is `sklearn`'s `SimpleImputer`. Remember the first linear model above performed the steps:\n",
    "\n",
    "1. replace missing values with the median for each feature\n",
    "2. scale the data to zero mean and unit variance\n",
    "3. train a linear regression model\n",
    "\n",
    "and all these steps were trained on the train split and then applied to the test split for assessment.\n",
    "\n",
    "The pipeline below defines exactly those same steps. Crucially, the resultant `Pipeline` object has a `fit()` method and a `predict()` method, just like the `LinearRegression()` object itself. Just as you might create a linear regression model and train it with `.fit()` and predict with `.predict()`, you can wrap the entire process of imputing and feature scaling and regression in a single object you can train with `.fit()` and predict with `.predict()`. And that's basically a pipeline: a model on steroids."
   ]
  },
  {
   "cell_type": "markdown",
   "metadata": {},
   "source": [
    "#### 4.8.2.1 Define the pipeline<a id='4.8.2.1_Define_the_pipeline'></a>"
   ]
  },
  {
   "cell_type": "code",
   "execution_count": 80,
   "metadata": {
    "ExecuteTime": {
     "end_time": "2024-04-04T20:24:53.609410800Z",
     "start_time": "2024-04-04T20:24:53.546891500Z"
    }
   },
   "outputs": [],
   "source": [
    "pipe = make_pipeline(\n",
    "    SimpleImputer(strategy='median'), \n",
    "    StandardScaler(), \n",
    "    LinearRegression()\n",
    ")"
   ]
  },
  {
   "cell_type": "code",
   "execution_count": 81,
   "metadata": {
    "ExecuteTime": {
     "end_time": "2024-04-04T20:24:57.649312500Z",
     "start_time": "2024-04-04T20:24:57.586008600Z"
    }
   },
   "outputs": [
    {
     "data": {
      "text/plain": "sklearn.pipeline.Pipeline"
     },
     "execution_count": 81,
     "metadata": {},
     "output_type": "execute_result"
    }
   ],
   "source": [
    "type(pipe)"
   ]
  },
  {
   "cell_type": "code",
   "execution_count": 82,
   "metadata": {
    "ExecuteTime": {
     "end_time": "2024-04-04T20:25:08.981755700Z",
     "start_time": "2024-04-04T20:25:08.913835400Z"
    }
   },
   "outputs": [
    {
     "data": {
      "text/plain": "(True, True)"
     },
     "execution_count": 82,
     "metadata": {},
     "output_type": "execute_result"
    }
   ],
   "source": [
    "hasattr(pipe, 'fit'), hasattr(pipe, 'predict')"
   ]
  },
  {
   "cell_type": "markdown",
   "metadata": {},
   "source": [
    "#### 4.8.2.2 Fit the pipeline<a id='4.8.2.2_Fit_the_pipeline'></a>"
   ]
  },
  {
   "cell_type": "markdown",
   "metadata": {},
   "source": [
    "Here, a single call to the pipeline's `fit()` method combines the steps of learning the imputation (determining what values to use to fill the missing ones), the scaling (determining the mean to subtract and the variance to divide by), and then training the model. It does this all in the one call with the training data as arguments."
   ]
  },
  {
   "cell_type": "code",
   "execution_count": 83,
   "metadata": {
    "ExecuteTime": {
     "end_time": "2024-04-04T20:26:15.183138Z",
     "start_time": "2024-04-04T20:26:15.105877100Z"
    }
   },
   "outputs": [
    {
     "data": {
      "text/plain": "Pipeline(steps=[('simpleimputer', SimpleImputer(strategy='median')),\n                ('standardscaler', StandardScaler()),\n                ('linearregression', LinearRegression())])",
      "text/html": "<style>#sk-container-id-1 {color: black;}#sk-container-id-1 pre{padding: 0;}#sk-container-id-1 div.sk-toggleable {background-color: white;}#sk-container-id-1 label.sk-toggleable__label {cursor: pointer;display: block;width: 100%;margin-bottom: 0;padding: 0.3em;box-sizing: border-box;text-align: center;}#sk-container-id-1 label.sk-toggleable__label-arrow:before {content: \"▸\";float: left;margin-right: 0.25em;color: #696969;}#sk-container-id-1 label.sk-toggleable__label-arrow:hover:before {color: black;}#sk-container-id-1 div.sk-estimator:hover label.sk-toggleable__label-arrow:before {color: black;}#sk-container-id-1 div.sk-toggleable__content {max-height: 0;max-width: 0;overflow: hidden;text-align: left;background-color: #f0f8ff;}#sk-container-id-1 div.sk-toggleable__content pre {margin: 0.2em;color: black;border-radius: 0.25em;background-color: #f0f8ff;}#sk-container-id-1 input.sk-toggleable__control:checked~div.sk-toggleable__content {max-height: 200px;max-width: 100%;overflow: auto;}#sk-container-id-1 input.sk-toggleable__control:checked~label.sk-toggleable__label-arrow:before {content: \"▾\";}#sk-container-id-1 div.sk-estimator input.sk-toggleable__control:checked~label.sk-toggleable__label {background-color: #d4ebff;}#sk-container-id-1 div.sk-label input.sk-toggleable__control:checked~label.sk-toggleable__label {background-color: #d4ebff;}#sk-container-id-1 input.sk-hidden--visually {border: 0;clip: rect(1px 1px 1px 1px);clip: rect(1px, 1px, 1px, 1px);height: 1px;margin: -1px;overflow: hidden;padding: 0;position: absolute;width: 1px;}#sk-container-id-1 div.sk-estimator {font-family: monospace;background-color: #f0f8ff;border: 1px dotted black;border-radius: 0.25em;box-sizing: border-box;margin-bottom: 0.5em;}#sk-container-id-1 div.sk-estimator:hover {background-color: #d4ebff;}#sk-container-id-1 div.sk-parallel-item::after {content: \"\";width: 100%;border-bottom: 1px solid gray;flex-grow: 1;}#sk-container-id-1 div.sk-label:hover label.sk-toggleable__label {background-color: #d4ebff;}#sk-container-id-1 div.sk-serial::before {content: \"\";position: absolute;border-left: 1px solid gray;box-sizing: border-box;top: 0;bottom: 0;left: 50%;z-index: 0;}#sk-container-id-1 div.sk-serial {display: flex;flex-direction: column;align-items: center;background-color: white;padding-right: 0.2em;padding-left: 0.2em;position: relative;}#sk-container-id-1 div.sk-item {position: relative;z-index: 1;}#sk-container-id-1 div.sk-parallel {display: flex;align-items: stretch;justify-content: center;background-color: white;position: relative;}#sk-container-id-1 div.sk-item::before, #sk-container-id-1 div.sk-parallel-item::before {content: \"\";position: absolute;border-left: 1px solid gray;box-sizing: border-box;top: 0;bottom: 0;left: 50%;z-index: -1;}#sk-container-id-1 div.sk-parallel-item {display: flex;flex-direction: column;z-index: 1;position: relative;background-color: white;}#sk-container-id-1 div.sk-parallel-item:first-child::after {align-self: flex-end;width: 50%;}#sk-container-id-1 div.sk-parallel-item:last-child::after {align-self: flex-start;width: 50%;}#sk-container-id-1 div.sk-parallel-item:only-child::after {width: 0;}#sk-container-id-1 div.sk-dashed-wrapped {border: 1px dashed gray;margin: 0 0.4em 0.5em 0.4em;box-sizing: border-box;padding-bottom: 0.4em;background-color: white;}#sk-container-id-1 div.sk-label label {font-family: monospace;font-weight: bold;display: inline-block;line-height: 1.2em;}#sk-container-id-1 div.sk-label-container {text-align: center;}#sk-container-id-1 div.sk-container {/* jupyter's `normalize.less` sets `[hidden] { display: none; }` but bootstrap.min.css set `[hidden] { display: none !important; }` so we also need the `!important` here to be able to override the default hidden behavior on the sphinx rendered scikit-learn.org. See: https://github.com/scikit-learn/scikit-learn/issues/21755 */display: inline-block !important;position: relative;}#sk-container-id-1 div.sk-text-repr-fallback {display: none;}</style><div id=\"sk-container-id-1\" class=\"sk-top-container\"><div class=\"sk-text-repr-fallback\"><pre>Pipeline(steps=[(&#x27;simpleimputer&#x27;, SimpleImputer(strategy=&#x27;median&#x27;)),\n                (&#x27;standardscaler&#x27;, StandardScaler()),\n                (&#x27;linearregression&#x27;, LinearRegression())])</pre><b>In a Jupyter environment, please rerun this cell to show the HTML representation or trust the notebook. <br />On GitHub, the HTML representation is unable to render, please try loading this page with nbviewer.org.</b></div><div class=\"sk-container\" hidden><div class=\"sk-item sk-dashed-wrapped\"><div class=\"sk-label-container\"><div class=\"sk-label sk-toggleable\"><input class=\"sk-toggleable__control sk-hidden--visually\" id=\"sk-estimator-id-1\" type=\"checkbox\" ><label for=\"sk-estimator-id-1\" class=\"sk-toggleable__label sk-toggleable__label-arrow\">Pipeline</label><div class=\"sk-toggleable__content\"><pre>Pipeline(steps=[(&#x27;simpleimputer&#x27;, SimpleImputer(strategy=&#x27;median&#x27;)),\n                (&#x27;standardscaler&#x27;, StandardScaler()),\n                (&#x27;linearregression&#x27;, LinearRegression())])</pre></div></div></div><div class=\"sk-serial\"><div class=\"sk-item\"><div class=\"sk-estimator sk-toggleable\"><input class=\"sk-toggleable__control sk-hidden--visually\" id=\"sk-estimator-id-2\" type=\"checkbox\" ><label for=\"sk-estimator-id-2\" class=\"sk-toggleable__label sk-toggleable__label-arrow\">SimpleImputer</label><div class=\"sk-toggleable__content\"><pre>SimpleImputer(strategy=&#x27;median&#x27;)</pre></div></div></div><div class=\"sk-item\"><div class=\"sk-estimator sk-toggleable\"><input class=\"sk-toggleable__control sk-hidden--visually\" id=\"sk-estimator-id-3\" type=\"checkbox\" ><label for=\"sk-estimator-id-3\" class=\"sk-toggleable__label sk-toggleable__label-arrow\">StandardScaler</label><div class=\"sk-toggleable__content\"><pre>StandardScaler()</pre></div></div></div><div class=\"sk-item\"><div class=\"sk-estimator sk-toggleable\"><input class=\"sk-toggleable__control sk-hidden--visually\" id=\"sk-estimator-id-4\" type=\"checkbox\" ><label for=\"sk-estimator-id-4\" class=\"sk-toggleable__label sk-toggleable__label-arrow\">LinearRegression</label><div class=\"sk-toggleable__content\"><pre>LinearRegression()</pre></div></div></div></div></div></div></div>"
     },
     "execution_count": 83,
     "metadata": {},
     "output_type": "execute_result"
    }
   ],
   "source": [
    "#Code task 15#\n",
    "#Call the pipe's `fit()` method with `X_train` and `y_train` as arguments\n",
    "pipe.fit(X_train, y_train)"
   ]
  },
  {
   "cell_type": "markdown",
   "metadata": {},
   "source": [
    "#### 4.8.2.3 Make predictions on the train and test sets<a id='4.8.2.3_Make_predictions_on_the_train_and_test_sets'></a>"
   ]
  },
  {
   "cell_type": "code",
   "execution_count": 84,
   "metadata": {
    "ExecuteTime": {
     "end_time": "2024-04-04T20:26:39.517981Z",
     "start_time": "2024-04-04T20:26:39.432891600Z"
    }
   },
   "outputs": [],
   "source": [
    "y_tr_pred = pipe.predict(X_train)\n",
    "y_te_pred = pipe.predict(X_test)"
   ]
  },
  {
   "cell_type": "markdown",
   "metadata": {},
   "source": [
    "#### 4.8.2.4 Assess performance<a id='4.8.2.4_Assess_performance'></a>"
   ]
  },
  {
   "cell_type": "code",
   "execution_count": 87,
   "metadata": {
    "ExecuteTime": {
     "end_time": "2024-04-04T20:27:18.148888Z",
     "start_time": "2024-04-04T20:27:18.092757Z"
    }
   },
   "outputs": [
    {
     "data": {
      "text/plain": "(0.8177988515690603, 0.7209725843435149)"
     },
     "execution_count": 87,
     "metadata": {},
     "output_type": "execute_result"
    }
   ],
   "source": [
    "r2_score(y_train, y_tr_pred), r2_score(y_test, y_te_pred)"
   ]
  },
  {
   "cell_type": "markdown",
   "metadata": {},
   "source": [
    "And compare with your earlier (non-pipeline) result:"
   ]
  },
  {
   "cell_type": "code",
   "execution_count": 88,
   "metadata": {
    "ExecuteTime": {
     "end_time": "2024-04-04T20:27:21.805275700Z",
     "start_time": "2024-04-04T20:27:21.724568900Z"
    }
   },
   "outputs": [
    {
     "data": {
      "text/plain": "(0.8177988515690603, 0.7209725843435149)"
     },
     "execution_count": 88,
     "metadata": {},
     "output_type": "execute_result"
    }
   ],
   "source": [
    "median_r2"
   ]
  },
  {
   "cell_type": "code",
   "execution_count": 89,
   "metadata": {
    "ExecuteTime": {
     "end_time": "2024-04-04T20:27:24.715703500Z",
     "start_time": "2024-04-04T20:27:24.648798300Z"
    }
   },
   "outputs": [
    {
     "data": {
      "text/plain": "(8.547850301825427, 9.407020118581316)"
     },
     "execution_count": 89,
     "metadata": {},
     "output_type": "execute_result"
    }
   ],
   "source": [
    "mean_absolute_error(y_train, y_tr_pred), mean_absolute_error(y_test, y_te_pred)"
   ]
  },
  {
   "cell_type": "code",
   "execution_count": null,
   "metadata": {},
   "outputs": [],
   "source": [
    "Compare with your earlier result:"
   ]
  },
  {
   "cell_type": "code",
   "execution_count": 93,
   "metadata": {
    "ExecuteTime": {
     "end_time": "2024-04-04T20:29:31.184735500Z",
     "start_time": "2024-04-04T20:29:31.100048300Z"
    }
   },
   "outputs": [
    {
     "data": {
      "text/plain": "(8.547850301825427, 9.407020118581316)"
     },
     "execution_count": 93,
     "metadata": {},
     "output_type": "execute_result"
    }
   ],
   "source": [
    "median_mae"
   ]
  },
  {
   "cell_type": "code",
   "execution_count": 94,
   "metadata": {
    "ExecuteTime": {
     "end_time": "2024-04-04T20:29:33.645867200Z",
     "start_time": "2024-04-04T20:29:33.580028200Z"
    }
   },
   "outputs": [
    {
     "data": {
      "text/plain": "(111.8958125365848, 161.73156451192244)"
     },
     "execution_count": 94,
     "metadata": {},
     "output_type": "execute_result"
    }
   ],
   "source": [
    "mean_squared_error(y_train, y_tr_pred), mean_squared_error(y_test, y_te_pred)"
   ]
  },
  {
   "cell_type": "markdown",
   "metadata": {},
   "source": [
    "Compare with your earlier result:"
   ]
  },
  {
   "cell_type": "code",
   "execution_count": 95,
   "metadata": {
    "ExecuteTime": {
     "end_time": "2024-04-04T20:29:37.124914900Z",
     "start_time": "2024-04-04T20:29:37.051991500Z"
    }
   },
   "outputs": [
    {
     "data": {
      "text/plain": "(111.8958125365848, 161.73156451192244)"
     },
     "execution_count": 95,
     "metadata": {},
     "output_type": "execute_result"
    }
   ],
   "source": [
    "median_mse"
   ]
  },
  {
   "cell_type": "markdown",
   "metadata": {},
   "source": [
    "These results confirm the pipeline is doing exactly what's expected, and results are identical to your earlier steps. This allows you to move faster but with confidence."
   ]
  },
  {
   "cell_type": "markdown",
   "metadata": {},
   "source": [
    "## 4.9 Refining The Linear Model<a id='4.9_Refining_The_Linear_Model'></a>"
   ]
  },
  {
   "cell_type": "markdown",
   "metadata": {},
   "source": [
    "You suspected the model was overfitting. This is no real surprise given the number of features you blindly used. It's likely a judicious subset of features would generalize better. `sklearn` has a number of feature selection functions available. The one you'll use here is `SelectKBest` which, as you might guess, selects the k best features. You can read about SelectKBest \n",
    "[here](https://scikit-learn.org/stable/modules/generated/sklearn.feature_selection.SelectKBest.html#sklearn.feature_selection.SelectKBest). `f_regression` is just the [score function](https://scikit-learn.org/stable/modules/generated/sklearn.feature_selection.f_regression.html#sklearn.feature_selection.f_regression) you're using because you're performing regression. It's important to choose an appropriate one for your machine learning task."
   ]
  },
  {
   "cell_type": "markdown",
   "metadata": {},
   "source": [
    "### 4.9.1 Define the pipeline<a id='4.9.1_Define_the_pipeline'></a>"
   ]
  },
  {
   "cell_type": "markdown",
   "metadata": {},
   "source": [
    "Redefine your pipeline to include this feature selection step:"
   ]
  },
  {
   "cell_type": "code",
   "execution_count": 96,
   "metadata": {
    "ExecuteTime": {
     "end_time": "2024-04-04T20:39:13.208905600Z",
     "start_time": "2024-04-04T20:39:13.124380600Z"
    }
   },
   "outputs": [],
   "source": [
    "#Code task 16#\n",
    "#Add `SelectKBest` as a step in the pipeline between `StandardScaler()` and `LinearRegression()`\n",
    "#Don't forget to tell it to use `f_regression` as its score function\n",
    "pipe = make_pipeline(\n",
    "    SimpleImputer(strategy='median'), \n",
    "    StandardScaler(),\n",
    "    SelectKBest(f_regression),\n",
    "    LinearRegression()\n",
    ")"
   ]
  },
  {
   "cell_type": "markdown",
   "metadata": {},
   "source": [
    "### 4.9.2 Fit the pipeline<a id='4.9.2_Fit_the_pipeline'></a>"
   ]
  },
  {
   "cell_type": "code",
   "execution_count": 97,
   "metadata": {
    "ExecuteTime": {
     "end_time": "2024-04-04T20:39:18.574828100Z",
     "start_time": "2024-04-04T20:39:18.483855100Z"
    }
   },
   "outputs": [
    {
     "data": {
      "text/plain": "Pipeline(steps=[('simpleimputer', SimpleImputer(strategy='median')),\n                ('standardscaler', StandardScaler()),\n                ('selectkbest',\n                 SelectKBest(score_func=<function f_regression at 0x000001E75402FE20>)),\n                ('linearregression', LinearRegression())])",
      "text/html": "<style>#sk-container-id-2 {color: black;}#sk-container-id-2 pre{padding: 0;}#sk-container-id-2 div.sk-toggleable {background-color: white;}#sk-container-id-2 label.sk-toggleable__label {cursor: pointer;display: block;width: 100%;margin-bottom: 0;padding: 0.3em;box-sizing: border-box;text-align: center;}#sk-container-id-2 label.sk-toggleable__label-arrow:before {content: \"▸\";float: left;margin-right: 0.25em;color: #696969;}#sk-container-id-2 label.sk-toggleable__label-arrow:hover:before {color: black;}#sk-container-id-2 div.sk-estimator:hover label.sk-toggleable__label-arrow:before {color: black;}#sk-container-id-2 div.sk-toggleable__content {max-height: 0;max-width: 0;overflow: hidden;text-align: left;background-color: #f0f8ff;}#sk-container-id-2 div.sk-toggleable__content pre {margin: 0.2em;color: black;border-radius: 0.25em;background-color: #f0f8ff;}#sk-container-id-2 input.sk-toggleable__control:checked~div.sk-toggleable__content {max-height: 200px;max-width: 100%;overflow: auto;}#sk-container-id-2 input.sk-toggleable__control:checked~label.sk-toggleable__label-arrow:before {content: \"▾\";}#sk-container-id-2 div.sk-estimator input.sk-toggleable__control:checked~label.sk-toggleable__label {background-color: #d4ebff;}#sk-container-id-2 div.sk-label input.sk-toggleable__control:checked~label.sk-toggleable__label {background-color: #d4ebff;}#sk-container-id-2 input.sk-hidden--visually {border: 0;clip: rect(1px 1px 1px 1px);clip: rect(1px, 1px, 1px, 1px);height: 1px;margin: -1px;overflow: hidden;padding: 0;position: absolute;width: 1px;}#sk-container-id-2 div.sk-estimator {font-family: monospace;background-color: #f0f8ff;border: 1px dotted black;border-radius: 0.25em;box-sizing: border-box;margin-bottom: 0.5em;}#sk-container-id-2 div.sk-estimator:hover {background-color: #d4ebff;}#sk-container-id-2 div.sk-parallel-item::after {content: \"\";width: 100%;border-bottom: 1px solid gray;flex-grow: 1;}#sk-container-id-2 div.sk-label:hover label.sk-toggleable__label {background-color: #d4ebff;}#sk-container-id-2 div.sk-serial::before {content: \"\";position: absolute;border-left: 1px solid gray;box-sizing: border-box;top: 0;bottom: 0;left: 50%;z-index: 0;}#sk-container-id-2 div.sk-serial {display: flex;flex-direction: column;align-items: center;background-color: white;padding-right: 0.2em;padding-left: 0.2em;position: relative;}#sk-container-id-2 div.sk-item {position: relative;z-index: 1;}#sk-container-id-2 div.sk-parallel {display: flex;align-items: stretch;justify-content: center;background-color: white;position: relative;}#sk-container-id-2 div.sk-item::before, #sk-container-id-2 div.sk-parallel-item::before {content: \"\";position: absolute;border-left: 1px solid gray;box-sizing: border-box;top: 0;bottom: 0;left: 50%;z-index: -1;}#sk-container-id-2 div.sk-parallel-item {display: flex;flex-direction: column;z-index: 1;position: relative;background-color: white;}#sk-container-id-2 div.sk-parallel-item:first-child::after {align-self: flex-end;width: 50%;}#sk-container-id-2 div.sk-parallel-item:last-child::after {align-self: flex-start;width: 50%;}#sk-container-id-2 div.sk-parallel-item:only-child::after {width: 0;}#sk-container-id-2 div.sk-dashed-wrapped {border: 1px dashed gray;margin: 0 0.4em 0.5em 0.4em;box-sizing: border-box;padding-bottom: 0.4em;background-color: white;}#sk-container-id-2 div.sk-label label {font-family: monospace;font-weight: bold;display: inline-block;line-height: 1.2em;}#sk-container-id-2 div.sk-label-container {text-align: center;}#sk-container-id-2 div.sk-container {/* jupyter's `normalize.less` sets `[hidden] { display: none; }` but bootstrap.min.css set `[hidden] { display: none !important; }` so we also need the `!important` here to be able to override the default hidden behavior on the sphinx rendered scikit-learn.org. See: https://github.com/scikit-learn/scikit-learn/issues/21755 */display: inline-block !important;position: relative;}#sk-container-id-2 div.sk-text-repr-fallback {display: none;}</style><div id=\"sk-container-id-2\" class=\"sk-top-container\"><div class=\"sk-text-repr-fallback\"><pre>Pipeline(steps=[(&#x27;simpleimputer&#x27;, SimpleImputer(strategy=&#x27;median&#x27;)),\n                (&#x27;standardscaler&#x27;, StandardScaler()),\n                (&#x27;selectkbest&#x27;,\n                 SelectKBest(score_func=&lt;function f_regression at 0x000001E75402FE20&gt;)),\n                (&#x27;linearregression&#x27;, LinearRegression())])</pre><b>In a Jupyter environment, please rerun this cell to show the HTML representation or trust the notebook. <br />On GitHub, the HTML representation is unable to render, please try loading this page with nbviewer.org.</b></div><div class=\"sk-container\" hidden><div class=\"sk-item sk-dashed-wrapped\"><div class=\"sk-label-container\"><div class=\"sk-label sk-toggleable\"><input class=\"sk-toggleable__control sk-hidden--visually\" id=\"sk-estimator-id-5\" type=\"checkbox\" ><label for=\"sk-estimator-id-5\" class=\"sk-toggleable__label sk-toggleable__label-arrow\">Pipeline</label><div class=\"sk-toggleable__content\"><pre>Pipeline(steps=[(&#x27;simpleimputer&#x27;, SimpleImputer(strategy=&#x27;median&#x27;)),\n                (&#x27;standardscaler&#x27;, StandardScaler()),\n                (&#x27;selectkbest&#x27;,\n                 SelectKBest(score_func=&lt;function f_regression at 0x000001E75402FE20&gt;)),\n                (&#x27;linearregression&#x27;, LinearRegression())])</pre></div></div></div><div class=\"sk-serial\"><div class=\"sk-item\"><div class=\"sk-estimator sk-toggleable\"><input class=\"sk-toggleable__control sk-hidden--visually\" id=\"sk-estimator-id-6\" type=\"checkbox\" ><label for=\"sk-estimator-id-6\" class=\"sk-toggleable__label sk-toggleable__label-arrow\">SimpleImputer</label><div class=\"sk-toggleable__content\"><pre>SimpleImputer(strategy=&#x27;median&#x27;)</pre></div></div></div><div class=\"sk-item\"><div class=\"sk-estimator sk-toggleable\"><input class=\"sk-toggleable__control sk-hidden--visually\" id=\"sk-estimator-id-7\" type=\"checkbox\" ><label for=\"sk-estimator-id-7\" class=\"sk-toggleable__label sk-toggleable__label-arrow\">StandardScaler</label><div class=\"sk-toggleable__content\"><pre>StandardScaler()</pre></div></div></div><div class=\"sk-item\"><div class=\"sk-estimator sk-toggleable\"><input class=\"sk-toggleable__control sk-hidden--visually\" id=\"sk-estimator-id-8\" type=\"checkbox\" ><label for=\"sk-estimator-id-8\" class=\"sk-toggleable__label sk-toggleable__label-arrow\">SelectKBest</label><div class=\"sk-toggleable__content\"><pre>SelectKBest(score_func=&lt;function f_regression at 0x000001E75402FE20&gt;)</pre></div></div></div><div class=\"sk-item\"><div class=\"sk-estimator sk-toggleable\"><input class=\"sk-toggleable__control sk-hidden--visually\" id=\"sk-estimator-id-9\" type=\"checkbox\" ><label for=\"sk-estimator-id-9\" class=\"sk-toggleable__label sk-toggleable__label-arrow\">LinearRegression</label><div class=\"sk-toggleable__content\"><pre>LinearRegression()</pre></div></div></div></div></div></div></div>"
     },
     "execution_count": 97,
     "metadata": {},
     "output_type": "execute_result"
    }
   ],
   "source": [
    "pipe.fit(X_train, y_train)"
   ]
  },
  {
   "cell_type": "markdown",
   "metadata": {},
   "source": [
    "### 4.9.3 Assess performance on the train and test set<a id='4.9.3_Assess_performance_on_the_train_and_test_set'></a>"
   ]
  },
  {
   "cell_type": "code",
   "execution_count": 98,
   "metadata": {
    "ExecuteTime": {
     "end_time": "2024-04-04T20:39:44.128721200Z",
     "start_time": "2024-04-04T20:39:44.048115600Z"
    }
   },
   "outputs": [],
   "source": [
    "y_tr_pred = pipe.predict(X_train)\n",
    "y_te_pred = pipe.predict(X_test)"
   ]
  },
  {
   "cell_type": "code",
   "execution_count": 99,
   "metadata": {
    "ExecuteTime": {
     "end_time": "2024-04-04T20:39:50.277538500Z",
     "start_time": "2024-04-04T20:39:50.193952400Z"
    }
   },
   "outputs": [
    {
     "data": {
      "text/plain": "(0.7674914326052744, 0.6259877354190833)"
     },
     "execution_count": 99,
     "metadata": {},
     "output_type": "execute_result"
    }
   ],
   "source": [
    "r2_score(y_train, y_tr_pred), r2_score(y_test, y_te_pred)"
   ]
  },
  {
   "cell_type": "code",
   "execution_count": 100,
   "metadata": {
    "ExecuteTime": {
     "end_time": "2024-04-04T20:39:57.532929200Z",
     "start_time": "2024-04-04T20:39:57.432905900Z"
    }
   },
   "outputs": [
    {
     "data": {
      "text/plain": "(9.501495079727485, 11.201830190332057)"
     },
     "execution_count": 100,
     "metadata": {},
     "output_type": "execute_result"
    }
   ],
   "source": [
    "mean_absolute_error(y_train, y_tr_pred), mean_absolute_error(y_test, y_te_pred)"
   ]
  },
  {
   "cell_type": "markdown",
   "metadata": {},
   "source": [
    "This has made things worse! Clearly selecting a subset of features has an impact on performance. `SelectKBest` defaults to k=10. You've just seen that 10 is worse than using all features. What is the best k? You could create a new pipeline with a different value of k:"
   ]
  },
  {
   "cell_type": "markdown",
   "metadata": {},
   "source": [
    "### 4.9.4 Define a new pipeline to select a different number of features<a id='4.9.4_Define_a_new_pipeline_to_select_a_different_number_of_features'></a>"
   ]
  },
  {
   "cell_type": "code",
   "execution_count": 101,
   "metadata": {
    "ExecuteTime": {
     "end_time": "2024-04-04T20:41:18.124860500Z",
     "start_time": "2024-04-04T20:41:18.024331800Z"
    }
   },
   "outputs": [],
   "source": [
    "#Code task 17#\n",
    "#Modify the `SelectKBest` step to use a value of 15 for k\n",
    "pipe15 = make_pipeline(\n",
    "    SimpleImputer(strategy='median'), \n",
    "    StandardScaler(),\n",
    "    SelectKBest(f_regression, k=15),\n",
    "    LinearRegression()\n",
    ")"
   ]
  },
  {
   "cell_type": "markdown",
   "metadata": {},
   "source": [
    "### 4.9.5 Fit the pipeline<a id='4.9.5_Fit_the_pipeline'></a>"
   ]
  },
  {
   "cell_type": "code",
   "execution_count": 102,
   "metadata": {
    "ExecuteTime": {
     "end_time": "2024-04-04T20:41:23.033874Z",
     "start_time": "2024-04-04T20:41:22.931237300Z"
    }
   },
   "outputs": [
    {
     "data": {
      "text/plain": "Pipeline(steps=[('simpleimputer', SimpleImputer(strategy='median')),\n                ('standardscaler', StandardScaler()),\n                ('selectkbest',\n                 SelectKBest(k=15,\n                             score_func=<function f_regression at 0x000001E75402FE20>)),\n                ('linearregression', LinearRegression())])",
      "text/html": "<style>#sk-container-id-3 {color: black;}#sk-container-id-3 pre{padding: 0;}#sk-container-id-3 div.sk-toggleable {background-color: white;}#sk-container-id-3 label.sk-toggleable__label {cursor: pointer;display: block;width: 100%;margin-bottom: 0;padding: 0.3em;box-sizing: border-box;text-align: center;}#sk-container-id-3 label.sk-toggleable__label-arrow:before {content: \"▸\";float: left;margin-right: 0.25em;color: #696969;}#sk-container-id-3 label.sk-toggleable__label-arrow:hover:before {color: black;}#sk-container-id-3 div.sk-estimator:hover label.sk-toggleable__label-arrow:before {color: black;}#sk-container-id-3 div.sk-toggleable__content {max-height: 0;max-width: 0;overflow: hidden;text-align: left;background-color: #f0f8ff;}#sk-container-id-3 div.sk-toggleable__content pre {margin: 0.2em;color: black;border-radius: 0.25em;background-color: #f0f8ff;}#sk-container-id-3 input.sk-toggleable__control:checked~div.sk-toggleable__content {max-height: 200px;max-width: 100%;overflow: auto;}#sk-container-id-3 input.sk-toggleable__control:checked~label.sk-toggleable__label-arrow:before {content: \"▾\";}#sk-container-id-3 div.sk-estimator input.sk-toggleable__control:checked~label.sk-toggleable__label {background-color: #d4ebff;}#sk-container-id-3 div.sk-label input.sk-toggleable__control:checked~label.sk-toggleable__label {background-color: #d4ebff;}#sk-container-id-3 input.sk-hidden--visually {border: 0;clip: rect(1px 1px 1px 1px);clip: rect(1px, 1px, 1px, 1px);height: 1px;margin: -1px;overflow: hidden;padding: 0;position: absolute;width: 1px;}#sk-container-id-3 div.sk-estimator {font-family: monospace;background-color: #f0f8ff;border: 1px dotted black;border-radius: 0.25em;box-sizing: border-box;margin-bottom: 0.5em;}#sk-container-id-3 div.sk-estimator:hover {background-color: #d4ebff;}#sk-container-id-3 div.sk-parallel-item::after {content: \"\";width: 100%;border-bottom: 1px solid gray;flex-grow: 1;}#sk-container-id-3 div.sk-label:hover label.sk-toggleable__label {background-color: #d4ebff;}#sk-container-id-3 div.sk-serial::before {content: \"\";position: absolute;border-left: 1px solid gray;box-sizing: border-box;top: 0;bottom: 0;left: 50%;z-index: 0;}#sk-container-id-3 div.sk-serial {display: flex;flex-direction: column;align-items: center;background-color: white;padding-right: 0.2em;padding-left: 0.2em;position: relative;}#sk-container-id-3 div.sk-item {position: relative;z-index: 1;}#sk-container-id-3 div.sk-parallel {display: flex;align-items: stretch;justify-content: center;background-color: white;position: relative;}#sk-container-id-3 div.sk-item::before, #sk-container-id-3 div.sk-parallel-item::before {content: \"\";position: absolute;border-left: 1px solid gray;box-sizing: border-box;top: 0;bottom: 0;left: 50%;z-index: -1;}#sk-container-id-3 div.sk-parallel-item {display: flex;flex-direction: column;z-index: 1;position: relative;background-color: white;}#sk-container-id-3 div.sk-parallel-item:first-child::after {align-self: flex-end;width: 50%;}#sk-container-id-3 div.sk-parallel-item:last-child::after {align-self: flex-start;width: 50%;}#sk-container-id-3 div.sk-parallel-item:only-child::after {width: 0;}#sk-container-id-3 div.sk-dashed-wrapped {border: 1px dashed gray;margin: 0 0.4em 0.5em 0.4em;box-sizing: border-box;padding-bottom: 0.4em;background-color: white;}#sk-container-id-3 div.sk-label label {font-family: monospace;font-weight: bold;display: inline-block;line-height: 1.2em;}#sk-container-id-3 div.sk-label-container {text-align: center;}#sk-container-id-3 div.sk-container {/* jupyter's `normalize.less` sets `[hidden] { display: none; }` but bootstrap.min.css set `[hidden] { display: none !important; }` so we also need the `!important` here to be able to override the default hidden behavior on the sphinx rendered scikit-learn.org. See: https://github.com/scikit-learn/scikit-learn/issues/21755 */display: inline-block !important;position: relative;}#sk-container-id-3 div.sk-text-repr-fallback {display: none;}</style><div id=\"sk-container-id-3\" class=\"sk-top-container\"><div class=\"sk-text-repr-fallback\"><pre>Pipeline(steps=[(&#x27;simpleimputer&#x27;, SimpleImputer(strategy=&#x27;median&#x27;)),\n                (&#x27;standardscaler&#x27;, StandardScaler()),\n                (&#x27;selectkbest&#x27;,\n                 SelectKBest(k=15,\n                             score_func=&lt;function f_regression at 0x000001E75402FE20&gt;)),\n                (&#x27;linearregression&#x27;, LinearRegression())])</pre><b>In a Jupyter environment, please rerun this cell to show the HTML representation or trust the notebook. <br />On GitHub, the HTML representation is unable to render, please try loading this page with nbviewer.org.</b></div><div class=\"sk-container\" hidden><div class=\"sk-item sk-dashed-wrapped\"><div class=\"sk-label-container\"><div class=\"sk-label sk-toggleable\"><input class=\"sk-toggleable__control sk-hidden--visually\" id=\"sk-estimator-id-10\" type=\"checkbox\" ><label for=\"sk-estimator-id-10\" class=\"sk-toggleable__label sk-toggleable__label-arrow\">Pipeline</label><div class=\"sk-toggleable__content\"><pre>Pipeline(steps=[(&#x27;simpleimputer&#x27;, SimpleImputer(strategy=&#x27;median&#x27;)),\n                (&#x27;standardscaler&#x27;, StandardScaler()),\n                (&#x27;selectkbest&#x27;,\n                 SelectKBest(k=15,\n                             score_func=&lt;function f_regression at 0x000001E75402FE20&gt;)),\n                (&#x27;linearregression&#x27;, LinearRegression())])</pre></div></div></div><div class=\"sk-serial\"><div class=\"sk-item\"><div class=\"sk-estimator sk-toggleable\"><input class=\"sk-toggleable__control sk-hidden--visually\" id=\"sk-estimator-id-11\" type=\"checkbox\" ><label for=\"sk-estimator-id-11\" class=\"sk-toggleable__label sk-toggleable__label-arrow\">SimpleImputer</label><div class=\"sk-toggleable__content\"><pre>SimpleImputer(strategy=&#x27;median&#x27;)</pre></div></div></div><div class=\"sk-item\"><div class=\"sk-estimator sk-toggleable\"><input class=\"sk-toggleable__control sk-hidden--visually\" id=\"sk-estimator-id-12\" type=\"checkbox\" ><label for=\"sk-estimator-id-12\" class=\"sk-toggleable__label sk-toggleable__label-arrow\">StandardScaler</label><div class=\"sk-toggleable__content\"><pre>StandardScaler()</pre></div></div></div><div class=\"sk-item\"><div class=\"sk-estimator sk-toggleable\"><input class=\"sk-toggleable__control sk-hidden--visually\" id=\"sk-estimator-id-13\" type=\"checkbox\" ><label for=\"sk-estimator-id-13\" class=\"sk-toggleable__label sk-toggleable__label-arrow\">SelectKBest</label><div class=\"sk-toggleable__content\"><pre>SelectKBest(k=15, score_func=&lt;function f_regression at 0x000001E75402FE20&gt;)</pre></div></div></div><div class=\"sk-item\"><div class=\"sk-estimator sk-toggleable\"><input class=\"sk-toggleable__control sk-hidden--visually\" id=\"sk-estimator-id-14\" type=\"checkbox\" ><label for=\"sk-estimator-id-14\" class=\"sk-toggleable__label sk-toggleable__label-arrow\">LinearRegression</label><div class=\"sk-toggleable__content\"><pre>LinearRegression()</pre></div></div></div></div></div></div></div>"
     },
     "execution_count": 102,
     "metadata": {},
     "output_type": "execute_result"
    }
   ],
   "source": [
    "pipe15.fit(X_train, y_train)"
   ]
  },
  {
   "cell_type": "markdown",
   "metadata": {},
   "source": [
    "### 4.9.6 Assess performance on train and test data<a id='4.9.6_Assess_performance_on_train_and_test_data'></a>"
   ]
  },
  {
   "cell_type": "code",
   "execution_count": 103,
   "metadata": {
    "ExecuteTime": {
     "end_time": "2024-04-04T20:41:33.277907200Z",
     "start_time": "2024-04-04T20:41:33.220287400Z"
    }
   },
   "outputs": [],
   "source": [
    "y_tr_pred = pipe15.predict(X_train)\n",
    "y_te_pred = pipe15.predict(X_test)"
   ]
  },
  {
   "cell_type": "code",
   "execution_count": 104,
   "metadata": {
    "ExecuteTime": {
     "end_time": "2024-04-04T20:41:36.699796300Z",
     "start_time": "2024-04-04T20:41:36.616369900Z"
    }
   },
   "outputs": [
    {
     "data": {
      "text/plain": "(0.7924096060483825, 0.6376199973170795)"
     },
     "execution_count": 104,
     "metadata": {},
     "output_type": "execute_result"
    }
   ],
   "source": [
    "r2_score(y_train, y_tr_pred), r2_score(y_test, y_te_pred)"
   ]
  },
  {
   "cell_type": "code",
   "execution_count": 105,
   "metadata": {
    "ExecuteTime": {
     "end_time": "2024-04-04T20:41:42.457061Z",
     "start_time": "2024-04-04T20:41:42.376895200Z"
    }
   },
   "outputs": [
    {
     "data": {
      "text/plain": "(9.211767769307116, 10.488246867294356)"
     },
     "execution_count": 105,
     "metadata": {},
     "output_type": "execute_result"
    }
   ],
   "source": [
    "mean_absolute_error(y_train, y_tr_pred), mean_absolute_error(y_test, y_te_pred)"
   ]
  },
  {
   "cell_type": "markdown",
   "metadata": {},
   "source": [
    "You could keep going, trying different values of k, training a model, measuring performance on the test set, and then picking the model with the best test set performance. There's a fundamental problem with this approach: _you're tuning the model to the arbitrary test set_! If you continue this way you'll end up with a model works well on the particular quirks of our test set _but fails to generalize to new data_. The whole point of keeping a test set is for it to be a set of that new data, to check how well our model might perform on data it hasn't seen.\n",
    "\n",
    "The way around this is a technique called _cross-validation_. You partition the training set into k folds, train our model on k-1 of those folds, and calculate performance on the fold not used in training. This procedure then cycles through k times with a different fold held back each time. Thus you end up building k models on k sets of data with k estimates of how the model performs on unseen data but without having to touch the test set."
   ]
  },
  {
   "cell_type": "markdown",
   "metadata": {},
   "source": [
    "### 4.9.7 Assessing performance using cross-validation<a id='4.9.7_Assessing_performance_using_cross-validation'></a>"
   ]
  },
  {
   "cell_type": "code",
   "execution_count": 106,
   "metadata": {
    "ExecuteTime": {
     "end_time": "2024-04-04T20:43:17.426579800Z",
     "start_time": "2024-04-04T20:43:17.335188100Z"
    }
   },
   "outputs": [],
   "source": [
    "cv_results = cross_validate(pipe15, X_train, y_train, cv=5)"
   ]
  },
  {
   "cell_type": "code",
   "execution_count": 107,
   "metadata": {
    "ExecuteTime": {
     "end_time": "2024-04-04T20:43:21.871529500Z",
     "start_time": "2024-04-04T20:43:21.778359600Z"
    }
   },
   "outputs": [
    {
     "data": {
      "text/plain": "array([0.63760862, 0.72831381, 0.74443537, 0.5487915 , 0.50441472])"
     },
     "execution_count": 107,
     "metadata": {},
     "output_type": "execute_result"
    }
   ],
   "source": [
    "cv_scores = cv_results['test_score']\n",
    "cv_scores"
   ]
  },
  {
   "cell_type": "markdown",
   "metadata": {},
   "source": [
    "Without using the same random state for initializing the CV folds, your actual numbers will be different."
   ]
  },
  {
   "cell_type": "code",
   "execution_count": 108,
   "metadata": {
    "ExecuteTime": {
     "end_time": "2024-04-04T20:43:36.255488900Z",
     "start_time": "2024-04-04T20:43:36.193680200Z"
    }
   },
   "outputs": [
    {
     "data": {
      "text/plain": "(0.6327128053007863, 0.09502487849877687)"
     },
     "execution_count": 108,
     "metadata": {},
     "output_type": "execute_result"
    }
   ],
   "source": [
    "np.mean(cv_scores), np.std(cv_scores)"
   ]
  },
  {
   "cell_type": "markdown",
   "metadata": {},
   "source": [
    "These results highlight that assessing model performance in inherently open to variability. You'll get different results depending on the quirks of which points are in which fold. An advantage of this is that you can also obtain an estimate of the variability, or uncertainty, in your performance estimate."
   ]
  },
  {
   "cell_type": "code",
   "execution_count": 109,
   "metadata": {
    "ExecuteTime": {
     "end_time": "2024-04-04T20:44:08.432231100Z",
     "start_time": "2024-04-04T20:44:08.355622Z"
    }
   },
   "outputs": [
    {
     "data": {
      "text/plain": "array([0.44, 0.82])"
     },
     "execution_count": 109,
     "metadata": {},
     "output_type": "execute_result"
    }
   ],
   "source": [
    "np.round((np.mean(cv_scores) - 2 * np.std(cv_scores), np.mean(cv_scores) + 2 * np.std(cv_scores)), 2)"
   ]
  },
  {
   "cell_type": "markdown",
   "metadata": {},
   "source": [
    "### 4.9.8 Hyperparameter search using GridSearchCV<a id='4.9.8_Hyperparameter_search_using_GridSearchCV'></a>"
   ]
  },
  {
   "cell_type": "markdown",
   "metadata": {},
   "source": [
    "Pulling the above together, we have:\n",
    "* a pipeline that\n",
    "    * imputes missing values\n",
    "    * scales the data\n",
    "    * selects the k best features\n",
    "    * trains a linear regression model\n",
    "* a technique (cross-validation) for estimating model performance\n",
    "\n",
    "Now you want to use cross-validation for multiple values of k and use cross-validation to pick the value of k that gives the best performance. `make_pipeline` automatically names each step as the lowercase name of the step and the parameters of the step are then accessed by appending a double underscore followed by the parameter name. You know the name of the step will be 'selectkbest' and you know the parameter is 'k'.\n",
    "\n",
    "You can also list the names of all the parameters in a pipeline like this:"
   ]
  },
  {
   "cell_type": "code",
   "execution_count": 111,
   "metadata": {
    "ExecuteTime": {
     "end_time": "2024-04-04T20:45:39.122015Z",
     "start_time": "2024-04-04T20:45:39.039823100Z"
    }
   },
   "outputs": [
    {
     "data": {
      "text/plain": "dict_keys(['memory', 'steps', 'verbose', 'simpleimputer', 'standardscaler', 'selectkbest', 'linearregression', 'simpleimputer__add_indicator', 'simpleimputer__copy', 'simpleimputer__fill_value', 'simpleimputer__keep_empty_features', 'simpleimputer__missing_values', 'simpleimputer__strategy', 'standardscaler__copy', 'standardscaler__with_mean', 'standardscaler__with_std', 'selectkbest__k', 'selectkbest__score_func', 'linearregression__copy_X', 'linearregression__fit_intercept', 'linearregression__n_jobs', 'linearregression__positive'])"
     },
     "execution_count": 111,
     "metadata": {},
     "output_type": "execute_result"
    }
   ],
   "source": [
    "#Code task 18#\n",
    "#Call `pipe`'s `get_params()` method to get a dict of available parameters and print their names\n",
    "#using dict's `keys()` method\n",
    "pipe.get_params().keys()"
   ]
  },
  {
   "cell_type": "markdown",
   "metadata": {},
   "source": [
    "The above can be particularly useful as your pipelines becomes more complex (you can even nest pipelines within pipelines)."
   ]
  },
  {
   "cell_type": "code",
   "execution_count": 112,
   "metadata": {
    "ExecuteTime": {
     "end_time": "2024-04-04T20:46:56.770313500Z",
     "start_time": "2024-04-04T20:46:56.698792400Z"
    }
   },
   "outputs": [],
   "source": [
    "k = [k+1 for k in range(len(X_train.columns))]\n",
    "grid_params = {'selectkbest__k': k}"
   ]
  },
  {
   "cell_type": "markdown",
   "metadata": {},
   "source": [
    "Now you have a range of `k` to investigate. Is 1 feature best? 2? 3? 4? All of them? You could write a for loop and iterate over each possible value, doing all the housekeeping ourselves to track the best value of k. But this is  a common task so there's a built in function in `sklearn`. This is [`GridSearchCV`](https://scikit-learn.org/stable/modules/generated/sklearn.model_selection.GridSearchCV.html).\n",
    "This takes the pipeline object, in fact it takes anything with a `.fit()` and `.predict()` method. In simple cases with no feature selection or imputation or feature scaling etc. you may see the classifier or regressor object itself directly passed into `GridSearchCV`. The other key input is the parameters and values to search over. Optional parameters include the cross-validation strategy and number of CPUs to use."
   ]
  },
  {
   "cell_type": "code",
   "execution_count": 113,
   "metadata": {
    "ExecuteTime": {
     "end_time": "2024-04-04T20:48:04.118069100Z",
     "start_time": "2024-04-04T20:48:04.068553900Z"
    }
   },
   "outputs": [],
   "source": [
    "lr_grid_cv = GridSearchCV(pipe, param_grid=grid_params, cv=5, n_jobs=-1)"
   ]
  },
  {
   "cell_type": "code",
   "execution_count": 114,
   "metadata": {
    "ExecuteTime": {
     "end_time": "2024-04-04T20:48:09.058514Z",
     "start_time": "2024-04-04T20:48:06.012311500Z"
    }
   },
   "outputs": [
    {
     "data": {
      "text/plain": "GridSearchCV(cv=5,\n             estimator=Pipeline(steps=[('simpleimputer',\n                                        SimpleImputer(strategy='median')),\n                                       ('standardscaler', StandardScaler()),\n                                       ('selectkbest',\n                                        SelectKBest(score_func=<function f_regression at 0x000001E75402FE20>)),\n                                       ('linearregression',\n                                        LinearRegression())]),\n             n_jobs=-1,\n             param_grid={'selectkbest__k': [1, 2, 3, 4, 5, 6, 7, 8, 9, 10, 11,\n                                            12, 13, 14, 15, 16, 17, 18, 19, 20,\n                                            21, 22, 23, 24, 25, 26, 27, 28, 29,\n                                            30, ...]})",
      "text/html": "<style>#sk-container-id-4 {color: black;}#sk-container-id-4 pre{padding: 0;}#sk-container-id-4 div.sk-toggleable {background-color: white;}#sk-container-id-4 label.sk-toggleable__label {cursor: pointer;display: block;width: 100%;margin-bottom: 0;padding: 0.3em;box-sizing: border-box;text-align: center;}#sk-container-id-4 label.sk-toggleable__label-arrow:before {content: \"▸\";float: left;margin-right: 0.25em;color: #696969;}#sk-container-id-4 label.sk-toggleable__label-arrow:hover:before {color: black;}#sk-container-id-4 div.sk-estimator:hover label.sk-toggleable__label-arrow:before {color: black;}#sk-container-id-4 div.sk-toggleable__content {max-height: 0;max-width: 0;overflow: hidden;text-align: left;background-color: #f0f8ff;}#sk-container-id-4 div.sk-toggleable__content pre {margin: 0.2em;color: black;border-radius: 0.25em;background-color: #f0f8ff;}#sk-container-id-4 input.sk-toggleable__control:checked~div.sk-toggleable__content {max-height: 200px;max-width: 100%;overflow: auto;}#sk-container-id-4 input.sk-toggleable__control:checked~label.sk-toggleable__label-arrow:before {content: \"▾\";}#sk-container-id-4 div.sk-estimator input.sk-toggleable__control:checked~label.sk-toggleable__label {background-color: #d4ebff;}#sk-container-id-4 div.sk-label input.sk-toggleable__control:checked~label.sk-toggleable__label {background-color: #d4ebff;}#sk-container-id-4 input.sk-hidden--visually {border: 0;clip: rect(1px 1px 1px 1px);clip: rect(1px, 1px, 1px, 1px);height: 1px;margin: -1px;overflow: hidden;padding: 0;position: absolute;width: 1px;}#sk-container-id-4 div.sk-estimator {font-family: monospace;background-color: #f0f8ff;border: 1px dotted black;border-radius: 0.25em;box-sizing: border-box;margin-bottom: 0.5em;}#sk-container-id-4 div.sk-estimator:hover {background-color: #d4ebff;}#sk-container-id-4 div.sk-parallel-item::after {content: \"\";width: 100%;border-bottom: 1px solid gray;flex-grow: 1;}#sk-container-id-4 div.sk-label:hover label.sk-toggleable__label {background-color: #d4ebff;}#sk-container-id-4 div.sk-serial::before {content: \"\";position: absolute;border-left: 1px solid gray;box-sizing: border-box;top: 0;bottom: 0;left: 50%;z-index: 0;}#sk-container-id-4 div.sk-serial {display: flex;flex-direction: column;align-items: center;background-color: white;padding-right: 0.2em;padding-left: 0.2em;position: relative;}#sk-container-id-4 div.sk-item {position: relative;z-index: 1;}#sk-container-id-4 div.sk-parallel {display: flex;align-items: stretch;justify-content: center;background-color: white;position: relative;}#sk-container-id-4 div.sk-item::before, #sk-container-id-4 div.sk-parallel-item::before {content: \"\";position: absolute;border-left: 1px solid gray;box-sizing: border-box;top: 0;bottom: 0;left: 50%;z-index: -1;}#sk-container-id-4 div.sk-parallel-item {display: flex;flex-direction: column;z-index: 1;position: relative;background-color: white;}#sk-container-id-4 div.sk-parallel-item:first-child::after {align-self: flex-end;width: 50%;}#sk-container-id-4 div.sk-parallel-item:last-child::after {align-self: flex-start;width: 50%;}#sk-container-id-4 div.sk-parallel-item:only-child::after {width: 0;}#sk-container-id-4 div.sk-dashed-wrapped {border: 1px dashed gray;margin: 0 0.4em 0.5em 0.4em;box-sizing: border-box;padding-bottom: 0.4em;background-color: white;}#sk-container-id-4 div.sk-label label {font-family: monospace;font-weight: bold;display: inline-block;line-height: 1.2em;}#sk-container-id-4 div.sk-label-container {text-align: center;}#sk-container-id-4 div.sk-container {/* jupyter's `normalize.less` sets `[hidden] { display: none; }` but bootstrap.min.css set `[hidden] { display: none !important; }` so we also need the `!important` here to be able to override the default hidden behavior on the sphinx rendered scikit-learn.org. See: https://github.com/scikit-learn/scikit-learn/issues/21755 */display: inline-block !important;position: relative;}#sk-container-id-4 div.sk-text-repr-fallback {display: none;}</style><div id=\"sk-container-id-4\" class=\"sk-top-container\"><div class=\"sk-text-repr-fallback\"><pre>GridSearchCV(cv=5,\n             estimator=Pipeline(steps=[(&#x27;simpleimputer&#x27;,\n                                        SimpleImputer(strategy=&#x27;median&#x27;)),\n                                       (&#x27;standardscaler&#x27;, StandardScaler()),\n                                       (&#x27;selectkbest&#x27;,\n                                        SelectKBest(score_func=&lt;function f_regression at 0x000001E75402FE20&gt;)),\n                                       (&#x27;linearregression&#x27;,\n                                        LinearRegression())]),\n             n_jobs=-1,\n             param_grid={&#x27;selectkbest__k&#x27;: [1, 2, 3, 4, 5, 6, 7, 8, 9, 10, 11,\n                                            12, 13, 14, 15, 16, 17, 18, 19, 20,\n                                            21, 22, 23, 24, 25, 26, 27, 28, 29,\n                                            30, ...]})</pre><b>In a Jupyter environment, please rerun this cell to show the HTML representation or trust the notebook. <br />On GitHub, the HTML representation is unable to render, please try loading this page with nbviewer.org.</b></div><div class=\"sk-container\" hidden><div class=\"sk-item sk-dashed-wrapped\"><div class=\"sk-label-container\"><div class=\"sk-label sk-toggleable\"><input class=\"sk-toggleable__control sk-hidden--visually\" id=\"sk-estimator-id-15\" type=\"checkbox\" ><label for=\"sk-estimator-id-15\" class=\"sk-toggleable__label sk-toggleable__label-arrow\">GridSearchCV</label><div class=\"sk-toggleable__content\"><pre>GridSearchCV(cv=5,\n             estimator=Pipeline(steps=[(&#x27;simpleimputer&#x27;,\n                                        SimpleImputer(strategy=&#x27;median&#x27;)),\n                                       (&#x27;standardscaler&#x27;, StandardScaler()),\n                                       (&#x27;selectkbest&#x27;,\n                                        SelectKBest(score_func=&lt;function f_regression at 0x000001E75402FE20&gt;)),\n                                       (&#x27;linearregression&#x27;,\n                                        LinearRegression())]),\n             n_jobs=-1,\n             param_grid={&#x27;selectkbest__k&#x27;: [1, 2, 3, 4, 5, 6, 7, 8, 9, 10, 11,\n                                            12, 13, 14, 15, 16, 17, 18, 19, 20,\n                                            21, 22, 23, 24, 25, 26, 27, 28, 29,\n                                            30, ...]})</pre></div></div></div><div class=\"sk-parallel\"><div class=\"sk-parallel-item\"><div class=\"sk-item\"><div class=\"sk-label-container\"><div class=\"sk-label sk-toggleable\"><input class=\"sk-toggleable__control sk-hidden--visually\" id=\"sk-estimator-id-16\" type=\"checkbox\" ><label for=\"sk-estimator-id-16\" class=\"sk-toggleable__label sk-toggleable__label-arrow\">estimator: Pipeline</label><div class=\"sk-toggleable__content\"><pre>Pipeline(steps=[(&#x27;simpleimputer&#x27;, SimpleImputer(strategy=&#x27;median&#x27;)),\n                (&#x27;standardscaler&#x27;, StandardScaler()),\n                (&#x27;selectkbest&#x27;,\n                 SelectKBest(score_func=&lt;function f_regression at 0x000001E75402FE20&gt;)),\n                (&#x27;linearregression&#x27;, LinearRegression())])</pre></div></div></div><div class=\"sk-serial\"><div class=\"sk-item\"><div class=\"sk-serial\"><div class=\"sk-item\"><div class=\"sk-estimator sk-toggleable\"><input class=\"sk-toggleable__control sk-hidden--visually\" id=\"sk-estimator-id-17\" type=\"checkbox\" ><label for=\"sk-estimator-id-17\" class=\"sk-toggleable__label sk-toggleable__label-arrow\">SimpleImputer</label><div class=\"sk-toggleable__content\"><pre>SimpleImputer(strategy=&#x27;median&#x27;)</pre></div></div></div><div class=\"sk-item\"><div class=\"sk-estimator sk-toggleable\"><input class=\"sk-toggleable__control sk-hidden--visually\" id=\"sk-estimator-id-18\" type=\"checkbox\" ><label for=\"sk-estimator-id-18\" class=\"sk-toggleable__label sk-toggleable__label-arrow\">StandardScaler</label><div class=\"sk-toggleable__content\"><pre>StandardScaler()</pre></div></div></div><div class=\"sk-item\"><div class=\"sk-estimator sk-toggleable\"><input class=\"sk-toggleable__control sk-hidden--visually\" id=\"sk-estimator-id-19\" type=\"checkbox\" ><label for=\"sk-estimator-id-19\" class=\"sk-toggleable__label sk-toggleable__label-arrow\">SelectKBest</label><div class=\"sk-toggleable__content\"><pre>SelectKBest(score_func=&lt;function f_regression at 0x000001E75402FE20&gt;)</pre></div></div></div><div class=\"sk-item\"><div class=\"sk-estimator sk-toggleable\"><input class=\"sk-toggleable__control sk-hidden--visually\" id=\"sk-estimator-id-20\" type=\"checkbox\" ><label for=\"sk-estimator-id-20\" class=\"sk-toggleable__label sk-toggleable__label-arrow\">LinearRegression</label><div class=\"sk-toggleable__content\"><pre>LinearRegression()</pre></div></div></div></div></div></div></div></div></div></div></div></div>"
     },
     "execution_count": 114,
     "metadata": {},
     "output_type": "execute_result"
    }
   ],
   "source": [
    "lr_grid_cv.fit(X_train, y_train)"
   ]
  },
  {
   "cell_type": "code",
   "execution_count": 115,
   "metadata": {
    "ExecuteTime": {
     "end_time": "2024-04-04T20:48:23.880991800Z",
     "start_time": "2024-04-04T20:48:23.830474900Z"
    }
   },
   "outputs": [],
   "source": [
    "score_mean = lr_grid_cv.cv_results_['mean_test_score']\n",
    "score_std = lr_grid_cv.cv_results_['std_test_score']\n",
    "cv_k = [k for k in lr_grid_cv.cv_results_['param_selectkbest__k']]"
   ]
  },
  {
   "cell_type": "code",
   "execution_count": 116,
   "metadata": {
    "ExecuteTime": {
     "end_time": "2024-04-04T20:48:51.736342700Z",
     "start_time": "2024-04-04T20:48:51.670666Z"
    }
   },
   "outputs": [
    {
     "data": {
      "text/plain": "{'selectkbest__k': 8}"
     },
     "execution_count": 116,
     "metadata": {},
     "output_type": "execute_result"
    }
   ],
   "source": [
    "#Code task 19#\n",
    "#Print the `best_params_` attribute of `lr_grid_cv`\n",
    "lr_grid_cv.best_params_"
   ]
  },
  {
   "cell_type": "code",
   "execution_count": 117,
   "metadata": {
    "ExecuteTime": {
     "end_time": "2024-04-04T20:49:48.212581700Z",
     "start_time": "2024-04-04T20:49:48.010765600Z"
    }
   },
   "outputs": [
    {
     "data": {
      "text/plain": "<Figure size 1000x500 with 1 Axes>",
      "image/png": "[encoded data removed]"
     },
     "metadata": {},
     "output_type": "display_data"
    }
   ],
   "source": [
    "#Code task 20#\n",
    "#Assign the value of k from the above dict of `best_params_` and assign it to `best_k`\n",
    "best_k = lr_grid_cv.best_params_['selectkbest__k']\n",
    "plt.subplots(figsize=(10, 5))\n",
    "plt.errorbar(cv_k, score_mean, yerr=score_std)\n",
    "plt.axvline(x=best_k, c='r', ls='--', alpha=.5)\n",
    "plt.xlabel('k')\n",
    "plt.ylabel('CV score (r-squared)')\n",
    "plt.title('Pipeline mean CV score (error bars +/- 1sd)');"
   ]
  },
  {
   "cell_type": "markdown",
   "metadata": {},
   "source": [
    "The above suggests a good value for k is 8. There was an initial rapid increase with k, followed by a slow decline. Also noticeable is the variance of the results greatly increase above k=8. As you increasingly overfit, expect greater swings in performance as different points move in and out of the train/test folds."
   ]
  },
  {
   "cell_type": "markdown",
   "metadata": {},
   "source": [
    "Which features were most useful? Step into your best model, shown below. Starting with the fitted grid search object, you get the best estimator, then the named step 'selectkbest', for which you can its `get_support()` method for a logical mask of the features selected."
   ]
  },
  {
   "cell_type": "code",
   "execution_count": 118,
   "metadata": {
    "ExecuteTime": {
     "end_time": "2024-04-04T20:50:45.155991800Z",
     "start_time": "2024-04-04T20:50:45.077468900Z"
    }
   },
   "outputs": [],
   "source": [
    "selected = lr_grid_cv.best_estimator_.named_steps.selectkbest.get_support()"
   ]
  },
  {
   "cell_type": "markdown",
   "metadata": {},
   "source": [
    "Similarly, instead of using the 'selectkbest' named step, you can access the named step for the linear regression model and, from that, grab the model coefficients via its `coef_` attribute:"
   ]
  },
  {
   "cell_type": "code",
   "execution_count": 119,
   "metadata": {
    "ExecuteTime": {
     "end_time": "2024-04-04T20:52:13.080655700Z",
     "start_time": "2024-04-04T20:52:13.015941400Z"
    }
   },
   "outputs": [
    {
     "data": {
      "text/plain": "vertical_drop        10.767857\nSnow Making_ac        6.290074\ntotal_chairs          5.794156\nfastQuads             5.745626\nRuns                  5.370555\nLongestRun_mi         0.181814\ntrams                -4.142024\nSkiableTerrain_ac    -5.249780\ndtype: float64"
     },
     "execution_count": 119,
     "metadata": {},
     "output_type": "execute_result"
    }
   ],
   "source": [
    "#Code task 21#\n",
    "#Get the linear model coefficients from the `coef_` attribute and store in `coefs`,\n",
    "#get the matching feature names from the column names of the dataframe,\n",
    "#and display the results as a pandas Series with `coefs` as the values and `features` as the index,\n",
    "#sorting the values in descending order\n",
    "coefs = lr_grid_cv.best_estimator_.named_steps.linearregression.coef_\n",
    "features = X_train.columns[selected]\n",
    "pd.Series(coefs, index=features).sort_values(ascending=False)"
   ]
  },
  {
   "cell_type": "markdown",
   "metadata": {},
   "source": [
    "These results suggest that vertical drop is your biggest positive feature. This makes intuitive sense and is consistent with what you saw during the EDA work. Also, you see the area covered by snow making equipment is a strong positive as well. People like guaranteed skiing! The skiable terrain area is negatively associated with ticket price! This seems odd. People will pay less for larger resorts? There could be all manner of reasons for this. It could be  an effect whereby larger resorts can host more visitors at any one time and so can charge less per ticket. As has been mentioned previously, the data are missing information about visitor numbers. Bear in mind,  the coefficient for skiable terrain is negative _for this model_. For example, if you kept the total number of chairs and fastQuads constant, but increased the skiable terrain extent, you might imagine the resort is worse off because the chairlift capacity is stretched thinner."
   ]
  },
  {
   "cell_type": "markdown",
   "metadata": {},
   "source": [
    "## 4.10 Random Forest Model<a id='4.10_Random_Forest_Model'></a>"
   ]
  },
  {
   "cell_type": "markdown",
   "metadata": {},
   "source": [
    "A model that can work very well in a lot of cases is the random forest. For regression, this is provided by `sklearn`'s `RandomForestRegressor` class.\n",
    "\n",
    "Time to stop the bad practice of repeatedly checking performance on the test split. Instead, go straight from defining the pipeline to assessing performance using cross-validation. `cross_validate` will perform the fitting as part of the process. This uses the default settings for the random forest so you'll then proceed to investigate some different hyperparameters."
   ]
  },
  {
   "cell_type": "markdown",
   "metadata": {},
   "source": [
    "### 4.10.1 Define the pipeline<a id='4.10.1_Define_the_pipeline'></a>"
   ]
  },
  {
   "cell_type": "code",
   "execution_count": 121,
   "metadata": {
    "ExecuteTime": {
     "end_time": "2024-04-04T20:57:26.416305900Z",
     "start_time": "2024-04-04T20:57:26.298773900Z"
    }
   },
   "outputs": [],
   "source": [
    "#Code task 22#\n",
    "#Define a pipeline comprising the steps:\n",
    "#SimpleImputer() with a strategy of 'median'\n",
    "#StandardScaler(),\n",
    "#and then RandomForestRegressor() with a random state of 47\n",
    "RF_pipe = make_pipeline(\n",
    "    SimpleImputer(strategy='median'),\n",
    "    StandardScaler(),\n",
    "    RandomForestRegressor(random_state=47)\n",
    ")"
   ]
  },
  {
   "cell_type": "markdown",
   "metadata": {},
   "source": [
    "### 4.10.2 Fit and assess performance using cross-validation<a id='4.10.2_Fit_and_assess_performance_using_cross-validation'></a>"
   ]
  },
  {
   "cell_type": "code",
   "execution_count": 122,
   "metadata": {
    "ExecuteTime": {
     "end_time": "2024-04-04T20:58:39.286456500Z",
     "start_time": "2024-04-04T20:58:37.692477700Z"
    }
   },
   "outputs": [],
   "source": [
    "#Code task 23#\n",
    "#Call `cross_validate` to estimate the pipeline's performance.\n",
    "#Pass it the random forest pipe object, `X_train` and `y_train`,\n",
    "#and get it to use 5-fold cross-validation\n",
    "rf_default_cv_results = cross_validate(RF_pipe, X_train, y_train, cv=5)"
   ]
  },
  {
   "cell_type": "code",
   "execution_count": 158,
   "metadata": {
    "ExecuteTime": {
     "end_time": "2024-04-05T16:41:12.259947300Z",
     "start_time": "2024-04-05T16:41:12.184900900Z"
    }
   },
   "outputs": [
    {
     "data": {
      "text/plain": "array([0.69249204, 0.78061953, 0.77546915, 0.62190924, 0.61742339])"
     },
     "execution_count": 158,
     "metadata": {},
     "output_type": "execute_result"
    }
   ],
   "source": [
    "rf_cv_scores = rf_default_cv_results['test_score']\n",
    "rf_cv_scores"
   ]
  },
  {
   "cell_type": "code",
   "execution_count": 159,
   "metadata": {
    "ExecuteTime": {
     "end_time": "2024-04-05T16:41:17.395761300Z",
     "start_time": "2024-04-05T16:41:17.298505100Z"
    }
   },
   "outputs": [
    {
     "data": {
      "text/plain": "(0.6975826707112506, 0.07090742940774528)"
     },
     "execution_count": 159,
     "metadata": {},
     "output_type": "execute_result"
    }
   ],
   "source": [
    "np.mean(rf_cv_scores), np.std(rf_cv_scores)"
   ]
  },
  {
   "cell_type": "markdown",
   "metadata": {},
   "source": [
    "### 4.10.3 Hyperparameter search using GridSearchCV<a id='4.10.3_Hyperparameter_search_using_GridSearchCV'></a>"
   ]
  },
  {
   "cell_type": "markdown",
   "metadata": {},
   "source": [
    "Random forest has a number of hyperparameters that can be explored, however here you'll limit yourselves to exploring some different values for the number of trees. You'll try it with and without feature scaling, and try both the mean and median as strategies for imputing missing values."
   ]
  },
  {
   "cell_type": "code",
   "execution_count": 160,
   "metadata": {
    "ExecuteTime": {
     "end_time": "2024-04-05T16:41:26.631590Z",
     "start_time": "2024-04-05T16:41:26.533925300Z"
    }
   },
   "outputs": [
    {
     "data": {
      "text/plain": "{'randomforestregressor__n_estimators': [10,\n  12,\n  16,\n  20,\n  26,\n  33,\n  42,\n  54,\n  69,\n  88,\n  112,\n  143,\n  183,\n  233,\n  297,\n  379,\n  483,\n  615,\n  784,\n  1000],\n 'standardscaler': [StandardScaler(), None],\n 'simpleimputer__strategy': ['mean', 'median']}"
     },
     "execution_count": 160,
     "metadata": {},
     "output_type": "execute_result"
    }
   ],
   "source": [
    "n_est = [int(n) for n in np.logspace(start=1, stop=3, num=20)]\n",
    "grid_params = {\n",
    "        'randomforestregressor__n_estimators': n_est,\n",
    "        'standardscaler': [StandardScaler(), None],\n",
    "        'simpleimputer__strategy': ['mean', 'median']\n",
    "}\n",
    "grid_params"
   ]
  },
  {
   "cell_type": "code",
   "execution_count": 161,
   "metadata": {
    "ExecuteTime": {
     "end_time": "2024-04-05T16:41:54.974871500Z",
     "start_time": "2024-04-05T16:41:54.899847800Z"
    }
   },
   "outputs": [],
   "source": [
    "#Code task 24#\n",
    "#Call `GridSearchCV` with the random forest pipeline, passing in the above `grid_params`\n",
    "#dict for parameters to evaluate, 5-fold cross-validation, and all available CPU cores (if desired)\n",
    "rf_grid_cv = GridSearchCV(RF_pipe, param_grid=grid_params, cv=5, n_jobs=-1)"
   ]
  },
  {
   "cell_type": "code",
   "execution_count": 162,
   "metadata": {
    "ExecuteTime": {
     "end_time": "2024-04-05T16:42:40.470200700Z",
     "start_time": "2024-04-05T16:41:59.289478200Z"
    }
   },
   "outputs": [
    {
     "data": {
      "text/plain": "GridSearchCV(cv=5,\n             estimator=Pipeline(steps=[('simpleimputer',\n                                        SimpleImputer(strategy='median')),\n                                       ('standardscaler', StandardScaler()),\n                                       ('randomforestregressor',\n                                        RandomForestRegressor(random_state=47))]),\n             n_jobs=-1,\n             param_grid={'randomforestregressor__n_estimators': [10, 12, 16, 20,\n                                                                 26, 33, 42, 54,\n                                                                 69, 88, 112,\n                                                                 143, 183, 233,\n                                                                 297, 379, 483,\n                                                                 615, 784,\n                                                                 1000],\n                         'simpleimputer__strategy': ['mean', 'median'],\n                         'standardscaler': [StandardScaler(), None]})",
      "text/html": "<style>#sk-container-id-6 {color: black;}#sk-container-id-6 pre{padding: 0;}#sk-container-id-6 div.sk-toggleable {background-color: white;}#sk-container-id-6 label.sk-toggleable__label {cursor: pointer;display: block;width: 100%;margin-bottom: 0;padding: 0.3em;box-sizing: border-box;text-align: center;}#sk-container-id-6 label.sk-toggleable__label-arrow:before {content: \"▸\";float: left;margin-right: 0.25em;color: #696969;}#sk-container-id-6 label.sk-toggleable__label-arrow:hover:before {color: black;}#sk-container-id-6 div.sk-estimator:hover label.sk-toggleable__label-arrow:before {color: black;}#sk-container-id-6 div.sk-toggleable__content {max-height: 0;max-width: 0;overflow: hidden;text-align: left;background-color: #f0f8ff;}#sk-container-id-6 div.sk-toggleable__content pre {margin: 0.2em;color: black;border-radius: 0.25em;background-color: #f0f8ff;}#sk-container-id-6 input.sk-toggleable__control:checked~div.sk-toggleable__content {max-height: 200px;max-width: 100%;overflow: auto;}#sk-container-id-6 input.sk-toggleable__control:checked~label.sk-toggleable__label-arrow:before {content: \"▾\";}#sk-container-id-6 div.sk-estimator input.sk-toggleable__control:checked~label.sk-toggleable__label {background-color: #d4ebff;}#sk-container-id-6 div.sk-label input.sk-toggleable__control:checked~label.sk-toggleable__label {background-color: #d4ebff;}#sk-container-id-6 input.sk-hidden--visually {border: 0;clip: rect(1px 1px 1px 1px);clip: rect(1px, 1px, 1px, 1px);height: 1px;margin: -1px;overflow: hidden;padding: 0;position: absolute;width: 1px;}#sk-container-id-6 div.sk-estimator {font-family: monospace;background-color: #f0f8ff;border: 1px dotted black;border-radius: 0.25em;box-sizing: border-box;margin-bottom: 0.5em;}#sk-container-id-6 div.sk-estimator:hover {background-color: #d4ebff;}#sk-container-id-6 div.sk-parallel-item::after {content: \"\";width: 100%;border-bottom: 1px solid gray;flex-grow: 1;}#sk-container-id-6 div.sk-label:hover label.sk-toggleable__label {background-color: #d4ebff;}#sk-container-id-6 div.sk-serial::before {content: \"\";position: absolute;border-left: 1px solid gray;box-sizing: border-box;top: 0;bottom: 0;left: 50%;z-index: 0;}#sk-container-id-6 div.sk-serial {display: flex;flex-direction: column;align-items: center;background-color: white;padding-right: 0.2em;padding-left: 0.2em;position: relative;}#sk-container-id-6 div.sk-item {position: relative;z-index: 1;}#sk-container-id-6 div.sk-parallel {display: flex;align-items: stretch;justify-content: center;background-color: white;position: relative;}#sk-container-id-6 div.sk-item::before, #sk-container-id-6 div.sk-parallel-item::before {content: \"\";position: absolute;border-left: 1px solid gray;box-sizing: border-box;top: 0;bottom: 0;left: 50%;z-index: -1;}#sk-container-id-6 div.sk-parallel-item {display: flex;flex-direction: column;z-index: 1;position: relative;background-color: white;}#sk-container-id-6 div.sk-parallel-item:first-child::after {align-self: flex-end;width: 50%;}#sk-container-id-6 div.sk-parallel-item:last-child::after {align-self: flex-start;width: 50%;}#sk-container-id-6 div.sk-parallel-item:only-child::after {width: 0;}#sk-container-id-6 div.sk-dashed-wrapped {border: 1px dashed gray;margin: 0 0.4em 0.5em 0.4em;box-sizing: border-box;padding-bottom: 0.4em;background-color: white;}#sk-container-id-6 div.sk-label label {font-family: monospace;font-weight: bold;display: inline-block;line-height: 1.2em;}#sk-container-id-6 div.sk-label-container {text-align: center;}#sk-container-id-6 div.sk-container {/* jupyter's `normalize.less` sets `[hidden] { display: none; }` but bootstrap.min.css set `[hidden] { display: none !important; }` so we also need the `!important` here to be able to override the default hidden behavior on the sphinx rendered scikit-learn.org. See: https://github.com/scikit-learn/scikit-learn/issues/21755 */display: inline-block !important;position: relative;}#sk-container-id-6 div.sk-text-repr-fallback {display: none;}</style><div id=\"sk-container-id-6\" class=\"sk-top-container\"><div class=\"sk-text-repr-fallback\"><pre>GridSearchCV(cv=5,\n             estimator=Pipeline(steps=[(&#x27;simpleimputer&#x27;,\n                                        SimpleImputer(strategy=&#x27;median&#x27;)),\n                                       (&#x27;standardscaler&#x27;, StandardScaler()),\n                                       (&#x27;randomforestregressor&#x27;,\n                                        RandomForestRegressor(random_state=47))]),\n             n_jobs=-1,\n             param_grid={&#x27;randomforestregressor__n_estimators&#x27;: [10, 12, 16, 20,\n                                                                 26, 33, 42, 54,\n                                                                 69, 88, 112,\n                                                                 143, 183, 233,\n                                                                 297, 379, 483,\n                                                                 615, 784,\n                                                                 1000],\n                         &#x27;simpleimputer__strategy&#x27;: [&#x27;mean&#x27;, &#x27;median&#x27;],\n                         &#x27;standardscaler&#x27;: [StandardScaler(), None]})</pre><b>In a Jupyter environment, please rerun this cell to show the HTML representation or trust the notebook. <br />On GitHub, the HTML representation is unable to render, please try loading this page with nbviewer.org.</b></div><div class=\"sk-container\" hidden><div class=\"sk-item sk-dashed-wrapped\"><div class=\"sk-label-container\"><div class=\"sk-label sk-toggleable\"><input class=\"sk-toggleable__control sk-hidden--visually\" id=\"sk-estimator-id-26\" type=\"checkbox\" ><label for=\"sk-estimator-id-26\" class=\"sk-toggleable__label sk-toggleable__label-arrow\">GridSearchCV</label><div class=\"sk-toggleable__content\"><pre>GridSearchCV(cv=5,\n             estimator=Pipeline(steps=[(&#x27;simpleimputer&#x27;,\n                                        SimpleImputer(strategy=&#x27;median&#x27;)),\n                                       (&#x27;standardscaler&#x27;, StandardScaler()),\n                                       (&#x27;randomforestregressor&#x27;,\n                                        RandomForestRegressor(random_state=47))]),\n             n_jobs=-1,\n             param_grid={&#x27;randomforestregressor__n_estimators&#x27;: [10, 12, 16, 20,\n                                                                 26, 33, 42, 54,\n                                                                 69, 88, 112,\n                                                                 143, 183, 233,\n                                                                 297, 379, 483,\n                                                                 615, 784,\n                                                                 1000],\n                         &#x27;simpleimputer__strategy&#x27;: [&#x27;mean&#x27;, &#x27;median&#x27;],\n                         &#x27;standardscaler&#x27;: [StandardScaler(), None]})</pre></div></div></div><div class=\"sk-parallel\"><div class=\"sk-parallel-item\"><div class=\"sk-item\"><div class=\"sk-label-container\"><div class=\"sk-label sk-toggleable\"><input class=\"sk-toggleable__control sk-hidden--visually\" id=\"sk-estimator-id-27\" type=\"checkbox\" ><label for=\"sk-estimator-id-27\" class=\"sk-toggleable__label sk-toggleable__label-arrow\">estimator: Pipeline</label><div class=\"sk-toggleable__content\"><pre>Pipeline(steps=[(&#x27;simpleimputer&#x27;, SimpleImputer(strategy=&#x27;median&#x27;)),\n                (&#x27;standardscaler&#x27;, StandardScaler()),\n                (&#x27;randomforestregressor&#x27;,\n                 RandomForestRegressor(random_state=47))])</pre></div></div></div><div class=\"sk-serial\"><div class=\"sk-item\"><div class=\"sk-serial\"><div class=\"sk-item\"><div class=\"sk-estimator sk-toggleable\"><input class=\"sk-toggleable__control sk-hidden--visually\" id=\"sk-estimator-id-28\" type=\"checkbox\" ><label for=\"sk-estimator-id-28\" class=\"sk-toggleable__label sk-toggleable__label-arrow\">SimpleImputer</label><div class=\"sk-toggleable__content\"><pre>SimpleImputer(strategy=&#x27;median&#x27;)</pre></div></div></div><div class=\"sk-item\"><div class=\"sk-estimator sk-toggleable\"><input class=\"sk-toggleable__control sk-hidden--visually\" id=\"sk-estimator-id-29\" type=\"checkbox\" ><label for=\"sk-estimator-id-29\" class=\"sk-toggleable__label sk-toggleable__label-arrow\">StandardScaler</label><div class=\"sk-toggleable__content\"><pre>StandardScaler()</pre></div></div></div><div class=\"sk-item\"><div class=\"sk-estimator sk-toggleable\"><input class=\"sk-toggleable__control sk-hidden--visually\" id=\"sk-estimator-id-30\" type=\"checkbox\" ><label for=\"sk-estimator-id-30\" class=\"sk-toggleable__label sk-toggleable__label-arrow\">RandomForestRegressor</label><div class=\"sk-toggleable__content\"><pre>RandomForestRegressor(random_state=47)</pre></div></div></div></div></div></div></div></div></div></div></div></div>"
     },
     "execution_count": 162,
     "metadata": {},
     "output_type": "execute_result"
    }
   ],
   "source": [
    "#Code task 25#\n",
    "#Now call the `GridSearchCV`'s `fit()` method with `X_train` and `y_train` as arguments\n",
    "#to actually start the grid search. This may take a minute or two.\n",
    "rf_grid_cv.fit(X_train, y_train)"
   ]
  },
  {
   "cell_type": "code",
   "execution_count": 130,
   "metadata": {
    "ExecuteTime": {
     "end_time": "2024-04-04T21:03:58.529204600Z",
     "start_time": "2024-04-04T21:03:58.464476700Z"
    }
   },
   "outputs": [
    {
     "data": {
      "text/plain": "{'randomforestregressor__n_estimators': 69,\n 'simpleimputer__strategy': 'median',\n 'standardscaler': None}"
     },
     "execution_count": 130,
     "metadata": {},
     "output_type": "execute_result"
    }
   ],
   "source": [
    "#Code task 26#\n",
    "#Print the best params (`best_params_` attribute) from the grid search\n",
    "rf_grid_cv.best_params_"
   ]
  },
  {
   "cell_type": "markdown",
   "metadata": {},
   "source": [
    "It looks like imputing with the median helps, but scaling the features doesn't."
   ]
  },
  {
   "cell_type": "code",
   "execution_count": 163,
   "metadata": {
    "ExecuteTime": {
     "end_time": "2024-04-05T16:42:52.739884300Z",
     "start_time": "2024-04-05T16:42:51.486606800Z"
    }
   },
   "outputs": [
    {
     "data": {
      "text/plain": "array([0.6951357 , 0.79430697, 0.77170917, 0.62254707, 0.66499334])"
     },
     "execution_count": 163,
     "metadata": {},
     "output_type": "execute_result"
    }
   ],
   "source": [
    "rf_best_cv_results = cross_validate(rf_grid_cv.best_estimator_, X_train, y_train, cv=5)\n",
    "rf_best_scores = rf_best_cv_results['test_score']\n",
    "rf_best_scores"
   ]
  },
  {
   "cell_type": "code",
   "execution_count": 164,
   "metadata": {
    "ExecuteTime": {
     "end_time": "2024-04-05T16:42:57.287796Z",
     "start_time": "2024-04-05T16:42:57.184662500Z"
    }
   },
   "outputs": [
    {
     "data": {
      "text/plain": "(0.7097384501425082, 0.06451341966873386)"
     },
     "execution_count": 164,
     "metadata": {},
     "output_type": "execute_result"
    }
   ],
   "source": [
    "np.mean(rf_best_scores), np.std(rf_best_scores)"
   ]
  },
  {
   "cell_type": "markdown",
   "metadata": {},
   "source": [
    "You've marginally improved upon the default CV results. Random forest has many more hyperparameters you could tune, but we won't dive into that here."
   ]
  },
  {
   "cell_type": "code",
   "execution_count": 134,
   "metadata": {
    "ExecuteTime": {
     "end_time": "2024-04-04T21:07:10.188921700Z",
     "start_time": "2024-04-04T21:07:09.792467800Z"
    }
   },
   "outputs": [
    {
     "data": {
      "text/plain": "<Figure size 1000x500 with 1 Axes>",
      "image/png": "[encoded data removed]"
     },
     "metadata": {},
     "output_type": "display_data"
    }
   ],
   "source": [
    "#Code task 27#\n",
    "#Plot a barplot of the random forest's feature importances,\n",
    "#assigning the `feature_importances_` attribute of \n",
    "#`rf_grid_cv.best_estimator_.named_steps.randomforestregressor` to the name `imps` to then\n",
    "#create a pandas Series object of the feature importances, with the index given by the\n",
    "#training data column names, sorting the values in descending order\n",
    "plt.subplots(figsize=(10, 5))\n",
    "imps = rf_grid_cv.best_estimator_.named_steps.randomforestregressor.feature_importances_\n",
    "rf_feat_imps = pd.Series(imps, index=X_train.columns).sort_values(ascending=False)\n",
    "rf_feat_imps.plot(kind='bar')\n",
    "plt.xlabel('features')\n",
    "plt.ylabel('importance')\n",
    "plt.title('Best random forest regressor feature importances');"
   ]
  },
  {
   "cell_type": "markdown",
   "metadata": {},
   "source": [
    "Encouragingly, the dominant top four features are in common with your linear model:\n",
    "* fastQuads\n",
    "* Runs\n",
    "* Snow Making_ac\n",
    "* vertical_drop"
   ]
  },
  {
   "cell_type": "markdown",
   "metadata": {},
   "source": [
    "## 4.11 Final Model Selection<a id='4.11_Final_Model_Selection'></a>"
   ]
  },
  {
   "cell_type": "markdown",
   "metadata": {},
   "source": [
    "Time to select your final model to use for further business modeling! It would be good to revisit the above model selection; there is undoubtedly more that could be done to explore possible hyperparameters.\n",
    "It would also be worthwhile to investigate removing the least useful features. Gathering or calculating, and storing, features adds business cost and dependencies, so if features genuinely are not needed they should be removed.\n",
    "Building a simpler model with fewer features can also have the advantage of being easier to sell (and/or explain) to stakeholders.\n",
    "Certainly there seem to be four strong features here and so a model using only those would probably work well.\n",
    "However, you want to explore some different scenarios where other features vary so keep the fuller \n",
    "model for now. \n",
    "The business is waiting for this model and you have something that you have confidence in to be much better than guessing with the average price.\n",
    "\n",
    "Or, rather, you have two \"somethings\". You built a best linear model and a best random forest model. You need to finally choose between them. You can calculate the mean absolute error using cross-validation. Although `cross-validate` defaults to the $R^2$ [metric for scoring](https://scikit-learn.org/stable/modules/model_evaluation.html#scoring) regression, you can specify the mean absolute error as an alternative via\n",
    "the `scoring` parameter."
   ]
  },
  {
   "cell_type": "markdown",
   "metadata": {},
   "source": [
    "### 4.11.1 Linear regression model performance<a id='4.11.1_Linear_regression_model_performance'></a>"
   ]
  },
  {
   "cell_type": "code",
   "execution_count": 165,
   "metadata": {
    "ExecuteTime": {
     "end_time": "2024-04-05T16:46:49.006116400Z",
     "start_time": "2024-04-05T16:46:48.886526700Z"
    }
   },
   "outputs": [],
   "source": [
    "# 'neg_mean_absolute_error' uses the (negative of) the mean absolute error\n",
    "lr_neg_mae = cross_validate(lr_grid_cv.best_estimator_, X_train, y_train, \n",
    "                            scoring='neg_mean_absolute_error', cv=5, n_jobs=-1)"
   ]
  },
  {
   "cell_type": "code",
   "execution_count": 166,
   "metadata": {
    "ExecuteTime": {
     "end_time": "2024-04-05T16:46:52.713092700Z",
     "start_time": "2024-04-05T16:46:52.639018600Z"
    }
   },
   "outputs": [
    {
     "data": {
      "text/plain": "(10.499032338015295, 1.6220608976799655)"
     },
     "execution_count": 166,
     "metadata": {},
     "output_type": "execute_result"
    }
   ],
   "source": [
    "lr_mae_mean = np.mean(-1 * lr_neg_mae['test_score'])\n",
    "lr_mae_std = np.std(-1 * lr_neg_mae['test_score'])\n",
    "lr_mae_mean, lr_mae_std"
   ]
  },
  {
   "cell_type": "code",
   "execution_count": 167,
   "metadata": {
    "ExecuteTime": {
     "end_time": "2024-04-05T16:46:56.123729700Z",
     "start_time": "2024-04-05T16:46:56.027428900Z"
    }
   },
   "outputs": [
    {
     "data": {
      "text/plain": "11.793465668669327"
     },
     "execution_count": 167,
     "metadata": {},
     "output_type": "execute_result"
    }
   ],
   "source": [
    "mean_absolute_error(y_test, lr_grid_cv.best_estimator_.predict(X_test))"
   ]
  },
  {
   "cell_type": "markdown",
   "metadata": {},
   "source": [
    "### 4.11.2 Random forest regression model performance<a id='4.11.2_Random_forest_regression_model_performance'></a>"
   ]
  },
  {
   "cell_type": "code",
   "execution_count": 168,
   "metadata": {
    "ExecuteTime": {
     "end_time": "2024-04-05T16:48:47.331080500Z",
     "start_time": "2024-04-05T16:48:46.947453600Z"
    }
   },
   "outputs": [],
   "source": [
    "rf_neg_mae = cross_validate(rf_grid_cv.best_estimator_, X_train, y_train, \n",
    "                            scoring='neg_mean_absolute_error', cv=5, n_jobs=-1)"
   ]
  },
  {
   "cell_type": "code",
   "execution_count": 169,
   "metadata": {
    "ExecuteTime": {
     "end_time": "2024-04-05T16:48:50.615775300Z",
     "start_time": "2024-04-05T16:48:50.539018300Z"
    }
   },
   "outputs": [
    {
     "data": {
      "text/plain": "(9.644639167595688, 1.3528565172191818)"
     },
     "execution_count": 169,
     "metadata": {},
     "output_type": "execute_result"
    }
   ],
   "source": [
    "rf_mae_mean = np.mean(-1 * rf_neg_mae['test_score'])\n",
    "rf_mae_std = np.std(-1 * rf_neg_mae['test_score'])\n",
    "rf_mae_mean, rf_mae_std"
   ]
  },
  {
   "cell_type": "code",
   "execution_count": 140,
   "metadata": {
    "ExecuteTime": {
     "end_time": "2024-04-04T21:11:14.992376Z",
     "start_time": "2024-04-04T21:11:14.902295Z"
    }
   },
   "outputs": [
    {
     "data": {
      "text/plain": "9.537730050637332"
     },
     "execution_count": 140,
     "metadata": {},
     "output_type": "execute_result"
    }
   ],
   "source": [
    "mean_absolute_error(y_test, rf_grid_cv.best_estimator_.predict(X_test))"
   ]
  },
  {
   "cell_type": "markdown",
   "metadata": {},
   "source": [
    "### 4.11.3 Conclusion<a id='4.11.3_Conclusion'></a>"
   ]
  },
  {
   "cell_type": "markdown",
   "metadata": {},
   "source": [
    "The random forest model has a lower cross-validation mean absolute error by almost \\\\$1. It also exhibits less variability. Verifying performance on the test set produces performance consistent with the cross-validation results."
   ]
  },
  {
   "cell_type": "markdown",
   "metadata": {},
   "source": [
    "## 4.12 Data quantity assessment<a id='4.12_Data_quantity_assessment'></a>"
   ]
  },
  {
   "cell_type": "markdown",
   "metadata": {},
   "source": [
    "Finally, you need to advise the business whether it needs to undertake further data collection. Would more data be useful? We're often led to believe more data is always good, but gathering data invariably has a cost associated with it. Assess this trade off by seeing how performance varies with differing data set sizes. The `learning_curve` function does this conveniently."
   ]
  },
  {
   "cell_type": "code",
   "execution_count": 141,
   "metadata": {
    "ExecuteTime": {
     "end_time": "2024-04-04T21:11:47.058240800Z",
     "start_time": "2024-04-04T21:11:46.688426900Z"
    }
   },
   "outputs": [],
   "source": [
    "fractions = [.2, .25, .3, .35, .4, .45, .5, .6, .75, .8, 1.0]\n",
    "train_size, train_scores, test_scores = learning_curve(pipe, X_train, y_train, train_sizes=fractions)\n",
    "train_scores_mean = np.mean(train_scores, axis=1)\n",
    "train_scores_std = np.std(train_scores, axis=1)\n",
    "test_scores_mean = np.mean(test_scores, axis=1)\n",
    "test_scores_std = np.std(test_scores, axis=1)"
   ]
  },
  {
   "cell_type": "code",
   "execution_count": 142,
   "metadata": {
    "ExecuteTime": {
     "end_time": "2024-04-04T21:11:52.060542700Z",
     "start_time": "2024-04-04T21:11:51.888566200Z"
    }
   },
   "outputs": [
    {
     "data": {
      "text/plain": "<Figure size 1000x500 with 1 Axes>",
      "image/png": "[encoded data removed]"
     },
     "metadata": {},
     "output_type": "display_data"
    }
   ],
   "source": [
    "plt.subplots(figsize=(10, 5))\n",
    "plt.errorbar(train_size, test_scores_mean, yerr=test_scores_std)\n",
    "plt.xlabel('Training set size')\n",
    "plt.ylabel('CV scores')\n",
    "plt.title('Cross-validation score as training set size increases');"
   ]
  },
  {
   "cell_type": "markdown",
   "metadata": {},
   "source": [
    "This shows that you seem to have plenty of data. There's an initial rapid improvement in model scores as one would expect, but it's essentially levelled off by around a sample size of 40-50."
   ]
  },
  {
   "cell_type": "markdown",
   "metadata": {},
   "source": [
    "## 4.13 Save best model object from pipeline<a id='4.13_Save_best_model_object_from_pipeline'></a>"
   ]
  },
  {
   "cell_type": "code",
   "execution_count": 154,
   "metadata": {
    "ExecuteTime": {
     "end_time": "2024-04-05T16:31:40.342089600Z",
     "start_time": "2024-04-05T16:31:40.319580100Z"
    }
   },
   "outputs": [],
   "source": [
    "#Code task 28#\n",
    "#This may not be \"production grade ML deployment\" practice, but adding some basic\n",
    "#information to your saved models can save your bacon in development.\n",
    "#Just what version model have you just loaded to reuse? What version of `sklearn`\n",
    "#created it? When did you make it?\n",
    "#Assign the pandas version number (`pd.__version__`) to the `pandas_version` attribute,\n",
    "#the numpy version (`np.__version__`) to the `numpy_version` attribute,\n",
    "#the sklearn version (`sklearn_version`) to the `sklearn_version` attribute,\n",
    "#and the current datetime (`datetime.datetime.now()`) to the `build_datetime` attribute\n",
    "#Let's call this model version '1.0'\n",
    "best_model = rf_grid_cv.best_estimator_\n",
    "best_model.version = 1\n",
    "best_model.pandas_version = pd.__version__\n",
    "best_model.numpy_version = np.__version__\n",
    "best_model.sklearn_version = sklearn_version\n",
    "best_model.X_columns = [col for col in X_train.columns]\n",
    "best_model.build_datetime = datetime.datetime.now()"
   ]
  },
  {
   "cell_type": "code",
   "outputs": [
    {
     "name": "stdout",
     "output_type": "stream",
     "text": [
      "Pipeline(steps=[('simpleimputer', SimpleImputer(strategy='median')),\n",
      "                ('standardscaler', None),\n",
      "                ('randomforestregressor',\n",
      "                 RandomForestRegressor(n_estimators=69, random_state=47))])\n",
      "1\n",
      "2.2.1\n",
      "1.24.3\n",
      "1.3.0\n",
      "['summit_elev', 'vertical_drop', 'base_elev', 'trams', 'fastSixes', 'fastQuads', 'quad', 'triple', 'double', 'surface', 'total_chairs', 'Runs', 'TerrainParks', 'LongestRun_mi', 'SkiableTerrain_ac', 'Snow Making_ac', 'daysOpenLastYear', 'yearsOpen', 'averageSnowfall', 'projectedDaysOpen', 'NightSkiing_ac', 'resorts_per_state', 'resorts_per_100kcapita', 'resorts_per_100ksq_mile', 'resort_skiable_area_ac_state_ratio', 'resort_days_open_state_ratio', 'resort_terrain_park_state_ratio', 'resort_night_skiing_state_ratio', 'total_chairs_runs_ratio', 'total_chairs_skiable_ratio', 'fastQuads_runs_ratio', 'fastQuads_skiable_ratio']\n",
      "2024-04-05 12:31:40.318404\n"
     ]
    }
   ],
   "source": [
    "print(best_model, best_model.version, best_model.pandas_version, best_model.numpy_version, best_model.sklearn_version, best_model.X_columns, best_model.build_datetime, sep='\\n')"
   ],
   "metadata": {
    "collapsed": false,
    "ExecuteTime": {
     "end_time": "2024-04-05T16:36:14.988227100Z",
     "start_time": "2024-04-05T16:36:14.899792800Z"
    }
   },
   "execution_count": 157
  },
  {
   "cell_type": "code",
   "execution_count": 144,
   "metadata": {
    "ExecuteTime": {
     "end_time": "2024-04-04T21:14:41.880616600Z",
     "start_time": "2024-04-04T21:14:41.811014200Z"
    }
   },
   "outputs": [
    {
     "name": "stdout",
     "output_type": "stream",
     "text": [
      "Directory ../models was created.\n",
      "Writing file.  \"../models\\ski_resort_pricing_model.pkl\"\n"
     ]
    }
   ],
   "source": [
    "# save the model\n",
    "\n",
    "modelpath = '../models'\n",
    "save_file(best_model, 'ski_resort_pricing_model.pkl', modelpath)"
   ]
  },
  {
   "cell_type": "markdown",
   "metadata": {},
   "source": [
    "## 4.14 Summary<a id='4.14_Summary'></a>"
   ]
  },
  {
   "cell_type": "markdown",
   "metadata": {},
   "source": [
    "**Q: 1** Write a summary of the work in this notebook. Capture the fact that you gained a baseline idea of performance by simply taking the average price and how well that did. Then highlight that you built a linear model and the features that found. Comment on the estimate of its performance from cross-validation and whether its performance on the test split was consistent with this estimate. Also highlight that a random forest regressor was tried, what preprocessing steps were found to be best, and again what its estimated performance via cross-validation was and whether its performance on the test set was consistent with that. State which model you have decided to use going forwards and why. This summary should provide a quick overview for someone wanting to know quickly why the given model was chosen for the next part of the business problem to help guide important business decisions."
   ]
  },
  {
   "cell_type": "markdown",
   "metadata": {},
   "source": [
    "**A: 1** Your answer here\n",
    "\n",
    "In this pre-processing and training phase of the analysis of the ticket price analysis for Big Mountain Resort, an initial machine learning model was chosen to aid in predicting the ticket price.\n",
    "This phase concluded with choosing a best model. The chosen model was based on Random Forest  Regressor analysis using sklearn packages, perfoming better than a linear regression model. The model imputed, scaled and performed regression on the train data split with cross validation on the test data split. The median was used for imputing missing values. Four features were deemed the most prominent in relationship to the ticket price. The number of fastquads lifts, the number of runs, snow making acreage and the vertical mountain drop height. The other features will persist in the model at this point for future considerations.\n",
    " \n",
    "\n",
    "The Random Forest model had a mean absolute Error of $9.64 in ticket price, with a standard deviation of $1.35. Comparatively, the linear regression model performance had a mean absolute error of $10.50 and standard deviation of $1.62 in ticket price. The Random Forest was cross validated obtaining close results: With a mean absolute error of $9.53 in ticket price.\n",
    "The data volume was deemed more than adequate for this model and analysis with no great improvement in model performance beyond a training set size of 40-50 range.\n",
    " \n",
    "The methodology undertaken here used a baseline assessment of the ticket price using the mean only at all resorts, which was $63.81. The data set used was ski_data_step3_features.csv. Big Mountain Resort data was excluded from the analysis. The data was split 70% as a training set and the remainder as a testing set. SKlearn metrics package was used to assess R squared measure and compare to manual derivations verifying validity of outputs at various points in the analysis. Another metric the mean squared error mean absolute error were used to assess prediction. \n",
    "The data in all the sets was imputed for missing data, scaled and subjected to prediction assessment of model performance both with the use of manual functions and by the use of SKlearn Pipeline package.  The median and the mean performed closely in imputation of the data. The number of best features of a resort to include in the model was assessed using the pipeline 'bestk' package. The linear regression model was assessed using GridSearchCV. Eight best features was the optimal \"k\" value to use in the parameter grid search.\n",
    "The best eight features were: The vertical drop, the snow making acreage, the number of total chairs, the number of fastquads, the number of runs, the longest run distance, the number of trams and the total skiable terrain acreage. The latter two had negative coefficients.\n",
    "The Random Forest pipeline was used to assess the model and compare to the linear regression model using optimized hyperparameters and variations. Imputing with the median achieved a better performance, but scaling of features did not.\n",
    "Finally, the versions used in this model 1 were: Pandas 2.21; Numpy 1.24.3 and SKlearn 1.3.0.\n",
    "\n"
   ]
  }
 ],
 "metadata": {
  "kernelspec": {
   "display_name": "Python 3",
   "language": "python",
   "name": "python3"
  },
  "language_info": {
   "codemirror_mode": {
    "name": "ipython",
    "version": 3
   },
   "file_extension": ".py",
   "mimetype": "text/x-python",
   "name": "python",
   "nbconvert_exporter": "python",
   "pygments_lexer": "ipython3",
   "version": "3.7.9"
  },
  "toc": {
   "base_numbering": 1,
   "nav_menu": {},
   "number_sections": true,
   "sideBar": true,
   "skip_h1_title": false,
   "title_cell": "Table of Contents",
   "title_sidebar": "Contents",
   "toc_cell": false,
   "toc_position": {},
   "toc_section_display": true,
   "toc_window_display": true
  },
  "varInspector": {
   "cols": {
    "lenName": 16,
    "lenType": 16,
    "lenVar": 40
   },
   "kernels_config": {
    "python": {
     "delete_cmd_postfix": "",
     "delete_cmd_prefix": "del ",
     "library": "var_list.py",
     "varRefreshCmd": "print(var_dic_list())"
    },
    "r": {
     "delete_cmd_postfix": ") ",
     "delete_cmd_prefix": "rm(",
     "library": "var_list.r",
     "varRefreshCmd": "cat(var_dic_list()) "
    }
   },
   "types_to_exclude": [
    "module",
    "function",
    "builtin_function_or_method",
    "instance",
    "_Feature"
   ],
   "window_display": false
  }
 },
 "nbformat": 4,
 "nbformat_minor": 4
}
