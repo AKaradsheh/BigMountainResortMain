{
 "cells": [
  {
   "cell_type": "markdown",
   "metadata": {},
   "source": [
    "# 3 Exploratory Data Analysis<a id='3_Exploratory_Data_Analysis'></a>"
   ]
  },
  {
   "cell_type": "markdown",
   "metadata": {},
   "source": [
    "## 3.1 Contents<a id='3.1_Contents'></a>\n",
    "* [3 Exploratory Data Analysis](#3_Exploratory_Data_Analysis)\n",
    "  * [3.1 Contents](#3.1_Contents)\n",
    "  * [3.2 Introduction](#3.2_Introduction)\n",
    "  * [3.3 Imports](#3.3_Imports)\n",
    "  * [3.4 Load The Data](#3.4_Load_The_Data)\n",
    "    * [3.4.1 Ski data](#3.4.1_Ski_data)\n",
    "    * [3.4.2 State-wide summary data](#3.4.2_State-wide_summary_data)\n",
    "  * [3.5 Explore The Data](#3.5_Explore_The_Data)\n",
    "    * [3.5.1 Top States By Order Of Each Of The Summary Statistics](#3.5.1_Top_States_By_Order_Of_Each_Of_The_Summary_Statistics)\n",
    "      * [3.5.1.1 Total state area](#3.5.1.1_Total_state_area)\n",
    "      * [3.5.1.2 Total state population](#3.5.1.2_Total_state_population)\n",
    "      * [3.5.1.3 Resorts per state](#3.5.1.3_Resorts_per_state)\n",
    "      * [3.5.1.4 Total skiable area](#3.5.1.4_Total_skiable_area)\n",
    "      * [3.5.1.5 Total night skiing area](#3.5.1.5_Total_night_skiing_area)\n",
    "      * [3.5.1.6 Total days open](#3.5.1.6_Total_days_open)\n",
    "    * [3.5.2 Resort density](#3.5.2_Resort_density)\n",
    "      * [3.5.2.1 Top states by resort density](#3.5.2.1_Top_states_by_resort_density)\n",
    "    * [3.5.3 Visualizing High Dimensional Data](#3.5.3_Visualizing_High_Dimensional_Data)\n",
    "      * [3.5.3.1 Scale the data](#3.5.3.1_Scale_the_data)\n",
    "        * [3.5.3.1.1 Verifying the scaling](#3.5.3.1.1_Verifying_the_scaling)\n",
    "      * [3.5.3.2 Calculate the PCA transformation](#3.5.3.2_Calculate_the_PCA_transformation)\n",
    "      * [3.5.3.3 Average ticket price by state](#3.5.3.3_Average_ticket_price_by_state)\n",
    "      * [3.5.3.4 Adding average ticket price to scatter plot](#3.5.3.4_Adding_average_ticket_price_to_scatter_plot)\n",
    "    * [3.5.4 Conclusion On How To Handle State Label](#3.5.4_Conclusion_On_How_To_Handle_State_Label)\n",
    "    * [3.5.5 Ski Resort Numeric Data](#3.5.5_Ski_Resort_Numeric_Data)\n",
    "      * [3.5.5.1 Feature engineering](#3.5.5.1_Feature_engineering)\n",
    "      * [3.5.5.2 Feature correlation heatmap](#3.5.5.2_Feature_correlation_heatmap)\n",
    "      * [3.5.5.3 Scatterplots of numeric features against ticket price](#3.5.5.3_Scatterplots_of_numeric_features_against_ticket_price)\n",
    "  * [3.6 Summary](#3.6_Summary)\n"
   ]
  },
  {
   "cell_type": "markdown",
   "metadata": {},
   "source": [
    "## 3.2 Introduction<a id='3.2_Introduction'></a>"
   ]
  },
  {
   "cell_type": "markdown",
   "metadata": {},
   "source": [
    "At this point, you should have a firm idea of what your data science problem is and have the data you believe could help solve it. The business problem was a general one of modeling resort revenue. The data you started with contained some ticket price values, but with a number of missing values that led to several rows being dropped completely. You also had two kinds of ticket price. There were also some obvious issues with some of the other features in the data that, for example, led to one column being completely dropped, a data error corrected, and some other rows dropped. You also obtained some additional US state population and size data with which to augment the dataset, which also required some cleaning.\n",
    "\n",
    "The data science problem you subsequently identified is to predict the adult weekend ticket price for ski resorts."
   ]
  },
  {
   "cell_type": "markdown",
   "metadata": {},
   "source": [
    "## 3.3 Imports<a id='3.3_Imports'></a>"
   ]
  },
  {
   "cell_type": "code",
   "execution_count": 3,
   "metadata": {
    "execution": {
     "iopub.execute_input": "2020-10-07T07:04:19.124917Z",
     "iopub.status.busy": "2020-10-07T07:04:19.124711Z",
     "iopub.status.idle": "2020-10-07T07:04:19.128523Z",
     "shell.execute_reply": "2020-10-07T07:04:19.128112Z",
     "shell.execute_reply.started": "2020-10-07T07:04:19.124888Z"
    },
    "ExecuteTime": {
     "end_time": "2024-04-02T22:29:43.243630Z",
     "start_time": "2024-04-02T22:29:42.659481700Z"
    }
   },
   "outputs": [],
   "source": [
    "import pandas as pd\n",
    "import numpy as np\n",
    "import os\n",
    "import matplotlib.pyplot as plt\n",
    "import seaborn as sns\n",
    "from sklearn.decomposition import PCA\n",
    "from sklearn.preprocessing import scale\n",
    "\n",
    "from library.sb_utils import save_file"
   ]
  },
  {
   "cell_type": "markdown",
   "metadata": {},
   "source": [
    "## 3.4 Load The Data<a id='3.4_Load_The_Data'></a>"
   ]
  },
  {
   "cell_type": "markdown",
   "metadata": {},
   "source": [
    "### 3.4.1 Ski data<a id='3.4.1_Ski_data'></a>"
   ]
  },
  {
   "cell_type": "code",
   "execution_count": 4,
   "metadata": {
    "ExecuteTime": {
     "end_time": "2024-04-02T22:29:43.309691600Z",
     "start_time": "2024-04-02T22:29:43.246630100Z"
    }
   },
   "outputs": [],
   "source": [
    "ski_data = pd.read_csv('../data/ski_data_cleaned.csv')"
   ]
  },
  {
   "cell_type": "code",
   "outputs": [
    {
     "name": "stdout",
     "output_type": "stream",
     "text": [
      "<class 'pandas.core.frame.DataFrame'>\n",
      "RangeIndex: 277 entries, 0 to 276\n",
      "Data columns (total 25 columns):\n",
      " #   Column             Non-Null Count  Dtype  \n",
      "---  ------             --------------  -----  \n",
      " 0   Name               277 non-null    object \n",
      " 1   Region             277 non-null    object \n",
      " 2   state              277 non-null    object \n",
      " 3   summit_elev        277 non-null    int64  \n",
      " 4   vertical_drop      277 non-null    int64  \n",
      " 5   base_elev          277 non-null    int64  \n",
      " 6   trams              277 non-null    int64  \n",
      " 7   fastSixes          277 non-null    int64  \n",
      " 8   fastQuads          277 non-null    int64  \n",
      " 9   quad               277 non-null    int64  \n",
      " 10  triple             277 non-null    int64  \n",
      " 11  double             277 non-null    int64  \n",
      " 12  surface            277 non-null    int64  \n",
      " 13  total_chairs       277 non-null    int64  \n",
      " 14  Runs               274 non-null    float64\n",
      " 15  TerrainParks       233 non-null    float64\n",
      " 16  LongestRun_mi      272 non-null    float64\n",
      " 17  SkiableTerrain_ac  275 non-null    float64\n",
      " 18  Snow Making_ac     240 non-null    float64\n",
      " 19  daysOpenLastYear   233 non-null    float64\n",
      " 20  yearsOpen          277 non-null    float64\n",
      " 21  averageSnowfall    268 non-null    float64\n",
      " 22  AdultWeekend       277 non-null    float64\n",
      " 23  projectedDaysOpen  236 non-null    float64\n",
      " 24  NightSkiing_ac     163 non-null    float64\n",
      "dtypes: float64(11), int64(11), object(3)\n",
      "memory usage: 54.2+ KB\n"
     ]
    }
   ],
   "source": [
    "ski_data.info()"
   ],
   "metadata": {
    "collapsed": false,
    "ExecuteTime": {
     "end_time": "2024-04-02T22:29:43.376675100Z",
     "start_time": "2024-04-02T22:29:43.308691500Z"
    }
   },
   "execution_count": 5
  },
  {
   "cell_type": "code",
   "execution_count": 6,
   "metadata": {
    "ExecuteTime": {
     "end_time": "2024-04-02T22:29:43.395678500Z",
     "start_time": "2024-04-02T22:29:43.352160900Z"
    }
   },
   "outputs": [
    {
     "name": "stdout",
     "output_type": "stream",
     "text": [
      "<class 'pandas.core.frame.DataFrame'>\n",
      "RangeIndex: 277 entries, 0 to 276\n",
      "Data columns (total 25 columns):\n",
      " #   Column             Non-Null Count  Dtype  \n",
      "---  ------             --------------  -----  \n",
      " 0   Name               277 non-null    object \n",
      " 1   Region             277 non-null    object \n",
      " 2   state              277 non-null    object \n",
      " 3   summit_elev        277 non-null    int64  \n",
      " 4   vertical_drop      277 non-null    int64  \n",
      " 5   base_elev          277 non-null    int64  \n",
      " 6   trams              277 non-null    int64  \n",
      " 7   fastSixes          277 non-null    int64  \n",
      " 8   fastQuads          277 non-null    int64  \n",
      " 9   quad               277 non-null    int64  \n",
      " 10  triple             277 non-null    int64  \n",
      " 11  double             277 non-null    int64  \n",
      " 12  surface            277 non-null    int64  \n",
      " 13  total_chairs       277 non-null    int64  \n",
      " 14  Runs               274 non-null    float64\n",
      " 15  TerrainParks       233 non-null    float64\n",
      " 16  LongestRun_mi      272 non-null    float64\n",
      " 17  SkiableTerrain_ac  275 non-null    float64\n",
      " 18  Snow Making_ac     240 non-null    float64\n",
      " 19  daysOpenLastYear   233 non-null    float64\n",
      " 20  yearsOpen          277 non-null    float64\n",
      " 21  averageSnowfall    268 non-null    float64\n",
      " 22  AdultWeekend       277 non-null    float64\n",
      " 23  projectedDaysOpen  236 non-null    float64\n",
      " 24  NightSkiing_ac     163 non-null    float64\n",
      "dtypes: float64(11), int64(11), object(3)\n",
      "memory usage: 54.2+ KB\n"
     ]
    }
   ],
   "source": [
    "ski_data.info()"
   ]
  },
  {
   "cell_type": "code",
   "outputs": [
    {
     "data": {
      "text/plain": "                  Name   Region    state  summit_elev  vertical_drop  \\\n0       Alyeska Resort   Alaska   Alaska         3939           2500   \n1  Eaglecrest Ski Area   Alaska   Alaska         2600           1540   \n2     Hilltop Ski Area   Alaska   Alaska         2090            294   \n3     Arizona Snowbowl  Arizona  Arizona        11500           2300   \n4  Sunrise Park Resort  Arizona  Arizona        11100           1800   \n\n   base_elev  trams  fastSixes  fastQuads  quad  ...  TerrainParks  \\\n0        250      1          0          2     2  ...           2.0   \n1       1200      0          0          0     0  ...           1.0   \n2       1796      0          0          0     0  ...           1.0   \n3       9200      0          1          0     2  ...           4.0   \n4       9200      0          0          1     2  ...           2.0   \n\n   LongestRun_mi  SkiableTerrain_ac  Snow Making_ac  daysOpenLastYear  \\\n0            1.0             1610.0           113.0             150.0   \n1            2.0              640.0            60.0              45.0   \n2            1.0               30.0            30.0             150.0   \n3            2.0              777.0           104.0             122.0   \n4            1.2              800.0            80.0             115.0   \n\n   yearsOpen  averageSnowfall  AdultWeekend  projectedDaysOpen  NightSkiing_ac  \n0       60.0            669.0          85.0              150.0           550.0  \n1       44.0            350.0          53.0               90.0             NaN  \n2       36.0             69.0          34.0              152.0            30.0  \n3       81.0            260.0          89.0              122.0             NaN  \n4       49.0            250.0          78.0              104.0            80.0  \n\n[5 rows x 25 columns]",
      "text/html": "<div>\n<style scoped>\n    .dataframe tbody tr th:only-of-type {\n        vertical-align: middle;\n    }\n\n    .dataframe tbody tr th {\n        vertical-align: top;\n    }\n\n    .dataframe thead th {\n        text-align: right;\n    }\n</style>\n<table border=\"1\" class=\"dataframe\">\n  <thead>\n    <tr style=\"text-align: right;\">\n      <th></th>\n      <th>Name</th>\n      <th>Region</th>\n      <th>state</th>\n      <th>summit_elev</th>\n      <th>vertical_drop</th>\n      <th>base_elev</th>\n      <th>trams</th>\n      <th>fastSixes</th>\n      <th>fastQuads</th>\n      <th>quad</th>\n      <th>...</th>\n      <th>TerrainParks</th>\n      <th>LongestRun_mi</th>\n      <th>SkiableTerrain_ac</th>\n      <th>Snow Making_ac</th>\n      <th>daysOpenLastYear</th>\n      <th>yearsOpen</th>\n      <th>averageSnowfall</th>\n      <th>AdultWeekend</th>\n      <th>projectedDaysOpen</th>\n      <th>NightSkiing_ac</th>\n    </tr>\n  </thead>\n  <tbody>\n    <tr>\n      <th>0</th>\n      <td>Alyeska Resort</td>\n      <td>Alaska</td>\n      <td>Alaska</td>\n      <td>3939</td>\n      <td>2500</td>\n      <td>250</td>\n      <td>1</td>\n      <td>0</td>\n      <td>2</td>\n      <td>2</td>\n      <td>...</td>\n      <td>2.0</td>\n      <td>1.0</td>\n      <td>1610.0</td>\n      <td>113.0</td>\n      <td>150.0</td>\n      <td>60.0</td>\n      <td>669.0</td>\n      <td>85.0</td>\n      <td>150.0</td>\n      <td>550.0</td>\n    </tr>\n    <tr>\n      <th>1</th>\n      <td>Eaglecrest Ski Area</td>\n      <td>Alaska</td>\n      <td>Alaska</td>\n      <td>2600</td>\n      <td>1540</td>\n      <td>1200</td>\n      <td>0</td>\n      <td>0</td>\n      <td>0</td>\n      <td>0</td>\n      <td>...</td>\n      <td>1.0</td>\n      <td>2.0</td>\n      <td>640.0</td>\n      <td>60.0</td>\n      <td>45.0</td>\n      <td>44.0</td>\n      <td>350.0</td>\n      <td>53.0</td>\n      <td>90.0</td>\n      <td>NaN</td>\n    </tr>\n    <tr>\n      <th>2</th>\n      <td>Hilltop Ski Area</td>\n      <td>Alaska</td>\n      <td>Alaska</td>\n      <td>2090</td>\n      <td>294</td>\n      <td>1796</td>\n      <td>0</td>\n      <td>0</td>\n      <td>0</td>\n      <td>0</td>\n      <td>...</td>\n      <td>1.0</td>\n      <td>1.0</td>\n      <td>30.0</td>\n      <td>30.0</td>\n      <td>150.0</td>\n      <td>36.0</td>\n      <td>69.0</td>\n      <td>34.0</td>\n      <td>152.0</td>\n      <td>30.0</td>\n    </tr>\n    <tr>\n      <th>3</th>\n      <td>Arizona Snowbowl</td>\n      <td>Arizona</td>\n      <td>Arizona</td>\n      <td>11500</td>\n      <td>2300</td>\n      <td>9200</td>\n      <td>0</td>\n      <td>1</td>\n      <td>0</td>\n      <td>2</td>\n      <td>...</td>\n      <td>4.0</td>\n      <td>2.0</td>\n      <td>777.0</td>\n      <td>104.0</td>\n      <td>122.0</td>\n      <td>81.0</td>\n      <td>260.0</td>\n      <td>89.0</td>\n      <td>122.0</td>\n      <td>NaN</td>\n    </tr>\n    <tr>\n      <th>4</th>\n      <td>Sunrise Park Resort</td>\n      <td>Arizona</td>\n      <td>Arizona</td>\n      <td>11100</td>\n      <td>1800</td>\n      <td>9200</td>\n      <td>0</td>\n      <td>0</td>\n      <td>1</td>\n      <td>2</td>\n      <td>...</td>\n      <td>2.0</td>\n      <td>1.2</td>\n      <td>800.0</td>\n      <td>80.0</td>\n      <td>115.0</td>\n      <td>49.0</td>\n      <td>250.0</td>\n      <td>78.0</td>\n      <td>104.0</td>\n      <td>80.0</td>\n    </tr>\n  </tbody>\n</table>\n<p>5 rows × 25 columns</p>\n</div>"
     },
     "execution_count": 7,
     "metadata": {},
     "output_type": "execute_result"
    }
   ],
   "source": [
    "ski_data.head()"
   ],
   "metadata": {
    "collapsed": false,
    "ExecuteTime": {
     "end_time": "2024-04-02T22:29:43.463184400Z",
     "start_time": "2024-04-02T22:29:43.397680Z"
    }
   },
   "execution_count": 7
  },
  {
   "cell_type": "code",
   "execution_count": 8,
   "metadata": {
    "ExecuteTime": {
     "end_time": "2024-04-02T22:29:43.501324300Z",
     "start_time": "2024-04-02T22:29:43.438682500Z"
    }
   },
   "outputs": [
    {
     "data": {
      "text/plain": "                  Name   Region    state  summit_elev  vertical_drop  \\\n0       Alyeska Resort   Alaska   Alaska         3939           2500   \n1  Eaglecrest Ski Area   Alaska   Alaska         2600           1540   \n2     Hilltop Ski Area   Alaska   Alaska         2090            294   \n3     Arizona Snowbowl  Arizona  Arizona        11500           2300   \n4  Sunrise Park Resort  Arizona  Arizona        11100           1800   \n\n   base_elev  trams  fastSixes  fastQuads  quad  ...  TerrainParks  \\\n0        250      1          0          2     2  ...           2.0   \n1       1200      0          0          0     0  ...           1.0   \n2       1796      0          0          0     0  ...           1.0   \n3       9200      0          1          0     2  ...           4.0   \n4       9200      0          0          1     2  ...           2.0   \n\n   LongestRun_mi  SkiableTerrain_ac  Snow Making_ac  daysOpenLastYear  \\\n0            1.0             1610.0           113.0             150.0   \n1            2.0              640.0            60.0              45.0   \n2            1.0               30.0            30.0             150.0   \n3            2.0              777.0           104.0             122.0   \n4            1.2              800.0            80.0             115.0   \n\n   yearsOpen  averageSnowfall  AdultWeekend  projectedDaysOpen  NightSkiing_ac  \n0       60.0            669.0          85.0              150.0           550.0  \n1       44.0            350.0          53.0               90.0             NaN  \n2       36.0             69.0          34.0              152.0            30.0  \n3       81.0            260.0          89.0              122.0             NaN  \n4       49.0            250.0          78.0              104.0            80.0  \n\n[5 rows x 25 columns]",
      "text/html": "<div>\n<style scoped>\n    .dataframe tbody tr th:only-of-type {\n        vertical-align: middle;\n    }\n\n    .dataframe tbody tr th {\n        vertical-align: top;\n    }\n\n    .dataframe thead th {\n        text-align: right;\n    }\n</style>\n<table border=\"1\" class=\"dataframe\">\n  <thead>\n    <tr style=\"text-align: right;\">\n      <th></th>\n      <th>Name</th>\n      <th>Region</th>\n      <th>state</th>\n      <th>summit_elev</th>\n      <th>vertical_drop</th>\n      <th>base_elev</th>\n      <th>trams</th>\n      <th>fastSixes</th>\n      <th>fastQuads</th>\n      <th>quad</th>\n      <th>...</th>\n      <th>TerrainParks</th>\n      <th>LongestRun_mi</th>\n      <th>SkiableTerrain_ac</th>\n      <th>Snow Making_ac</th>\n      <th>daysOpenLastYear</th>\n      <th>yearsOpen</th>\n      <th>averageSnowfall</th>\n      <th>AdultWeekend</th>\n      <th>projectedDaysOpen</th>\n      <th>NightSkiing_ac</th>\n    </tr>\n  </thead>\n  <tbody>\n    <tr>\n      <th>0</th>\n      <td>Alyeska Resort</td>\n      <td>Alaska</td>\n      <td>Alaska</td>\n      <td>3939</td>\n      <td>2500</td>\n      <td>250</td>\n      <td>1</td>\n      <td>0</td>\n      <td>2</td>\n      <td>2</td>\n      <td>...</td>\n      <td>2.0</td>\n      <td>1.0</td>\n      <td>1610.0</td>\n      <td>113.0</td>\n      <td>150.0</td>\n      <td>60.0</td>\n      <td>669.0</td>\n      <td>85.0</td>\n      <td>150.0</td>\n      <td>550.0</td>\n    </tr>\n    <tr>\n      <th>1</th>\n      <td>Eaglecrest Ski Area</td>\n      <td>Alaska</td>\n      <td>Alaska</td>\n      <td>2600</td>\n      <td>1540</td>\n      <td>1200</td>\n      <td>0</td>\n      <td>0</td>\n      <td>0</td>\n      <td>0</td>\n      <td>...</td>\n      <td>1.0</td>\n      <td>2.0</td>\n      <td>640.0</td>\n      <td>60.0</td>\n      <td>45.0</td>\n      <td>44.0</td>\n      <td>350.0</td>\n      <td>53.0</td>\n      <td>90.0</td>\n      <td>NaN</td>\n    </tr>\n    <tr>\n      <th>2</th>\n      <td>Hilltop Ski Area</td>\n      <td>Alaska</td>\n      <td>Alaska</td>\n      <td>2090</td>\n      <td>294</td>\n      <td>1796</td>\n      <td>0</td>\n      <td>0</td>\n      <td>0</td>\n      <td>0</td>\n      <td>...</td>\n      <td>1.0</td>\n      <td>1.0</td>\n      <td>30.0</td>\n      <td>30.0</td>\n      <td>150.0</td>\n      <td>36.0</td>\n      <td>69.0</td>\n      <td>34.0</td>\n      <td>152.0</td>\n      <td>30.0</td>\n    </tr>\n    <tr>\n      <th>3</th>\n      <td>Arizona Snowbowl</td>\n      <td>Arizona</td>\n      <td>Arizona</td>\n      <td>11500</td>\n      <td>2300</td>\n      <td>9200</td>\n      <td>0</td>\n      <td>1</td>\n      <td>0</td>\n      <td>2</td>\n      <td>...</td>\n      <td>4.0</td>\n      <td>2.0</td>\n      <td>777.0</td>\n      <td>104.0</td>\n      <td>122.0</td>\n      <td>81.0</td>\n      <td>260.0</td>\n      <td>89.0</td>\n      <td>122.0</td>\n      <td>NaN</td>\n    </tr>\n    <tr>\n      <th>4</th>\n      <td>Sunrise Park Resort</td>\n      <td>Arizona</td>\n      <td>Arizona</td>\n      <td>11100</td>\n      <td>1800</td>\n      <td>9200</td>\n      <td>0</td>\n      <td>0</td>\n      <td>1</td>\n      <td>2</td>\n      <td>...</td>\n      <td>2.0</td>\n      <td>1.2</td>\n      <td>800.0</td>\n      <td>80.0</td>\n      <td>115.0</td>\n      <td>49.0</td>\n      <td>250.0</td>\n      <td>78.0</td>\n      <td>104.0</td>\n      <td>80.0</td>\n    </tr>\n  </tbody>\n</table>\n<p>5 rows × 25 columns</p>\n</div>"
     },
     "execution_count": 8,
     "metadata": {},
     "output_type": "execute_result"
    }
   ],
   "source": [
    "ski_data.head()"
   ]
  },
  {
   "cell_type": "code",
   "outputs": [],
   "source": [
    "state_summary = pd.read_csv('../data/state_summary.csv')"
   ],
   "metadata": {
    "collapsed": false,
    "ExecuteTime": {
     "end_time": "2024-04-02T22:29:43.542334300Z",
     "start_time": "2024-04-02T22:29:43.487189500Z"
    }
   },
   "execution_count": 9
  },
  {
   "cell_type": "code",
   "outputs": [],
   "source": [],
   "metadata": {
    "collapsed": false,
    "ExecuteTime": {
     "end_time": "2024-04-02T22:29:43.644707800Z",
     "start_time": "2024-04-02T22:29:43.543329300Z"
    }
   },
   "execution_count": 9
  },
  {
   "cell_type": "markdown",
   "metadata": {},
   "source": [
    "### 3.4.2 State-wide summary data<a id='3.4.2_State-wide_summary_data'></a>"
   ]
  },
  {
   "cell_type": "code",
   "execution_count": 10,
   "metadata": {
    "ExecuteTime": {
     "end_time": "2024-04-02T22:29:43.808747900Z",
     "start_time": "2024-04-02T22:29:43.624349900Z"
    }
   },
   "outputs": [],
   "source": [
    "state_summary = pd.read_csv('../data/state_summary.csv')"
   ]
  },
  {
   "cell_type": "code",
   "outputs": [
    {
     "name": "stdout",
     "output_type": "stream",
     "text": [
      "<class 'pandas.core.frame.DataFrame'>\n",
      "RangeIndex: 35 entries, 0 to 34\n",
      "Data columns (total 8 columns):\n",
      " #   Column                       Non-Null Count  Dtype \n",
      "---  ------                       --------------  ----- \n",
      " 0   state                        35 non-null     object\n",
      " 1   resorts_per_state            35 non-null     int64 \n",
      " 2   state_total_skiable_area_ac  35 non-null     int64 \n",
      " 3   state_total_days_open        35 non-null     int64 \n",
      " 4   state_total_terrain_parks    35 non-null     int64 \n",
      " 5   state_total_nightskiing_ac   35 non-null     int64 \n",
      " 6   state_population             35 non-null     int64 \n",
      " 7   state_area_sq_miles          35 non-null     int64 \n",
      "dtypes: int64(7), object(1)\n",
      "memory usage: 2.3+ KB\n"
     ]
    }
   ],
   "source": [
    "state_summary.info()"
   ],
   "metadata": {
    "collapsed": false,
    "ExecuteTime": {
     "end_time": "2024-04-02T22:29:43.869140100Z",
     "start_time": "2024-04-02T22:29:43.809747400Z"
    }
   },
   "execution_count": 11
  },
  {
   "cell_type": "code",
   "execution_count": 12,
   "metadata": {
    "ExecuteTime": {
     "end_time": "2024-04-02T22:29:43.911151100Z",
     "start_time": "2024-04-02T22:29:43.854412500Z"
    }
   },
   "outputs": [
    {
     "name": "stdout",
     "output_type": "stream",
     "text": [
      "<class 'pandas.core.frame.DataFrame'>\n",
      "RangeIndex: 35 entries, 0 to 34\n",
      "Data columns (total 8 columns):\n",
      " #   Column                       Non-Null Count  Dtype \n",
      "---  ------                       --------------  ----- \n",
      " 0   state                        35 non-null     object\n",
      " 1   resorts_per_state            35 non-null     int64 \n",
      " 2   state_total_skiable_area_ac  35 non-null     int64 \n",
      " 3   state_total_days_open        35 non-null     int64 \n",
      " 4   state_total_terrain_parks    35 non-null     int64 \n",
      " 5   state_total_nightskiing_ac   35 non-null     int64 \n",
      " 6   state_population             35 non-null     int64 \n",
      " 7   state_area_sq_miles          35 non-null     int64 \n",
      "dtypes: int64(7), object(1)\n",
      "memory usage: 2.3+ KB\n"
     ]
    }
   ],
   "source": [
    "state_summary.info()"
   ]
  },
  {
   "cell_type": "code",
   "outputs": [
    {
     "data": {
      "text/plain": "         state  resorts_per_state  state_total_skiable_area_ac  \\\n0       Alaska                  3                         2280   \n1      Arizona                  2                         1577   \n2   California                 21                        25948   \n3     Colorado                 22                        43682   \n4  Connecticut                  5                          358   \n\n   state_total_days_open  state_total_terrain_parks  \\\n0                    345                          4   \n1                    237                          6   \n2                   2738                         81   \n3                   3258                         74   \n4                    353                         10   \n\n   state_total_nightskiing_ac  state_population  state_area_sq_miles  \n0                         580            731545               665384  \n1                          80           7278717               113990  \n2                         587          39512223               163695  \n3                         428           5758736               104094  \n4                         256           3565278                 5543  ",
      "text/html": "<div>\n<style scoped>\n    .dataframe tbody tr th:only-of-type {\n        vertical-align: middle;\n    }\n\n    .dataframe tbody tr th {\n        vertical-align: top;\n    }\n\n    .dataframe thead th {\n        text-align: right;\n    }\n</style>\n<table border=\"1\" class=\"dataframe\">\n  <thead>\n    <tr style=\"text-align: right;\">\n      <th></th>\n      <th>state</th>\n      <th>resorts_per_state</th>\n      <th>state_total_skiable_area_ac</th>\n      <th>state_total_days_open</th>\n      <th>state_total_terrain_parks</th>\n      <th>state_total_nightskiing_ac</th>\n      <th>state_population</th>\n      <th>state_area_sq_miles</th>\n    </tr>\n  </thead>\n  <tbody>\n    <tr>\n      <th>0</th>\n      <td>Alaska</td>\n      <td>3</td>\n      <td>2280</td>\n      <td>345</td>\n      <td>4</td>\n      <td>580</td>\n      <td>731545</td>\n      <td>665384</td>\n    </tr>\n    <tr>\n      <th>1</th>\n      <td>Arizona</td>\n      <td>2</td>\n      <td>1577</td>\n      <td>237</td>\n      <td>6</td>\n      <td>80</td>\n      <td>7278717</td>\n      <td>113990</td>\n    </tr>\n    <tr>\n      <th>2</th>\n      <td>California</td>\n      <td>21</td>\n      <td>25948</td>\n      <td>2738</td>\n      <td>81</td>\n      <td>587</td>\n      <td>39512223</td>\n      <td>163695</td>\n    </tr>\n    <tr>\n      <th>3</th>\n      <td>Colorado</td>\n      <td>22</td>\n      <td>43682</td>\n      <td>3258</td>\n      <td>74</td>\n      <td>428</td>\n      <td>5758736</td>\n      <td>104094</td>\n    </tr>\n    <tr>\n      <th>4</th>\n      <td>Connecticut</td>\n      <td>5</td>\n      <td>358</td>\n      <td>353</td>\n      <td>10</td>\n      <td>256</td>\n      <td>3565278</td>\n      <td>5543</td>\n    </tr>\n  </tbody>\n</table>\n</div>"
     },
     "execution_count": 13,
     "metadata": {},
     "output_type": "execute_result"
    }
   ],
   "source": [
    "state_summary.head()"
   ],
   "metadata": {
    "collapsed": false,
    "ExecuteTime": {
     "end_time": "2024-04-02T22:29:43.974106300Z",
     "start_time": "2024-04-02T22:29:43.912151Z"
    }
   },
   "execution_count": 13
  },
  {
   "cell_type": "code",
   "execution_count": 14,
   "metadata": {
    "scrolled": true,
    "ExecuteTime": {
     "end_time": "2024-04-02T22:29:44.053764400Z",
     "start_time": "2024-04-02T22:29:43.972107Z"
    }
   },
   "outputs": [
    {
     "data": {
      "text/plain": "         state  resorts_per_state  state_total_skiable_area_ac  \\\n0       Alaska                  3                         2280   \n1      Arizona                  2                         1577   \n2   California                 21                        25948   \n3     Colorado                 22                        43682   \n4  Connecticut                  5                          358   \n\n   state_total_days_open  state_total_terrain_parks  \\\n0                    345                          4   \n1                    237                          6   \n2                   2738                         81   \n3                   3258                         74   \n4                    353                         10   \n\n   state_total_nightskiing_ac  state_population  state_area_sq_miles  \n0                         580            731545               665384  \n1                          80           7278717               113990  \n2                         587          39512223               163695  \n3                         428           5758736               104094  \n4                         256           3565278                 5543  ",
      "text/html": "<div>\n<style scoped>\n    .dataframe tbody tr th:only-of-type {\n        vertical-align: middle;\n    }\n\n    .dataframe tbody tr th {\n        vertical-align: top;\n    }\n\n    .dataframe thead th {\n        text-align: right;\n    }\n</style>\n<table border=\"1\" class=\"dataframe\">\n  <thead>\n    <tr style=\"text-align: right;\">\n      <th></th>\n      <th>state</th>\n      <th>resorts_per_state</th>\n      <th>state_total_skiable_area_ac</th>\n      <th>state_total_days_open</th>\n      <th>state_total_terrain_parks</th>\n      <th>state_total_nightskiing_ac</th>\n      <th>state_population</th>\n      <th>state_area_sq_miles</th>\n    </tr>\n  </thead>\n  <tbody>\n    <tr>\n      <th>0</th>\n      <td>Alaska</td>\n      <td>3</td>\n      <td>2280</td>\n      <td>345</td>\n      <td>4</td>\n      <td>580</td>\n      <td>731545</td>\n      <td>665384</td>\n    </tr>\n    <tr>\n      <th>1</th>\n      <td>Arizona</td>\n      <td>2</td>\n      <td>1577</td>\n      <td>237</td>\n      <td>6</td>\n      <td>80</td>\n      <td>7278717</td>\n      <td>113990</td>\n    </tr>\n    <tr>\n      <th>2</th>\n      <td>California</td>\n      <td>21</td>\n      <td>25948</td>\n      <td>2738</td>\n      <td>81</td>\n      <td>587</td>\n      <td>39512223</td>\n      <td>163695</td>\n    </tr>\n    <tr>\n      <th>3</th>\n      <td>Colorado</td>\n      <td>22</td>\n      <td>43682</td>\n      <td>3258</td>\n      <td>74</td>\n      <td>428</td>\n      <td>5758736</td>\n      <td>104094</td>\n    </tr>\n    <tr>\n      <th>4</th>\n      <td>Connecticut</td>\n      <td>5</td>\n      <td>358</td>\n      <td>353</td>\n      <td>10</td>\n      <td>256</td>\n      <td>3565278</td>\n      <td>5543</td>\n    </tr>\n  </tbody>\n</table>\n</div>"
     },
     "execution_count": 14,
     "metadata": {},
     "output_type": "execute_result"
    }
   ],
   "source": [
    "state_summary.head()"
   ]
  },
  {
   "cell_type": "markdown",
   "metadata": {},
   "source": [
    "## 3.5 Explore The Data<a id='3.5_Explore_The_Data'></a>"
   ]
  },
  {
   "cell_type": "markdown",
   "metadata": {},
   "source": [
    "### 3.5.1 Top States By Order Of Each Of The Summary Statistics<a id='3.5.1_Top_States_By_Order_Of_Each_Of_The_Summary_Statistics'></a>"
   ]
  },
  {
   "cell_type": "markdown",
   "metadata": {},
   "source": [
    "What does the state-wide picture for your market look like?"
   ]
  },
  {
   "cell_type": "code",
   "execution_count": 15,
   "metadata": {
    "ExecuteTime": {
     "end_time": "2024-04-02T22:29:44.108148100Z",
     "start_time": "2024-04-02T22:29:44.029205900Z"
    }
   },
   "outputs": [],
   "source": [
    "state_summary_newind = state_summary.set_index('state')"
   ]
  },
  {
   "cell_type": "code",
   "outputs": [
    {
     "data": {
      "text/plain": "             resorts_per_state  state_total_skiable_area_ac  \\\nstate                                                         \nAlaska                       3                         2280   \nArizona                      2                         1577   \nCalifornia                  21                        25948   \nColorado                    22                        43682   \nConnecticut                  5                          358   \n\n             state_total_days_open  state_total_terrain_parks  \\\nstate                                                           \nAlaska                         345                          4   \nArizona                        237                          6   \nCalifornia                    2738                         81   \nColorado                      3258                         74   \nConnecticut                    353                         10   \n\n             state_total_nightskiing_ac  state_population  state_area_sq_miles  \nstate                                                                           \nAlaska                              580            731545               665384  \nArizona                              80           7278717               113990  \nCalifornia                          587          39512223               163695  \nColorado                            428           5758736               104094  \nConnecticut                         256           3565278                 5543  ",
      "text/html": "<div>\n<style scoped>\n    .dataframe tbody tr th:only-of-type {\n        vertical-align: middle;\n    }\n\n    .dataframe tbody tr th {\n        vertical-align: top;\n    }\n\n    .dataframe thead th {\n        text-align: right;\n    }\n</style>\n<table border=\"1\" class=\"dataframe\">\n  <thead>\n    <tr style=\"text-align: right;\">\n      <th></th>\n      <th>resorts_per_state</th>\n      <th>state_total_skiable_area_ac</th>\n      <th>state_total_days_open</th>\n      <th>state_total_terrain_parks</th>\n      <th>state_total_nightskiing_ac</th>\n      <th>state_population</th>\n      <th>state_area_sq_miles</th>\n    </tr>\n    <tr>\n      <th>state</th>\n      <th></th>\n      <th></th>\n      <th></th>\n      <th></th>\n      <th></th>\n      <th></th>\n      <th></th>\n    </tr>\n  </thead>\n  <tbody>\n    <tr>\n      <th>Alaska</th>\n      <td>3</td>\n      <td>2280</td>\n      <td>345</td>\n      <td>4</td>\n      <td>580</td>\n      <td>731545</td>\n      <td>665384</td>\n    </tr>\n    <tr>\n      <th>Arizona</th>\n      <td>2</td>\n      <td>1577</td>\n      <td>237</td>\n      <td>6</td>\n      <td>80</td>\n      <td>7278717</td>\n      <td>113990</td>\n    </tr>\n    <tr>\n      <th>California</th>\n      <td>21</td>\n      <td>25948</td>\n      <td>2738</td>\n      <td>81</td>\n      <td>587</td>\n      <td>39512223</td>\n      <td>163695</td>\n    </tr>\n    <tr>\n      <th>Colorado</th>\n      <td>22</td>\n      <td>43682</td>\n      <td>3258</td>\n      <td>74</td>\n      <td>428</td>\n      <td>5758736</td>\n      <td>104094</td>\n    </tr>\n    <tr>\n      <th>Connecticut</th>\n      <td>5</td>\n      <td>358</td>\n      <td>353</td>\n      <td>10</td>\n      <td>256</td>\n      <td>3565278</td>\n      <td>5543</td>\n    </tr>\n  </tbody>\n</table>\n</div>"
     },
     "execution_count": 16,
     "metadata": {},
     "output_type": "execute_result"
    }
   ],
   "source": [
    "state_summary_newind.head()"
   ],
   "metadata": {
    "collapsed": false,
    "ExecuteTime": {
     "end_time": "2024-04-02T22:29:44.221176Z",
     "start_time": "2024-04-02T22:29:44.082771600Z"
    }
   },
   "execution_count": 16
  },
  {
   "cell_type": "markdown",
   "metadata": {},
   "source": [
    "#### 3.5.1.1 Total state area<a id='3.5.1.1_Total_state_area'></a>"
   ]
  },
  {
   "cell_type": "code",
   "execution_count": 17,
   "metadata": {
    "ExecuteTime": {
     "end_time": "2024-04-02T22:29:44.318562100Z",
     "start_time": "2024-04-02T22:29:44.223176200Z"
    }
   },
   "outputs": [
    {
     "data": {
      "text/plain": "state\nAlaska          665384\nCalifornia      163695\nMontana         147040\nNew Mexico      121590\nArizona         113990\nNevada          110572\nColorado        104094\nOregon           98379\nWyoming          97813\nMichigan         96714\nMinnesota        86936\nUtah             84897\nIdaho            83569\nSouth Dakota     77116\nWashington       71298\nMissouri         69707\nWisconsin        65496\nIllinois         57914\nIowa             56273\nNew York         54555\nName: state_area_sq_miles, dtype: int64"
     },
     "execution_count": 17,
     "metadata": {},
     "output_type": "execute_result"
    }
   ],
   "source": [
    "state_summary_newind.state_area_sq_miles.sort_values(ascending=False).head(20)"
   ]
  },
  {
   "cell_type": "markdown",
   "metadata": {},
   "source": [
    "Your home state, Montana, comes in at third largest."
   ]
  },
  {
   "cell_type": "markdown",
   "metadata": {},
   "source": [
    "#### 3.5.1.2 Total state population<a id='3.5.1.2_Total_state_population'></a>"
   ]
  },
  {
   "cell_type": "code",
   "execution_count": 18,
   "metadata": {
    "ExecuteTime": {
     "end_time": "2024-04-02T22:29:44.476244800Z",
     "start_time": "2024-04-02T22:29:44.291721700Z"
    }
   },
   "outputs": [
    {
     "data": {
      "text/plain": "state\nCalifornia        39512223\nNew York          19453561\nPennsylvania      12801989\nIllinois          12671821\nOhio              11689100\nNorth Carolina    10488084\nMichigan           9986857\nNew Jersey         8882190\nVirginia           8535519\nWashington         7614893\nArizona            7278717\nMassachusetts      6892503\nTennessee          6829174\nIndiana            6732219\nMissouri           6137428\nMaryland           6045680\nWisconsin          5822434\nColorado           5758736\nMinnesota          5639632\nOregon             4217737\nConnecticut        3565278\nUtah               3205958\nIowa               3155070\nNevada             3080156\nNew Mexico         2096829\nWest Virginia      1792147\nIdaho              1787065\nNew Hampshire      1359711\nMaine              1344212\nMontana            1068778\nName: state_population, dtype: int64"
     },
     "execution_count": 18,
     "metadata": {},
     "output_type": "execute_result"
    }
   ],
   "source": [
    "state_summary_newind.state_population.sort_values(ascending=False).head(30)"
   ]
  },
  {
   "cell_type": "markdown",
   "metadata": {},
   "source": [
    "California dominates the state population figures despite coming in second behind Alaska in size (by a long way). The resort's state of Montana was in the top five for size, but doesn't figure in the most populous states. Thus your state is less densely populated."
   ]
  },
  {
   "cell_type": "markdown",
   "metadata": {},
   "source": [
    "#### 3.5.1.3 Resorts per state<a id='3.5.1.3_Resorts_per_state'></a>"
   ]
  },
  {
   "cell_type": "code",
   "execution_count": 19,
   "metadata": {
    "ExecuteTime": {
     "end_time": "2024-04-02T22:29:44.565336600Z",
     "start_time": "2024-04-02T22:29:44.437591100Z"
    }
   },
   "outputs": [
    {
     "data": {
      "text/plain": "state\nNew York        33\nMichigan        28\nColorado        22\nCalifornia      21\nPennsylvania    19\nName: resorts_per_state, dtype: int64"
     },
     "execution_count": 19,
     "metadata": {},
     "output_type": "execute_result"
    }
   ],
   "source": [
    "state_summary_newind.resorts_per_state.sort_values(ascending=False).head()"
   ]
  },
  {
   "cell_type": "markdown",
   "metadata": {},
   "source": [
    "New York comes top in the number of resorts in our market. Is this because of its proximity to wealthy New Yorkers wanting a convenient skiing trip? Or is it simply that its northerly location means there are plenty of good locations for resorts in that state?"
   ]
  },
  {
   "cell_type": "markdown",
   "metadata": {},
   "source": [
    "#### 3.5.1.4 Total skiable area<a id='3.5.1.4_Total_skiable_area'></a>"
   ]
  },
  {
   "cell_type": "code",
   "execution_count": 20,
   "metadata": {
    "ExecuteTime": {
     "end_time": "2024-04-02T22:29:44.727641400Z",
     "start_time": "2024-04-02T22:29:44.545260900Z"
    }
   },
   "outputs": [
    {
     "data": {
      "text/plain": "state\nColorado      43682\nUtah          30508\nCalifornia    25948\nMontana       21410\nIdaho         16396\nName: state_total_skiable_area_ac, dtype: int64"
     },
     "execution_count": 20,
     "metadata": {},
     "output_type": "execute_result"
    }
   ],
   "source": [
    "state_summary_newind.state_total_skiable_area_ac.sort_values(ascending=False).head()"
   ]
  },
  {
   "cell_type": "markdown",
   "metadata": {},
   "source": [
    "New York state may have the most resorts, but they don't account for the most skiing area. In fact, New York doesn't even make it into the top five of skiable area. Good old Montana makes it into the top five, though. You may start to think that New York has more, smaller resorts, whereas Montana has fewer, larger resorts. Colorado seems to have a name for skiing; it's in the top five for resorts and in top place for total skiable area."
   ]
  },
  {
   "cell_type": "markdown",
   "metadata": {},
   "source": [
    "#### 3.5.1.5 Total night skiing area<a id='3.5.1.5_Total_night_skiing_area'></a>"
   ]
  },
  {
   "cell_type": "code",
   "execution_count": 21,
   "metadata": {
    "ExecuteTime": {
     "end_time": "2024-04-02T22:29:44.792718100Z",
     "start_time": "2024-04-02T22:29:44.720374200Z"
    }
   },
   "outputs": [
    {
     "data": {
      "text/plain": "state\nNew York        2836\nWashington      1997\nMichigan        1946\nPennsylvania    1528\nOregon          1127\nName: state_total_nightskiing_ac, dtype: int64"
     },
     "execution_count": 21,
     "metadata": {},
     "output_type": "execute_result"
    }
   ],
   "source": [
    "state_summary_newind.state_total_nightskiing_ac.sort_values(ascending=False).head()"
   ]
  },
  {
   "cell_type": "markdown",
   "metadata": {},
   "source": [
    "New York dominates the area of skiing available at night. Looking at the top five in general, they are all the more northerly states. Is night skiing in and of itself an appeal to customers, or is a consequence of simply trying to extend the skiing day where days are shorter? Is New York's domination here because it's trying to maximize its appeal to visitors who'd travel a shorter distance for a shorter visit? You'll find the data generates more (good) questions rather than answering them. This is a positive sign! You might ask your executive sponsor or data provider for some additional data about typical length of stays at these resorts, although you might end up with data that is very granular and most likely proprietary to each resort. A useful level of granularity might be \"number of day tickets\" and \"number of weekly passes\" sold."
   ]
  },
  {
   "cell_type": "markdown",
   "metadata": {},
   "source": [
    "#### 3.5.1.6 Total days open<a id='3.5.1.6_Total_days_open'></a>"
   ]
  },
  {
   "cell_type": "code",
   "execution_count": 22,
   "metadata": {
    "ExecuteTime": {
     "end_time": "2024-04-02T22:29:44.897844300Z",
     "start_time": "2024-04-02T22:29:44.782654100Z"
    }
   },
   "outputs": [
    {
     "data": {
      "text/plain": "state\nColorado         3258\nCalifornia       2738\nMichigan         2389\nNew York         2384\nNew Hampshire    1847\nName: state_total_days_open, dtype: int64"
     },
     "execution_count": 22,
     "metadata": {},
     "output_type": "execute_result"
    }
   ],
   "source": [
    "state_summary_newind.state_total_days_open.sort_values(ascending=False).head()"
   ]
  },
  {
   "cell_type": "markdown",
   "metadata": {},
   "source": [
    "The total days open seem to bear some resemblance to the number of resorts. This is plausible. The season will only be so long, and so the more resorts open through the skiing season, the more total days open we'll see. New Hampshire makes a good effort at making it into the top five, for a small state that didn't make it into the top five of resorts per state. Does its location mean resorts there have a longer season and so stay open longer, despite there being fewer of them?"
   ]
  },
  {
   "cell_type": "markdown",
   "metadata": {},
   "source": [
    "### 3.5.2 Resort density<a id='3.5.2_Resort_density'></a>"
   ]
  },
  {
   "cell_type": "markdown",
   "metadata": {},
   "source": [
    "There are big states which are not necessarily the most populous. There are states that host many resorts, but other states host a larger total skiing area. The states with the most total days skiing per season are not necessarily those with the most resorts. And New York State boasts an especially large night skiing area. New York had the most resorts but wasn't in the top five largest states, so the reason for it having the most resorts can't be simply having lots of space for them. New York has the second largest population behind California. Perhaps many resorts have sprung up in New York because of the population size? Does this mean there is a high competition between resorts in New York State, fighting for customers and thus keeping prices down? You're not concerned, per se, with the absolute size or population of a state, but you could be interested in the ratio of resorts serving a given population or a given area.\n",
    "\n",
    "So, calculate those ratios! Think of them as measures of resort density, and drop the absolute population and state size columns."
   ]
  },
  {
   "cell_type": "code",
   "execution_count": 23,
   "metadata": {
    "ExecuteTime": {
     "end_time": "2024-04-02T22:29:44.940393400Z",
     "start_time": "2024-04-02T22:29:44.880739Z"
    }
   },
   "outputs": [
    {
     "data": {
      "text/plain": "         state  resorts_per_state  state_total_skiable_area_ac  \\\n0       Alaska                  3                         2280   \n1      Arizona                  2                         1577   \n2   California                 21                        25948   \n3     Colorado                 22                        43682   \n4  Connecticut                  5                          358   \n\n   state_total_days_open  state_total_terrain_parks  \\\n0                    345                          4   \n1                    237                          6   \n2                   2738                         81   \n3                   3258                         74   \n4                    353                         10   \n\n   state_total_nightskiing_ac  state_population  state_area_sq_miles  \\\n0                         580            731545               665384   \n1                          80           7278717               113990   \n2                         587          39512223               163695   \n3                         428           5758736               104094   \n4                         256           3565278                 5543   \n\n   resorts_per_100kcapita  resorts_per_100ksq_mile  \n0                0.410091                 0.450867  \n1                0.027477                 1.754540  \n2                0.053148                12.828736  \n3                0.382028                21.134744  \n4                0.140242                90.203861  ",
      "text/html": "<div>\n<style scoped>\n    .dataframe tbody tr th:only-of-type {\n        vertical-align: middle;\n    }\n\n    .dataframe tbody tr th {\n        vertical-align: top;\n    }\n\n    .dataframe thead th {\n        text-align: right;\n    }\n</style>\n<table border=\"1\" class=\"dataframe\">\n  <thead>\n    <tr style=\"text-align: right;\">\n      <th></th>\n      <th>state</th>\n      <th>resorts_per_state</th>\n      <th>state_total_skiable_area_ac</th>\n      <th>state_total_days_open</th>\n      <th>state_total_terrain_parks</th>\n      <th>state_total_nightskiing_ac</th>\n      <th>state_population</th>\n      <th>state_area_sq_miles</th>\n      <th>resorts_per_100kcapita</th>\n      <th>resorts_per_100ksq_mile</th>\n    </tr>\n  </thead>\n  <tbody>\n    <tr>\n      <th>0</th>\n      <td>Alaska</td>\n      <td>3</td>\n      <td>2280</td>\n      <td>345</td>\n      <td>4</td>\n      <td>580</td>\n      <td>731545</td>\n      <td>665384</td>\n      <td>0.410091</td>\n      <td>0.450867</td>\n    </tr>\n    <tr>\n      <th>1</th>\n      <td>Arizona</td>\n      <td>2</td>\n      <td>1577</td>\n      <td>237</td>\n      <td>6</td>\n      <td>80</td>\n      <td>7278717</td>\n      <td>113990</td>\n      <td>0.027477</td>\n      <td>1.754540</td>\n    </tr>\n    <tr>\n      <th>2</th>\n      <td>California</td>\n      <td>21</td>\n      <td>25948</td>\n      <td>2738</td>\n      <td>81</td>\n      <td>587</td>\n      <td>39512223</td>\n      <td>163695</td>\n      <td>0.053148</td>\n      <td>12.828736</td>\n    </tr>\n    <tr>\n      <th>3</th>\n      <td>Colorado</td>\n      <td>22</td>\n      <td>43682</td>\n      <td>3258</td>\n      <td>74</td>\n      <td>428</td>\n      <td>5758736</td>\n      <td>104094</td>\n      <td>0.382028</td>\n      <td>21.134744</td>\n    </tr>\n    <tr>\n      <th>4</th>\n      <td>Connecticut</td>\n      <td>5</td>\n      <td>358</td>\n      <td>353</td>\n      <td>10</td>\n      <td>256</td>\n      <td>3565278</td>\n      <td>5543</td>\n      <td>0.140242</td>\n      <td>90.203861</td>\n    </tr>\n  </tbody>\n</table>\n</div>"
     },
     "execution_count": 23,
     "metadata": {},
     "output_type": "execute_result"
    }
   ],
   "source": [
    "# The 100_000 scaling is simply based on eyeballing the magnitudes of the data\n",
    "state_summary['resorts_per_100kcapita'] = 100_000 * state_summary.resorts_per_state / state_summary.state_population\n",
    "state_summary['resorts_per_100ksq_mile'] = 100_000 * state_summary.resorts_per_state / state_summary.state_area_sq_miles\n",
    "# state_summary.drop(columns=['state_population', 'state_area_sq_miles'], inplace=True)\n",
    "state_summary.head()"
   ]
  },
  {
   "cell_type": "code",
   "outputs": [
    {
     "data": {
      "text/plain": "         state  resorts_per_state  state_total_skiable_area_ac  \\\n0       Alaska                  3                         2280   \n1      Arizona                  2                         1577   \n2   California                 21                        25948   \n3     Colorado                 22                        43682   \n4  Connecticut                  5                          358   \n\n   state_total_days_open  state_total_terrain_parks  \\\n0                    345                          4   \n1                    237                          6   \n2                   2738                         81   \n3                   3258                         74   \n4                    353                         10   \n\n   state_total_nightskiing_ac  resorts_per_100kcapita  resorts_per_100ksq_mile  \n0                         580                0.410091                 0.450867  \n1                          80                0.027477                 1.754540  \n2                         587                0.053148                12.828736  \n3                         428                0.382028                21.134744  \n4                         256                0.140242                90.203861  ",
      "text/html": "<div>\n<style scoped>\n    .dataframe tbody tr th:only-of-type {\n        vertical-align: middle;\n    }\n\n    .dataframe tbody tr th {\n        vertical-align: top;\n    }\n\n    .dataframe thead th {\n        text-align: right;\n    }\n</style>\n<table border=\"1\" class=\"dataframe\">\n  <thead>\n    <tr style=\"text-align: right;\">\n      <th></th>\n      <th>state</th>\n      <th>resorts_per_state</th>\n      <th>state_total_skiable_area_ac</th>\n      <th>state_total_days_open</th>\n      <th>state_total_terrain_parks</th>\n      <th>state_total_nightskiing_ac</th>\n      <th>resorts_per_100kcapita</th>\n      <th>resorts_per_100ksq_mile</th>\n    </tr>\n  </thead>\n  <tbody>\n    <tr>\n      <th>0</th>\n      <td>Alaska</td>\n      <td>3</td>\n      <td>2280</td>\n      <td>345</td>\n      <td>4</td>\n      <td>580</td>\n      <td>0.410091</td>\n      <td>0.450867</td>\n    </tr>\n    <tr>\n      <th>1</th>\n      <td>Arizona</td>\n      <td>2</td>\n      <td>1577</td>\n      <td>237</td>\n      <td>6</td>\n      <td>80</td>\n      <td>0.027477</td>\n      <td>1.754540</td>\n    </tr>\n    <tr>\n      <th>2</th>\n      <td>California</td>\n      <td>21</td>\n      <td>25948</td>\n      <td>2738</td>\n      <td>81</td>\n      <td>587</td>\n      <td>0.053148</td>\n      <td>12.828736</td>\n    </tr>\n    <tr>\n      <th>3</th>\n      <td>Colorado</td>\n      <td>22</td>\n      <td>43682</td>\n      <td>3258</td>\n      <td>74</td>\n      <td>428</td>\n      <td>0.382028</td>\n      <td>21.134744</td>\n    </tr>\n    <tr>\n      <th>4</th>\n      <td>Connecticut</td>\n      <td>5</td>\n      <td>358</td>\n      <td>353</td>\n      <td>10</td>\n      <td>256</td>\n      <td>0.140242</td>\n      <td>90.203861</td>\n    </tr>\n  </tbody>\n</table>\n</div>"
     },
     "execution_count": 24,
     "metadata": {},
     "output_type": "execute_result"
    }
   ],
   "source": [
    "state_summary.drop(columns=['state_population', 'state_area_sq_miles'], inplace=True)\n",
    "state_summary.head()"
   ],
   "metadata": {
    "collapsed": false,
    "ExecuteTime": {
     "end_time": "2024-04-02T22:29:45.053421200Z",
     "start_time": "2024-04-02T22:29:44.925851300Z"
    }
   },
   "execution_count": 24
  },
  {
   "cell_type": "markdown",
   "metadata": {},
   "source": [
    "With the removal of the two columns that only spoke to state-specific data, you now have a Dataframe that speaks to the skiing competitive landscape of each state. It has the number of resorts per state, total skiable area, and days of skiing. You've translated the plain state data into something more useful that gives you an idea of the density of resorts relative to the state population and size."
   ]
  },
  {
   "cell_type": "markdown",
   "metadata": {},
   "source": [
    "How do the distributions of these two new features look?"
   ]
  },
  {
   "cell_type": "code",
   "execution_count": 25,
   "metadata": {
    "ExecuteTime": {
     "end_time": "2024-04-02T22:29:45.278376900Z",
     "start_time": "2024-04-02T22:29:45.023413500Z"
    }
   },
   "outputs": [
    {
     "data": {
      "text/plain": "<Figure size 640x480 with 1 Axes>",
      "image/png": "[encoded data removed]"
     },
     "metadata": {},
     "output_type": "display_data"
    }
   ],
   "source": [
    "state_summary.resorts_per_100kcapita.hist(bins=30)\n",
    "plt.xlabel('Number of resorts per 100k population')\n",
    "plt.ylabel('count');"
   ]
  },
  {
   "cell_type": "code",
   "execution_count": 26,
   "metadata": {
    "ExecuteTime": {
     "end_time": "2024-04-02T22:29:45.500426600Z",
     "start_time": "2024-04-02T22:29:45.210359200Z"
    }
   },
   "outputs": [
    {
     "data": {
      "text/plain": "<Figure size 640x480 with 1 Axes>",
      "image/png": "[encoded data removed]"
     },
     "metadata": {},
     "output_type": "display_data"
    }
   ],
   "source": [
    "state_summary.resorts_per_100ksq_mile.hist(bins=30)\n",
    "plt.xlabel('Number of resorts per 100k square miles')\n",
    "plt.ylabel('count');"
   ]
  },
  {
   "cell_type": "markdown",
   "metadata": {},
   "source": [
    "So they have quite some long tails on them, but there's definitely some structure there."
   ]
  },
  {
   "cell_type": "markdown",
   "metadata": {},
   "source": [
    "#### 3.5.2.1 Top states by resort density<a id='3.5.2.1_Top_states_by_resort_density'></a>"
   ]
  },
  {
   "cell_type": "code",
   "execution_count": 27,
   "metadata": {
    "ExecuteTime": {
     "end_time": "2024-04-02T22:29:45.502427100Z",
     "start_time": "2024-04-02T22:29:45.370233900Z"
    }
   },
   "outputs": [
    {
     "data": {
      "text/plain": "state\nVermont          2.403889\nWyoming          1.382268\nNew Hampshire    1.176721\nMontana          1.122778\nIdaho            0.671492\nName: resorts_per_100kcapita, dtype: float64"
     },
     "execution_count": 27,
     "metadata": {},
     "output_type": "execute_result"
    }
   ],
   "source": [
    "state_summary.set_index('state').resorts_per_100kcapita.sort_values(ascending=False).head()"
   ]
  },
  {
   "cell_type": "code",
   "execution_count": 28,
   "metadata": {
    "ExecuteTime": {
     "end_time": "2024-04-02T22:29:45.503427300Z",
     "start_time": "2024-04-02T22:29:45.373988800Z"
    }
   },
   "outputs": [
    {
     "data": {
      "text/plain": "state\nNew Hampshire    171.141299\nVermont          155.990017\nMassachusetts    104.225886\nConnecticut       90.203861\nRhode Island      64.724919\nName: resorts_per_100ksq_mile, dtype: float64"
     },
     "execution_count": 28,
     "metadata": {},
     "output_type": "execute_result"
    }
   ],
   "source": [
    "state_summary.set_index('state').resorts_per_100ksq_mile.sort_values(ascending=False).head()"
   ]
  },
  {
   "cell_type": "markdown",
   "metadata": {},
   "source": [
    "Vermont seems particularly high in terms of resorts per capita, and both New Hampshire and Vermont top the chart for resorts per area. New York doesn't appear in either!"
   ]
  },
  {
   "cell_type": "markdown",
   "metadata": {},
   "source": [
    "### 3.5.3 Visualizing High Dimensional Data<a id='3.5.3_Visualizing_High_Dimensional_Data'></a>"
   ]
  },
  {
   "cell_type": "markdown",
   "metadata": {},
   "source": [
    "You may be starting to feel there's a bit of a problem here, or at least a challenge. You've constructed some potentially useful and business relevant features, derived from summary statistics, for each of the states you're concerned with. You've explored many of these features in turn and found various trends. Some states are higher in some but not in others. Some features will also be more correlated with one another than others.\n",
    "\n",
    "One way to disentangle this interconnected web of relationships is via [principle components analysis](https://scikit-learn.org/stable/modules/generated/sklearn.decomposition.PCA.html#sklearn.decomposition.PCA) (PCA). This technique will find linear combinations of the original features that are uncorrelated with one another and order them by the amount of variance they explain. You can use these derived features to visualize the data in a lower dimension (e.g. 2 down from 7) and know how much variance the representation explains. You can also explore how the original features contribute to these derived features."
   ]
  },
  {
   "cell_type": "markdown",
   "metadata": {},
   "source": [
    "The basic steps in this process are:\n",
    "\n",
    "1. scale the data (important here because our features are heterogenous)\n",
    "2. fit the PCA transformation (learn the transformation from the data)\n",
    "3. apply the transformation to the data to create the derived features\n",
    "4. (optionally) use the derived features to look for patterns in the data and explore the coefficients"
   ]
  },
  {
   "cell_type": "markdown",
   "metadata": {},
   "source": [
    "#### 3.5.3.1 Scale the data<a id='3.5.3.1_Scale_the_data'></a>"
   ]
  },
  {
   "cell_type": "markdown",
   "metadata": {},
   "source": [
    "You only want numeric data here, although you don't want to lose track of the state labels, so it's convenient to set the state as the index."
   ]
  },
  {
   "cell_type": "code",
   "execution_count": 29,
   "metadata": {
    "ExecuteTime": {
     "end_time": "2024-04-02T22:29:45.637679700Z",
     "start_time": "2024-04-02T22:29:45.482725200Z"
    }
   },
   "outputs": [
    {
     "data": {
      "text/plain": "             resorts_per_state  state_total_skiable_area_ac  \\\nstate                                                         \nAlaska                       3                         2280   \nArizona                      2                         1577   \nCalifornia                  21                        25948   \nColorado                    22                        43682   \nConnecticut                  5                          358   \n\n             state_total_days_open  state_total_terrain_parks  \\\nstate                                                           \nAlaska                         345                          4   \nArizona                        237                          6   \nCalifornia                    2738                         81   \nColorado                      3258                         74   \nConnecticut                    353                         10   \n\n             state_total_nightskiing_ac  resorts_per_100kcapita  \\\nstate                                                             \nAlaska                              580                0.410091   \nArizona                              80                0.027477   \nCalifornia                          587                0.053148   \nColorado                            428                0.382028   \nConnecticut                         256                0.140242   \n\n             resorts_per_100ksq_mile  \nstate                                 \nAlaska                      0.450867  \nArizona                     1.754540  \nCalifornia                 12.828736  \nColorado                   21.134744  \nConnecticut                90.203861  ",
      "text/html": "<div>\n<style scoped>\n    .dataframe tbody tr th:only-of-type {\n        vertical-align: middle;\n    }\n\n    .dataframe tbody tr th {\n        vertical-align: top;\n    }\n\n    .dataframe thead th {\n        text-align: right;\n    }\n</style>\n<table border=\"1\" class=\"dataframe\">\n  <thead>\n    <tr style=\"text-align: right;\">\n      <th></th>\n      <th>resorts_per_state</th>\n      <th>state_total_skiable_area_ac</th>\n      <th>state_total_days_open</th>\n      <th>state_total_terrain_parks</th>\n      <th>state_total_nightskiing_ac</th>\n      <th>resorts_per_100kcapita</th>\n      <th>resorts_per_100ksq_mile</th>\n    </tr>\n    <tr>\n      <th>state</th>\n      <th></th>\n      <th></th>\n      <th></th>\n      <th></th>\n      <th></th>\n      <th></th>\n      <th></th>\n    </tr>\n  </thead>\n  <tbody>\n    <tr>\n      <th>Alaska</th>\n      <td>3</td>\n      <td>2280</td>\n      <td>345</td>\n      <td>4</td>\n      <td>580</td>\n      <td>0.410091</td>\n      <td>0.450867</td>\n    </tr>\n    <tr>\n      <th>Arizona</th>\n      <td>2</td>\n      <td>1577</td>\n      <td>237</td>\n      <td>6</td>\n      <td>80</td>\n      <td>0.027477</td>\n      <td>1.754540</td>\n    </tr>\n    <tr>\n      <th>California</th>\n      <td>21</td>\n      <td>25948</td>\n      <td>2738</td>\n      <td>81</td>\n      <td>587</td>\n      <td>0.053148</td>\n      <td>12.828736</td>\n    </tr>\n    <tr>\n      <th>Colorado</th>\n      <td>22</td>\n      <td>43682</td>\n      <td>3258</td>\n      <td>74</td>\n      <td>428</td>\n      <td>0.382028</td>\n      <td>21.134744</td>\n    </tr>\n    <tr>\n      <th>Connecticut</th>\n      <td>5</td>\n      <td>358</td>\n      <td>353</td>\n      <td>10</td>\n      <td>256</td>\n      <td>0.140242</td>\n      <td>90.203861</td>\n    </tr>\n  </tbody>\n</table>\n</div>"
     },
     "execution_count": 29,
     "metadata": {},
     "output_type": "execute_result"
    }
   ],
   "source": [
    "#Code task 1#\n",
    "#Create a new dataframe, `state_summary_scale` from `state_summary` whilst setting the index to 'state'\n",
    "state_summary_scale = state_summary.set_index('state')\n",
    "#Save the state labels (using the index attribute of `state_summary_scale`) into the variable 'state_summary_index'\n",
    "state_summary_index = state_summary_scale.index\n",
    "#Save the column names (using the `columns` attribute) of `state_summary_scale` into the variable 'state_summary_columns'\n",
    "state_summary_columns = state_summary_scale.columns\n",
    "state_summary_scale.head()\n"
   ]
  },
  {
   "cell_type": "code",
   "outputs": [
    {
     "data": {
      "text/plain": "Index(['resorts_per_state', 'state_total_skiable_area_ac',\n       'state_total_days_open', 'state_total_terrain_parks',\n       'state_total_nightskiing_ac', 'resorts_per_100kcapita',\n       'resorts_per_100ksq_mile'],\n      dtype='object')"
     },
     "execution_count": 30,
     "metadata": {},
     "output_type": "execute_result"
    }
   ],
   "source": [
    "state_summary_columns"
   ],
   "metadata": {
    "collapsed": false,
    "ExecuteTime": {
     "end_time": "2024-04-02T22:29:45.675689200Z",
     "start_time": "2024-04-02T22:29:45.616455200Z"
    }
   },
   "execution_count": 30
  },
  {
   "cell_type": "markdown",
   "metadata": {},
   "source": [
    "The above shows what we expect: the columns we want are all numeric and the state has been moved to the index. Although, it's not necessary to step through the sequence so laboriously, it is often good practice even for experienced professionals. It's easy to make a mistake or forget a step, or the data may have been holding out a surprise! Stepping through like this helps  validate both your work and the data!\n",
    "\n",
    "Now use `scale()` to scale the data."
   ]
  },
  {
   "cell_type": "code",
   "execution_count": 31,
   "metadata": {
    "ExecuteTime": {
     "end_time": "2024-04-02T22:29:45.786731200Z",
     "start_time": "2024-04-02T22:29:45.676689200Z"
    }
   },
   "outputs": [],
   "source": [
    "state_summary_scale = scale(state_summary_scale)"
   ]
  },
  {
   "cell_type": "markdown",
   "source": [
    "scale = Standardize a dataset along any axis.\n",
    "Center to the mean and component wise scale to unit variance.\n",
    "Read more in the User Guide  ."
   ],
   "metadata": {
    "collapsed": false
   }
  },
  {
   "cell_type": "markdown",
   "metadata": {},
   "source": [
    "Note, `scale()` returns an ndarray, so you lose the column names. Because you want to visualise scaled data, you already copied the column names. Now you can construct a dataframe from the ndarray here and reintroduce the column names."
   ]
  },
  {
   "cell_type": "code",
   "execution_count": 32,
   "metadata": {
    "ExecuteTime": {
     "end_time": "2024-04-02T22:29:45.852425600Z",
     "start_time": "2024-04-02T22:29:45.753805100Z"
    }
   },
   "outputs": [
    {
     "data": {
      "text/plain": "   resorts_per_state  state_total_skiable_area_ac  state_total_days_open  \\\n0          -0.806912                    -0.392012              -0.689059   \n1          -0.933558                    -0.462424              -0.819038   \n2           1.472706                     1.978574               2.190933   \n3           1.599351                     3.754811               2.816757   \n4          -0.553622                    -0.584519              -0.679431   \n\n   state_total_terrain_parks  state_total_nightskiing_ac  \\\n0                  -0.816118                    0.069410   \n1                  -0.726994                   -0.701326   \n2                   2.615141                    0.080201   \n3                   2.303209                   -0.164893   \n4                  -0.548747                   -0.430027   \n\n   resorts_per_100kcapita  resorts_per_100ksq_mile  \n0                0.139593                -0.689999  \n1               -0.644706                -0.658125  \n2               -0.592085                -0.387368  \n3                0.082069                -0.184291  \n4               -0.413557                 1.504408  ",
      "text/html": "<div>\n<style scoped>\n    .dataframe tbody tr th:only-of-type {\n        vertical-align: middle;\n    }\n\n    .dataframe tbody tr th {\n        vertical-align: top;\n    }\n\n    .dataframe thead th {\n        text-align: right;\n    }\n</style>\n<table border=\"1\" class=\"dataframe\">\n  <thead>\n    <tr style=\"text-align: right;\">\n      <th></th>\n      <th>resorts_per_state</th>\n      <th>state_total_skiable_area_ac</th>\n      <th>state_total_days_open</th>\n      <th>state_total_terrain_parks</th>\n      <th>state_total_nightskiing_ac</th>\n      <th>resorts_per_100kcapita</th>\n      <th>resorts_per_100ksq_mile</th>\n    </tr>\n  </thead>\n  <tbody>\n    <tr>\n      <th>0</th>\n      <td>-0.806912</td>\n      <td>-0.392012</td>\n      <td>-0.689059</td>\n      <td>-0.816118</td>\n      <td>0.069410</td>\n      <td>0.139593</td>\n      <td>-0.689999</td>\n    </tr>\n    <tr>\n      <th>1</th>\n      <td>-0.933558</td>\n      <td>-0.462424</td>\n      <td>-0.819038</td>\n      <td>-0.726994</td>\n      <td>-0.701326</td>\n      <td>-0.644706</td>\n      <td>-0.658125</td>\n    </tr>\n    <tr>\n      <th>2</th>\n      <td>1.472706</td>\n      <td>1.978574</td>\n      <td>2.190933</td>\n      <td>2.615141</td>\n      <td>0.080201</td>\n      <td>-0.592085</td>\n      <td>-0.387368</td>\n    </tr>\n    <tr>\n      <th>3</th>\n      <td>1.599351</td>\n      <td>3.754811</td>\n      <td>2.816757</td>\n      <td>2.303209</td>\n      <td>-0.164893</td>\n      <td>0.082069</td>\n      <td>-0.184291</td>\n    </tr>\n    <tr>\n      <th>4</th>\n      <td>-0.553622</td>\n      <td>-0.584519</td>\n      <td>-0.679431</td>\n      <td>-0.548747</td>\n      <td>-0.430027</td>\n      <td>-0.413557</td>\n      <td>1.504408</td>\n    </tr>\n  </tbody>\n</table>\n</div>"
     },
     "execution_count": 32,
     "metadata": {},
     "output_type": "execute_result"
    }
   ],
   "source": [
    "#Code task 2#\n",
    "# Remember I did not drop the 2 columns. Have to go back and make sure they dropped\n",
    "#Create a new dataframe from `state_summary_scale` using the column names we saved in `state_summary_columns`\n",
    "state_summary_scaled_df = pd.DataFrame(state_summary_scale, columns=state_summary_columns)\n",
    "state_summary_scaled_df.head()"
   ]
  },
  {
   "cell_type": "markdown",
   "metadata": {},
   "source": [
    "##### 3.5.3.1.1 Verifying the scaling<a id='3.5.3.1.1_Verifying_the_scaling'></a>"
   ]
  },
  {
   "cell_type": "markdown",
   "metadata": {},
   "source": [
    "This is definitely going the extra mile for validating your steps, but provides a worthwhile lesson."
   ]
  },
  {
   "cell_type": "markdown",
   "metadata": {},
   "source": [
    "First of all, check the mean of the scaled features using panda's `mean()` DataFrame method."
   ]
  },
  {
   "cell_type": "code",
   "execution_count": 33,
   "metadata": {
    "ExecuteTime": {
     "end_time": "2024-04-02T22:29:45.925444200Z",
     "start_time": "2024-04-02T22:29:45.835743Z"
    }
   },
   "outputs": [
    {
     "data": {
      "text/plain": "resorts_per_state             -7.295751e-17\nstate_total_skiable_area_ac   -4.163336e-17\nstate_total_days_open          7.692260e-17\nstate_total_terrain_parks      4.599495e-17\nstate_total_nightskiing_ac     7.612958e-17\nresorts_per_100kcapita         5.075305e-17\nresorts_per_100ksq_mile        5.075305e-17\ndtype: float64"
     },
     "execution_count": 33,
     "metadata": {},
     "output_type": "execute_result"
    }
   ],
   "source": [
    "#Code task 3#\n",
    "#Call `state_summary_scaled_df`'s `mean()` method\n",
    "state_summary_scaled_df.mean()"
   ]
  },
  {
   "cell_type": "markdown",
   "metadata": {},
   "source": [
    "This is pretty much zero!"
   ]
  },
  {
   "cell_type": "markdown",
   "metadata": {},
   "source": [
    "Perform a similar check for the standard deviation using pandas's `std()` DataFrame method."
   ]
  },
  {
   "cell_type": "code",
   "execution_count": 34,
   "metadata": {
    "ExecuteTime": {
     "end_time": "2024-04-02T22:29:46.037866800Z",
     "start_time": "2024-04-02T22:29:45.927444100Z"
    }
   },
   "outputs": [
    {
     "data": {
      "text/plain": "resorts_per_state              1.014599\nstate_total_skiable_area_ac    1.014599\nstate_total_days_open          1.014599\nstate_total_terrain_parks      1.014599\nstate_total_nightskiing_ac     1.014599\nresorts_per_100kcapita         1.014599\nresorts_per_100ksq_mile        1.014599\ndtype: float64"
     },
     "execution_count": 34,
     "metadata": {},
     "output_type": "execute_result"
    }
   ],
   "source": [
    "#Code task 4#\n",
    "#Call `state_summary_scaled_df`'s `std()` method\n",
    "state_summary_scaled_df.std()"
   ]
  },
  {
   "cell_type": "markdown",
   "metadata": {},
   "source": [
    "Well, this is a little embarrassing. The numbers should be closer to 1 than this! Check the documentation for [scale](https://scikit-learn.org/stable/modules/generated/sklearn.preprocessing.scale.html) to see if you used it right. What about [std](https://pandas.pydata.org/pandas-docs/stable/reference/api/pandas.DataFrame.std.html), did you mess up there? Is one of them not working right?\n",
    "\n",
    "The keen observer, who already has some familiarity with statistical inference and biased estimators, may have noticed what's happened here. `scale()` uses the biased estimator for standard deviation (ddof=0). This doesn't mean it's bad! It simply means it calculates the standard deviation of the sample it was given. The `std()` method, on the other hand, defaults to using ddof=1, that is it's normalized by N-1. In other words, the `std()` method default is to assume you want your best estimate of the population parameter based on the given sample. You can tell it to return the biased estimate instead:"
   ]
  },
  {
   "cell_type": "code",
   "execution_count": 35,
   "metadata": {
    "ExecuteTime": {
     "end_time": "2024-04-02T22:29:46.085960500Z",
     "start_time": "2024-04-02T22:29:45.996955600Z"
    }
   },
   "outputs": [
    {
     "data": {
      "text/plain": "resorts_per_state              1.0\nstate_total_skiable_area_ac    1.0\nstate_total_days_open          1.0\nstate_total_terrain_parks      1.0\nstate_total_nightskiing_ac     1.0\nresorts_per_100kcapita         1.0\nresorts_per_100ksq_mile        1.0\ndtype: float64"
     },
     "execution_count": 35,
     "metadata": {},
     "output_type": "execute_result"
    }
   ],
   "source": [
    "#Code task 5#\n",
    "#Repeat the previous call to `std()` but pass in ddof=0 \n",
    "state_summary_scaled_df.std(ddof=0)"
   ]
  },
  {
   "cell_type": "markdown",
   "metadata": {},
   "source": [
    "There! Now it agrees with `scale()` and our expectation. This just goes to show different routines to do ostensibly the same thing can have different behaviours. Good practice is to keep validating your work and checking the documentation!"
   ]
  },
  {
   "cell_type": "markdown",
   "metadata": {},
   "source": [
    "#### 3.5.3.2 Calculate the PCA transformation<a id='3.5.3.2_Calculate_the_PCA_transformation'></a>"
   ]
  },
  {
   "cell_type": "markdown",
   "metadata": {},
   "source": [
    "Fit the PCA transformation using the scaled data."
   ]
  },
  {
   "cell_type": "code",
   "execution_count": 36,
   "metadata": {
    "ExecuteTime": {
     "end_time": "2024-04-02T22:29:46.280009600Z",
     "start_time": "2024-04-02T22:29:46.062872300Z"
    }
   },
   "outputs": [],
   "source": [
    "state_pca = PCA().fit(state_summary_scale)"
   ]
  },
  {
   "cell_type": "markdown",
   "metadata": {},
   "source": [
    "Plot the cumulative variance ratio with number of components."
   ]
  },
  {
   "cell_type": "code",
   "execution_count": 37,
   "metadata": {
    "ExecuteTime": {
     "end_time": "2024-04-02T22:29:46.500589500Z",
     "start_time": "2024-04-02T22:29:46.257003900Z"
    }
   },
   "outputs": [
    {
     "ename": "AttributeError",
     "evalue": "'numpy.ndarray' object has no attribute '___'",
     "output_type": "error",
     "traceback": [
      "\u001B[1;31m---------------------------------------------------------------------------\u001B[0m",
      "\u001B[1;31mAttributeError\u001B[0m                            Traceback (most recent call last)",
      "Cell \u001B[1;32mIn[37], line 8\u001B[0m\n\u001B[0;32m      1\u001B[0m \u001B[38;5;66;03m#Code task 6#\u001B[39;00m\n\u001B[0;32m      2\u001B[0m \u001B[38;5;66;03m#Call the `cumsum()` method on the 'explained_variance_ratio_' attribute of `state_pca` and\u001B[39;00m\n\u001B[0;32m      3\u001B[0m \u001B[38;5;66;03m#create a line plot to visualize the cumulative explained variance ratio with number of components\u001B[39;00m\n\u001B[0;32m      4\u001B[0m \u001B[38;5;66;03m#Set the xlabel to 'Component #', the ylabel to 'Cumulative ratio variance', and the\u001B[39;00m\n\u001B[0;32m      5\u001B[0m \u001B[38;5;66;03m#title to 'Cumulative variance ratio explained by PCA components for state/resort summary statistics'\u001B[39;00m\n\u001B[0;32m      6\u001B[0m \u001B[38;5;66;03m#Hint: remember the handy ';' at the end of the last plot call to suppress that untidy output\u001B[39;00m\n\u001B[0;32m      7\u001B[0m plt\u001B[38;5;241m.\u001B[39msubplots(figsize\u001B[38;5;241m=\u001B[39m(\u001B[38;5;241m10\u001B[39m, \u001B[38;5;241m6\u001B[39m))\n\u001B[1;32m----> 8\u001B[0m plt\u001B[38;5;241m.\u001B[39mplot(state_pca\u001B[38;5;241m.\u001B[39mexplained_variance_ratio_\u001B[38;5;241m.\u001B[39m___)\n\u001B[0;32m      9\u001B[0m plt\u001B[38;5;241m.\u001B[39mxlabel(___)\n\u001B[0;32m     10\u001B[0m plt\u001B[38;5;241m.\u001B[39mylabel(___)\n",
      "\u001B[1;31mAttributeError\u001B[0m: 'numpy.ndarray' object has no attribute '___'"
     ]
    },
    {
     "data": {
      "text/plain": "<Figure size 1000x600 with 1 Axes>",
      "image/png": "[encoded data removed]"
     },
     "metadata": {},
     "output_type": "display_data"
    }
   ],
   "source": [
    "#Code task 6#\n",
    "#Call the `cumsum()` method on the 'explained_variance_ratio_' attribute of `state_pca` and\n",
    "#create a line plot to visualize the cumulative explained variance ratio with number of components\n",
    "#Set the xlabel to 'Component #', the ylabel to 'Cumulative ratio variance', and the\n",
    "#title to 'Cumulative variance ratio explained by PCA components for state/resort summary statistics'\n",
    "#Hint: remember the handy ';' at the end of the last plot call to suppress that untidy output\n",
    "plt.subplots(figsize=(10, 6))\n",
    "plt.plot(state_pca.explained_variance_ratio_.___)\n",
    "plt.xlabel(___)\n",
    "plt.ylabel(___)\n",
    "plt.title(___);"
   ]
  },
  {
   "cell_type": "markdown",
   "metadata": {},
   "source": [
    "The first two components seem to account for over 75% of the variance, and the first four for over 95%."
   ]
  },
  {
   "cell_type": "markdown",
   "metadata": {},
   "source": [
    "**Note:** It is important to move quickly when performing exploratory data analysis. You should not spend hours trying to create publication-ready figures. However, it is crucially important that you can easily review and summarise the findings from EDA. Descriptive axis labels and titles are _extremely_ useful here. When you come to reread your notebook to summarise your findings, you will be thankful that you created descriptive plots and even made key observations in adjacent markdown cells."
   ]
  },
  {
   "cell_type": "markdown",
   "metadata": {},
   "source": [
    "Apply the transformation to the data to obtain the derived features."
   ]
  },
  {
   "cell_type": "code",
   "execution_count": null,
   "metadata": {
    "ExecuteTime": {
     "start_time": "2024-04-02T22:29:46.457579200Z"
    }
   },
   "outputs": [],
   "source": [
    "#Code task 7#\n",
    "#Call `state_pca`'s `transform()` method, passing in `state_summary_scale` as its argument\n",
    "state_pca_x = state_pca.___(___)"
   ]
  },
  {
   "cell_type": "code",
   "execution_count": null,
   "metadata": {
    "ExecuteTime": {
     "start_time": "2024-04-02T22:29:46.458578800Z"
    }
   },
   "outputs": [],
   "source": [
    "state_pca_x.shape"
   ]
  },
  {
   "cell_type": "markdown",
   "metadata": {},
   "source": [
    "Plot the first two derived features (the first two principle components) and label each point with the name of the state."
   ]
  },
  {
   "cell_type": "markdown",
   "metadata": {},
   "source": [
    "Take a moment to familiarize yourself with the code below. It will extract the first and second columns from the transformed data (`state_pca_x`) as x and y coordinates for plotting. Recall the state labels you saved (for this purpose) for subsequent calls to `plt.annotate`. Grab the second (index 1) value of the cumulative variance ratio to include in your descriptive title; this helpfully highlights the percentage variance explained\n",
    "by the two PCA components you're visualizing. Then create an appropriately sized and well-labelled scatterplot\n",
    "to convey all of this information."
   ]
  },
  {
   "cell_type": "code",
   "execution_count": null,
   "metadata": {
    "ExecuteTime": {
     "start_time": "2024-04-02T22:29:46.459579200Z"
    }
   },
   "outputs": [],
   "source": [
    "x = state_pca_x[:, 0]\n",
    "y = state_pca_x[:, 1]\n",
    "state = state_summary_index\n",
    "pc_var = 100 * state_pca.explained_variance_ratio_.cumsum()[1]\n",
    "plt.subplots(figsize=(10,8))\n",
    "plt.scatter(x=x, y=y)\n",
    "plt.xlabel('First component')\n",
    "plt.ylabel('Second component')\n",
    "plt.title(f'Ski states summary PCA, {pc_var:.1f}% variance explained')\n",
    "for s, x, y in zip(state, x, y):\n",
    "    plt.annotate(s, (x, y))"
   ]
  },
  {
   "cell_type": "markdown",
   "metadata": {},
   "source": [
    "#### 3.5.3.3 Average ticket price by state<a id='3.5.3.3_Average_ticket_price_by_state'></a>"
   ]
  },
  {
   "cell_type": "markdown",
   "metadata": {},
   "source": [
    "Here, all point markers for the states are the same size and colour. You've visualized relationships between the states based on features such as the total skiable terrain area, but your ultimate interest lies in ticket prices. You know ticket prices for resorts in each state, so it might be interesting to see if there's any pattern there."
   ]
  },
  {
   "cell_type": "code",
   "execution_count": 38,
   "metadata": {
    "ExecuteTime": {
     "start_time": "2024-04-02T22:29:46.484586Z"
    }
   },
   "outputs": [
    {
     "ename": "KeyError",
     "evalue": "'Columns not found: -4.163336342344337e-17, 7.692259527760013e-17, 5.075305255429287e-17, -7.2957513046796e-17, 4.5994953877327917e-17, 7.612957883143931e-17'",
     "output_type": "error",
     "traceback": [
      "\u001B[1;31m---------------------------------------------------------------------------\u001B[0m",
      "\u001B[1;31mKeyError\u001B[0m                                  Traceback (most recent call last)",
      "Cell \u001B[1;32mIn[38], line 3\u001B[0m\n\u001B[0;32m      1\u001B[0m \u001B[38;5;66;03m#Code task 8#\u001B[39;00m\n\u001B[0;32m      2\u001B[0m \u001B[38;5;66;03m#Calculate the average 'AdultWeekend' ticket price by state\u001B[39;00m\n\u001B[1;32m----> 3\u001B[0m state_avg_price \u001B[38;5;241m=\u001B[39m ski_data\u001B[38;5;241m.\u001B[39mgroupby(___)[___]\u001B[38;5;241m.\u001B[39m___\n\u001B[0;32m      4\u001B[0m state_avg_price\u001B[38;5;241m.\u001B[39mhead()\n",
      "File \u001B[1;32m~\\miniconda3\\Lib\\site-packages\\pandas\\core\\groupby\\generic.py:1951\u001B[0m, in \u001B[0;36mDataFrameGroupBy.__getitem__\u001B[1;34m(self, key)\u001B[0m\n\u001B[0;32m   1944\u001B[0m \u001B[38;5;28;01mif\u001B[39;00m \u001B[38;5;28misinstance\u001B[39m(key, \u001B[38;5;28mtuple\u001B[39m) \u001B[38;5;129;01mand\u001B[39;00m \u001B[38;5;28mlen\u001B[39m(key) \u001B[38;5;241m>\u001B[39m \u001B[38;5;241m1\u001B[39m:\n\u001B[0;32m   1945\u001B[0m     \u001B[38;5;66;03m# if len == 1, then it becomes a SeriesGroupBy and this is actually\u001B[39;00m\n\u001B[0;32m   1946\u001B[0m     \u001B[38;5;66;03m# valid syntax, so don't raise\u001B[39;00m\n\u001B[0;32m   1947\u001B[0m     \u001B[38;5;28;01mraise\u001B[39;00m \u001B[38;5;167;01mValueError\u001B[39;00m(\n\u001B[0;32m   1948\u001B[0m         \u001B[38;5;124m\"\u001B[39m\u001B[38;5;124mCannot subset columns with a tuple with more than one element. \u001B[39m\u001B[38;5;124m\"\u001B[39m\n\u001B[0;32m   1949\u001B[0m         \u001B[38;5;124m\"\u001B[39m\u001B[38;5;124mUse a list instead.\u001B[39m\u001B[38;5;124m\"\u001B[39m\n\u001B[0;32m   1950\u001B[0m     )\n\u001B[1;32m-> 1951\u001B[0m \u001B[38;5;28;01mreturn\u001B[39;00m \u001B[38;5;28msuper\u001B[39m()\u001B[38;5;241m.\u001B[39m\u001B[38;5;21m__getitem__\u001B[39m(key)\n",
      "File \u001B[1;32m~\\miniconda3\\Lib\\site-packages\\pandas\\core\\base.py:239\u001B[0m, in \u001B[0;36mSelectionMixin.__getitem__\u001B[1;34m(self, key)\u001B[0m\n\u001B[0;32m    237\u001B[0m     \u001B[38;5;28;01mif\u001B[39;00m \u001B[38;5;28mlen\u001B[39m(\u001B[38;5;28mself\u001B[39m\u001B[38;5;241m.\u001B[39mobj\u001B[38;5;241m.\u001B[39mcolumns\u001B[38;5;241m.\u001B[39mintersection(key)) \u001B[38;5;241m!=\u001B[39m \u001B[38;5;28mlen\u001B[39m(\u001B[38;5;28mset\u001B[39m(key)):\n\u001B[0;32m    238\u001B[0m         bad_keys \u001B[38;5;241m=\u001B[39m \u001B[38;5;28mlist\u001B[39m(\u001B[38;5;28mset\u001B[39m(key)\u001B[38;5;241m.\u001B[39mdifference(\u001B[38;5;28mself\u001B[39m\u001B[38;5;241m.\u001B[39mobj\u001B[38;5;241m.\u001B[39mcolumns))\n\u001B[1;32m--> 239\u001B[0m         \u001B[38;5;28;01mraise\u001B[39;00m \u001B[38;5;167;01mKeyError\u001B[39;00m(\u001B[38;5;124mf\u001B[39m\u001B[38;5;124m\"\u001B[39m\u001B[38;5;124mColumns not found: \u001B[39m\u001B[38;5;132;01m{\u001B[39;00m\u001B[38;5;28mstr\u001B[39m(bad_keys)[\u001B[38;5;241m1\u001B[39m:\u001B[38;5;241m-\u001B[39m\u001B[38;5;241m1\u001B[39m]\u001B[38;5;132;01m}\u001B[39;00m\u001B[38;5;124m\"\u001B[39m)\n\u001B[0;32m    240\u001B[0m     \u001B[38;5;28;01mreturn\u001B[39;00m \u001B[38;5;28mself\u001B[39m\u001B[38;5;241m.\u001B[39m_gotitem(\u001B[38;5;28mlist\u001B[39m(key), ndim\u001B[38;5;241m=\u001B[39m\u001B[38;5;241m2\u001B[39m)\n\u001B[0;32m    242\u001B[0m \u001B[38;5;28;01melse\u001B[39;00m:\n",
      "\u001B[1;31mKeyError\u001B[0m: 'Columns not found: -4.163336342344337e-17, 7.692259527760013e-17, 5.075305255429287e-17, -7.2957513046796e-17, 4.5994953877327917e-17, 7.612957883143931e-17'"
     ]
    }
   ],
   "source": [
    "#Code task 8#\n",
    "#Calculate the average 'AdultWeekend' ticket price by state\n",
    "state_avg_price = ski_data.groupby(___)[___].___\n",
    "state_avg_price.head()"
   ]
  },
  {
   "cell_type": "code",
   "execution_count": null,
   "metadata": {
    "ExecuteTime": {
     "end_time": "2024-04-02T22:29:46.892802Z",
     "start_time": "2024-04-02T22:29:46.709756100Z"
    }
   },
   "outputs": [],
   "source": [
    "state_avg_price.hist(bins=30)\n",
    "plt.title('Distribution of state averaged prices')\n",
    "plt.xlabel('Mean state adult weekend ticket price')\n",
    "plt.ylabel('count');"
   ]
  },
  {
   "cell_type": "markdown",
   "metadata": {},
   "source": [
    "#### 3.5.3.4 Adding average ticket price to scatter plot<a id='3.5.3.4_Adding_average_ticket_price_to_scatter_plot'></a>"
   ]
  },
  {
   "cell_type": "markdown",
   "metadata": {},
   "source": [
    "At this point you have several objects floating around. You have just calculated average ticket price by state from our ski resort data, but you've been looking at principle components generated from other state summary data. We extracted indexes and column names from a dataframe and the first two principle components from an array. It's becoming a bit hard to keep track of them all. You'll create a new DataFrame to do this."
   ]
  },
  {
   "cell_type": "code",
   "execution_count": 39,
   "metadata": {
    "ExecuteTime": {
     "end_time": "2024-04-02T22:29:46.999606800Z",
     "start_time": "2024-04-02T22:29:46.895802100Z"
    }
   },
   "outputs": [
    {
     "data": {
      "text/plain": "          PC1  PC2\n1.014599  NaN  NaN\n1.014599  NaN  NaN\n1.014599  NaN  NaN\n1.014599  NaN  NaN\n1.014599  NaN  NaN",
      "text/html": "<div>\n<style scoped>\n    .dataframe tbody tr th:only-of-type {\n        vertical-align: middle;\n    }\n\n    .dataframe tbody tr th {\n        vertical-align: top;\n    }\n\n    .dataframe thead th {\n        text-align: right;\n    }\n</style>\n<table border=\"1\" class=\"dataframe\">\n  <thead>\n    <tr style=\"text-align: right;\">\n      <th></th>\n      <th>PC1</th>\n      <th>PC2</th>\n    </tr>\n  </thead>\n  <tbody>\n    <tr>\n      <th>1.014599</th>\n      <td>NaN</td>\n      <td>NaN</td>\n    </tr>\n    <tr>\n      <th>1.014599</th>\n      <td>NaN</td>\n      <td>NaN</td>\n    </tr>\n    <tr>\n      <th>1.014599</th>\n      <td>NaN</td>\n      <td>NaN</td>\n    </tr>\n    <tr>\n      <th>1.014599</th>\n      <td>NaN</td>\n      <td>NaN</td>\n    </tr>\n    <tr>\n      <th>1.014599</th>\n      <td>NaN</td>\n      <td>NaN</td>\n    </tr>\n  </tbody>\n</table>\n</div>"
     },
     "execution_count": 39,
     "metadata": {},
     "output_type": "execute_result"
    }
   ],
   "source": [
    "#Code task 9#\n",
    "#Create a dataframe containing the values of the first two PCA components\n",
    "#Remember the first component was given by state_pca_x[:, 0],\n",
    "#and the second by state_pca_x[:, 1]\n",
    "#Call these 'PC1' and 'PC2', respectively and set the dataframe index to `state_summary_index`\n",
    "pca_df = pd.DataFrame({'PC1': ___, 'PC2': ___}, index=__)\n",
    "pca_df.head()"
   ]
  },
  {
   "cell_type": "markdown",
   "metadata": {},
   "source": [
    "That worked, and you have state as an index."
   ]
  },
  {
   "cell_type": "code",
   "execution_count": 40,
   "metadata": {
    "ExecuteTime": {
     "end_time": "2024-04-02T22:29:47.042757200Z",
     "start_time": "2024-04-02T22:29:46.980951700Z"
    }
   },
   "outputs": [
    {
     "ename": "NameError",
     "evalue": "name 'state_avg_price' is not defined",
     "output_type": "error",
     "traceback": [
      "\u001B[1;31m---------------------------------------------------------------------------\u001B[0m",
      "\u001B[1;31mNameError\u001B[0m                                 Traceback (most recent call last)",
      "Cell \u001B[1;32mIn[40], line 2\u001B[0m\n\u001B[0;32m      1\u001B[0m \u001B[38;5;66;03m# our average state prices also have state as an index\u001B[39;00m\n\u001B[1;32m----> 2\u001B[0m state_avg_price\u001B[38;5;241m.\u001B[39mhead()\n",
      "\u001B[1;31mNameError\u001B[0m: name 'state_avg_price' is not defined"
     ]
    }
   ],
   "source": [
    "# our average state prices also have state as an index\n",
    "state_avg_price.head()"
   ]
  },
  {
   "cell_type": "code",
   "execution_count": 41,
   "metadata": {
    "ExecuteTime": {
     "start_time": "2024-04-02T22:29:47.025613800Z"
    }
   },
   "outputs": [
    {
     "ename": "NameError",
     "evalue": "name 'state_avg_price' is not defined",
     "output_type": "error",
     "traceback": [
      "\u001B[1;31m---------------------------------------------------------------------------\u001B[0m",
      "\u001B[1;31mNameError\u001B[0m                                 Traceback (most recent call last)",
      "Cell \u001B[1;32mIn[41], line 2\u001B[0m\n\u001B[0;32m      1\u001B[0m \u001B[38;5;66;03m# we can also cast it to a dataframe using Series' to_frame() method:\u001B[39;00m\n\u001B[1;32m----> 2\u001B[0m state_avg_price\u001B[38;5;241m.\u001B[39mto_frame()\u001B[38;5;241m.\u001B[39mhead()\n",
      "\u001B[1;31mNameError\u001B[0m: name 'state_avg_price' is not defined"
     ]
    }
   ],
   "source": [
    "# we can also cast it to a dataframe using Series' to_frame() method:\n",
    "state_avg_price.to_frame().head()"
   ]
  },
  {
   "cell_type": "markdown",
   "metadata": {},
   "source": [
    "Now you can concatenate both parts on axis 1 and using the indexes."
   ]
  },
  {
   "cell_type": "code",
   "execution_count": 42,
   "metadata": {
    "ExecuteTime": {
     "end_time": "2024-04-02T22:29:47.183232700Z",
     "start_time": "2024-04-02T22:29:47.101771100Z"
    }
   },
   "outputs": [
    {
     "ename": "TypeError",
     "evalue": "'Series' object is not callable",
     "output_type": "error",
     "traceback": [
      "\u001B[1;31m---------------------------------------------------------------------------\u001B[0m",
      "\u001B[1;31mTypeError\u001B[0m                                 Traceback (most recent call last)",
      "Cell \u001B[1;32mIn[42], line 4\u001B[0m\n\u001B[0;32m      1\u001B[0m \u001B[38;5;66;03m#Code task 10#\u001B[39;00m\n\u001B[0;32m      2\u001B[0m \u001B[38;5;66;03m#Use pd.concat to concatenate `pca_df` and `state_avg_price` along axis 1\u001B[39;00m\n\u001B[0;32m      3\u001B[0m \u001B[38;5;66;03m# remember, pd.concat will align on index\u001B[39;00m\n\u001B[1;32m----> 4\u001B[0m pca_df \u001B[38;5;241m=\u001B[39m ___([___, ___], axis\u001B[38;5;241m=\u001B[39m___)\n\u001B[0;32m      5\u001B[0m pca_df\u001B[38;5;241m.\u001B[39mhead()\n",
      "\u001B[1;31mTypeError\u001B[0m: 'Series' object is not callable"
     ]
    }
   ],
   "source": [
    "#Code task 10#\n",
    "#Use pd.concat to concatenate `pca_df` and `state_avg_price` along axis 1\n",
    "# remember, pd.concat will align on index\n",
    "pca_df = ___([___, ___], axis=___)\n",
    "pca_df.head()"
   ]
  },
  {
   "cell_type": "markdown",
   "metadata": {},
   "source": [
    "You saw some range in average ticket price histogram above, but it may be hard to pick out differences if you're thinking of using the value for point size. You'll add another column where you seperate these prices into quartiles; that might show something."
   ]
  },
  {
   "cell_type": "code",
   "execution_count": 43,
   "metadata": {
    "ExecuteTime": {
     "start_time": "2024-04-02T22:29:47.164778800Z"
    }
   },
   "outputs": [
    {
     "ename": "AttributeError",
     "evalue": "'DataFrame' object has no attribute 'AdultWeekend'",
     "output_type": "error",
     "traceback": [
      "\u001B[1;31m---------------------------------------------------------------------------\u001B[0m",
      "\u001B[1;31mAttributeError\u001B[0m                            Traceback (most recent call last)",
      "\u001B[1;32m~\\AppData\\Local\\Temp\\ipykernel_23272\\726740829.py\u001B[0m in \u001B[0;36m?\u001B[1;34m()\u001B[0m\n\u001B[1;32m----> 1\u001B[1;33m \u001B[0mpca_df\u001B[0m\u001B[1;33m[\u001B[0m\u001B[1;34m'Quartile'\u001B[0m\u001B[1;33m]\u001B[0m \u001B[1;33m=\u001B[0m \u001B[0mpd\u001B[0m\u001B[1;33m.\u001B[0m\u001B[0mqcut\u001B[0m\u001B[1;33m(\u001B[0m\u001B[0mpca_df\u001B[0m\u001B[1;33m.\u001B[0m\u001B[0mAdultWeekend\u001B[0m\u001B[1;33m,\u001B[0m \u001B[0mq\u001B[0m\u001B[1;33m=\u001B[0m\u001B[1;36m4\u001B[0m\u001B[1;33m,\u001B[0m \u001B[0mprecision\u001B[0m\u001B[1;33m=\u001B[0m\u001B[1;36m1\u001B[0m\u001B[1;33m)\u001B[0m\u001B[1;33m\u001B[0m\u001B[1;33m\u001B[0m\u001B[0m\n\u001B[0m\u001B[0;32m      2\u001B[0m \u001B[0mpca_df\u001B[0m\u001B[1;33m.\u001B[0m\u001B[0mhead\u001B[0m\u001B[1;33m(\u001B[0m\u001B[1;33m)\u001B[0m\u001B[1;33m\u001B[0m\u001B[1;33m\u001B[0m\u001B[0m\n",
      "\u001B[1;32m~\\miniconda3\\Lib\\site-packages\\pandas\\core\\generic.py\u001B[0m in \u001B[0;36m?\u001B[1;34m(self, name)\u001B[0m\n\u001B[0;32m   6292\u001B[0m             \u001B[1;32mand\u001B[0m \u001B[0mname\u001B[0m \u001B[1;32mnot\u001B[0m \u001B[1;32min\u001B[0m \u001B[0mself\u001B[0m\u001B[1;33m.\u001B[0m\u001B[0m_accessors\u001B[0m\u001B[1;33m\u001B[0m\u001B[1;33m\u001B[0m\u001B[0m\n\u001B[0;32m   6293\u001B[0m             \u001B[1;32mand\u001B[0m \u001B[0mself\u001B[0m\u001B[1;33m.\u001B[0m\u001B[0m_info_axis\u001B[0m\u001B[1;33m.\u001B[0m\u001B[0m_can_hold_identifiers_and_holds_name\u001B[0m\u001B[1;33m(\u001B[0m\u001B[0mname\u001B[0m\u001B[1;33m)\u001B[0m\u001B[1;33m\u001B[0m\u001B[1;33m\u001B[0m\u001B[0m\n\u001B[0;32m   6294\u001B[0m         ):\n\u001B[0;32m   6295\u001B[0m             \u001B[1;32mreturn\u001B[0m \u001B[0mself\u001B[0m\u001B[1;33m[\u001B[0m\u001B[0mname\u001B[0m\u001B[1;33m]\u001B[0m\u001B[1;33m\u001B[0m\u001B[1;33m\u001B[0m\u001B[0m\n\u001B[1;32m-> 6296\u001B[1;33m         \u001B[1;32mreturn\u001B[0m \u001B[0mobject\u001B[0m\u001B[1;33m.\u001B[0m\u001B[0m__getattribute__\u001B[0m\u001B[1;33m(\u001B[0m\u001B[0mself\u001B[0m\u001B[1;33m,\u001B[0m \u001B[0mname\u001B[0m\u001B[1;33m)\u001B[0m\u001B[1;33m\u001B[0m\u001B[1;33m\u001B[0m\u001B[0m\n\u001B[0m",
      "\u001B[1;31mAttributeError\u001B[0m: 'DataFrame' object has no attribute 'AdultWeekend'"
     ]
    }
   ],
   "source": [
    "pca_df['Quartile'] = pd.qcut(pca_df.AdultWeekend, q=4, precision=1)\n",
    "pca_df.head()"
   ]
  },
  {
   "cell_type": "code",
   "execution_count": 44,
   "metadata": {
    "ExecuteTime": {
     "end_time": "2024-04-02T22:29:47.403471200Z",
     "start_time": "2024-04-02T22:29:47.324266200Z"
    }
   },
   "outputs": [
    {
     "data": {
      "text/plain": "PC1    float64\nPC2    float64\ndtype: object"
     },
     "execution_count": 44,
     "metadata": {},
     "output_type": "execute_result"
    }
   ],
   "source": [
    "# Note that Quartile is a new data type: category\n",
    "# This will affect how we handle it later on\n",
    "pca_df.dtypes"
   ]
  },
  {
   "cell_type": "markdown",
   "metadata": {},
   "source": [
    "This looks great. But, let's have a healthy paranoia about it. You've just created a whole new DataFrame by combining information. Do we have any missing values? It's a narrow DataFrame, only four columns, so you'll just print out any rows that have any null values, expecting an empty DataFrame."
   ]
  },
  {
   "cell_type": "code",
   "execution_count": 45,
   "metadata": {
    "ExecuteTime": {
     "end_time": "2024-04-02T22:29:47.472488900Z",
     "start_time": "2024-04-02T22:29:47.385803700Z"
    }
   },
   "outputs": [
    {
     "data": {
      "text/plain": "          PC1  PC2\n1.014599  NaN  NaN\n1.014599  NaN  NaN\n1.014599  NaN  NaN\n1.014599  NaN  NaN\n1.014599  NaN  NaN\n1.014599  NaN  NaN\n1.014599  NaN  NaN",
      "text/html": "<div>\n<style scoped>\n    .dataframe tbody tr th:only-of-type {\n        vertical-align: middle;\n    }\n\n    .dataframe tbody tr th {\n        vertical-align: top;\n    }\n\n    .dataframe thead th {\n        text-align: right;\n    }\n</style>\n<table border=\"1\" class=\"dataframe\">\n  <thead>\n    <tr style=\"text-align: right;\">\n      <th></th>\n      <th>PC1</th>\n      <th>PC2</th>\n    </tr>\n  </thead>\n  <tbody>\n    <tr>\n      <th>1.014599</th>\n      <td>NaN</td>\n      <td>NaN</td>\n    </tr>\n    <tr>\n      <th>1.014599</th>\n      <td>NaN</td>\n      <td>NaN</td>\n    </tr>\n    <tr>\n      <th>1.014599</th>\n      <td>NaN</td>\n      <td>NaN</td>\n    </tr>\n    <tr>\n      <th>1.014599</th>\n      <td>NaN</td>\n      <td>NaN</td>\n    </tr>\n    <tr>\n      <th>1.014599</th>\n      <td>NaN</td>\n      <td>NaN</td>\n    </tr>\n    <tr>\n      <th>1.014599</th>\n      <td>NaN</td>\n      <td>NaN</td>\n    </tr>\n    <tr>\n      <th>1.014599</th>\n      <td>NaN</td>\n      <td>NaN</td>\n    </tr>\n  </tbody>\n</table>\n</div>"
     },
     "execution_count": 45,
     "metadata": {},
     "output_type": "execute_result"
    }
   ],
   "source": [
    "pca_df[pca_df.isnull().any(axis=1)]"
   ]
  },
  {
   "cell_type": "markdown",
   "metadata": {},
   "source": [
    "Ah, Rhode Island. How has this happened? Recall you created the original ski resort state summary dataset in the previous step before removing resorts with missing prices. This made sense because you wanted to capture all the other available information. However, Rhode Island only had one resort and its price was missing. You have two choices here. If you're interested in looking for any pattern with price, drop this row. But you are also generally interested in any clusters or trends, then you'd like to see Rhode Island even if the ticket price is unknown. So, replace these missing values to make it easier to handle/display them."
   ]
  },
  {
   "cell_type": "markdown",
   "metadata": {},
   "source": [
    "Because `Quartile` is a category type, there's an extra step here. Add the category (the string 'NA') that you're going to use as a replacement."
   ]
  },
  {
   "cell_type": "code",
   "execution_count": 46,
   "metadata": {
    "ExecuteTime": {
     "end_time": "2024-04-02T22:29:48.970094500Z",
     "start_time": "2024-04-02T22:29:47.454483800Z"
    }
   },
   "outputs": [
    {
     "ename": "KeyError",
     "evalue": "'AdultWeekend'",
     "output_type": "error",
     "traceback": [
      "\u001B[1;31m---------------------------------------------------------------------------\u001B[0m",
      "\u001B[1;31mKeyError\u001B[0m                                  Traceback (most recent call last)",
      "File \u001B[1;32m~\\miniconda3\\Lib\\site-packages\\pandas\\core\\indexes\\base.py:3805\u001B[0m, in \u001B[0;36mIndex.get_loc\u001B[1;34m(self, key)\u001B[0m\n\u001B[0;32m   3804\u001B[0m \u001B[38;5;28;01mtry\u001B[39;00m:\n\u001B[1;32m-> 3805\u001B[0m     \u001B[38;5;28;01mreturn\u001B[39;00m \u001B[38;5;28mself\u001B[39m\u001B[38;5;241m.\u001B[39m_engine\u001B[38;5;241m.\u001B[39mget_loc(casted_key)\n\u001B[0;32m   3806\u001B[0m \u001B[38;5;28;01mexcept\u001B[39;00m \u001B[38;5;167;01mKeyError\u001B[39;00m \u001B[38;5;28;01mas\u001B[39;00m err:\n",
      "File \u001B[1;32mindex.pyx:167\u001B[0m, in \u001B[0;36mpandas._libs.index.IndexEngine.get_loc\u001B[1;34m()\u001B[0m\n",
      "File \u001B[1;32mindex.pyx:196\u001B[0m, in \u001B[0;36mpandas._libs.index.IndexEngine.get_loc\u001B[1;34m()\u001B[0m\n",
      "File \u001B[1;32mpandas\\\\_libs\\\\hashtable_class_helper.pxi:7081\u001B[0m, in \u001B[0;36mpandas._libs.hashtable.PyObjectHashTable.get_item\u001B[1;34m()\u001B[0m\n",
      "File \u001B[1;32mpandas\\\\_libs\\\\hashtable_class_helper.pxi:7089\u001B[0m, in \u001B[0;36mpandas._libs.hashtable.PyObjectHashTable.get_item\u001B[1;34m()\u001B[0m\n",
      "\u001B[1;31mKeyError\u001B[0m: 'AdultWeekend'",
      "\nThe above exception was the direct cause of the following exception:\n",
      "\u001B[1;31mKeyError\u001B[0m                                  Traceback (most recent call last)",
      "Cell \u001B[1;32mIn[46], line 1\u001B[0m\n\u001B[1;32m----> 1\u001B[0m pca_df[\u001B[38;5;124m'\u001B[39m\u001B[38;5;124mAdultWeekend\u001B[39m\u001B[38;5;124m'\u001B[39m]\u001B[38;5;241m.\u001B[39mfillna(pca_df\u001B[38;5;241m.\u001B[39mAdultWeekend\u001B[38;5;241m.\u001B[39mmean(), inplace\u001B[38;5;241m=\u001B[39m\u001B[38;5;28;01mTrue\u001B[39;00m)\n\u001B[0;32m      2\u001B[0m pca_df[\u001B[38;5;124m'\u001B[39m\u001B[38;5;124mQuartile\u001B[39m\u001B[38;5;124m'\u001B[39m] \u001B[38;5;241m=\u001B[39m pca_df[\u001B[38;5;124m'\u001B[39m\u001B[38;5;124mQuartile\u001B[39m\u001B[38;5;124m'\u001B[39m]\u001B[38;5;241m.\u001B[39mcat\u001B[38;5;241m.\u001B[39madd_categories(\u001B[38;5;124m'\u001B[39m\u001B[38;5;124mNA\u001B[39m\u001B[38;5;124m'\u001B[39m)\n\u001B[0;32m      3\u001B[0m pca_df[\u001B[38;5;124m'\u001B[39m\u001B[38;5;124mQuartile\u001B[39m\u001B[38;5;124m'\u001B[39m]\u001B[38;5;241m.\u001B[39mfillna(\u001B[38;5;124m'\u001B[39m\u001B[38;5;124mNA\u001B[39m\u001B[38;5;124m'\u001B[39m, inplace\u001B[38;5;241m=\u001B[39m\u001B[38;5;28;01mTrue\u001B[39;00m)\n",
      "File \u001B[1;32m~\\miniconda3\\Lib\\site-packages\\pandas\\core\\frame.py:4090\u001B[0m, in \u001B[0;36mDataFrame.__getitem__\u001B[1;34m(self, key)\u001B[0m\n\u001B[0;32m   4088\u001B[0m \u001B[38;5;28;01mif\u001B[39;00m \u001B[38;5;28mself\u001B[39m\u001B[38;5;241m.\u001B[39mcolumns\u001B[38;5;241m.\u001B[39mnlevels \u001B[38;5;241m>\u001B[39m \u001B[38;5;241m1\u001B[39m:\n\u001B[0;32m   4089\u001B[0m     \u001B[38;5;28;01mreturn\u001B[39;00m \u001B[38;5;28mself\u001B[39m\u001B[38;5;241m.\u001B[39m_getitem_multilevel(key)\n\u001B[1;32m-> 4090\u001B[0m indexer \u001B[38;5;241m=\u001B[39m \u001B[38;5;28mself\u001B[39m\u001B[38;5;241m.\u001B[39mcolumns\u001B[38;5;241m.\u001B[39mget_loc(key)\n\u001B[0;32m   4091\u001B[0m \u001B[38;5;28;01mif\u001B[39;00m is_integer(indexer):\n\u001B[0;32m   4092\u001B[0m     indexer \u001B[38;5;241m=\u001B[39m [indexer]\n",
      "File \u001B[1;32m~\\miniconda3\\Lib\\site-packages\\pandas\\core\\indexes\\base.py:3812\u001B[0m, in \u001B[0;36mIndex.get_loc\u001B[1;34m(self, key)\u001B[0m\n\u001B[0;32m   3807\u001B[0m     \u001B[38;5;28;01mif\u001B[39;00m \u001B[38;5;28misinstance\u001B[39m(casted_key, \u001B[38;5;28mslice\u001B[39m) \u001B[38;5;129;01mor\u001B[39;00m (\n\u001B[0;32m   3808\u001B[0m         \u001B[38;5;28misinstance\u001B[39m(casted_key, abc\u001B[38;5;241m.\u001B[39mIterable)\n\u001B[0;32m   3809\u001B[0m         \u001B[38;5;129;01mand\u001B[39;00m \u001B[38;5;28many\u001B[39m(\u001B[38;5;28misinstance\u001B[39m(x, \u001B[38;5;28mslice\u001B[39m) \u001B[38;5;28;01mfor\u001B[39;00m x \u001B[38;5;129;01min\u001B[39;00m casted_key)\n\u001B[0;32m   3810\u001B[0m     ):\n\u001B[0;32m   3811\u001B[0m         \u001B[38;5;28;01mraise\u001B[39;00m InvalidIndexError(key)\n\u001B[1;32m-> 3812\u001B[0m     \u001B[38;5;28;01mraise\u001B[39;00m \u001B[38;5;167;01mKeyError\u001B[39;00m(key) \u001B[38;5;28;01mfrom\u001B[39;00m \u001B[38;5;21;01merr\u001B[39;00m\n\u001B[0;32m   3813\u001B[0m \u001B[38;5;28;01mexcept\u001B[39;00m \u001B[38;5;167;01mTypeError\u001B[39;00m:\n\u001B[0;32m   3814\u001B[0m     \u001B[38;5;66;03m# If we have a listlike key, _check_indexing_error will raise\u001B[39;00m\n\u001B[0;32m   3815\u001B[0m     \u001B[38;5;66;03m#  InvalidIndexError. Otherwise we fall through and re-raise\u001B[39;00m\n\u001B[0;32m   3816\u001B[0m     \u001B[38;5;66;03m#  the TypeError.\u001B[39;00m\n\u001B[0;32m   3817\u001B[0m     \u001B[38;5;28mself\u001B[39m\u001B[38;5;241m.\u001B[39m_check_indexing_error(key)\n",
      "\u001B[1;31mKeyError\u001B[0m: 'AdultWeekend'"
     ]
    }
   ],
   "source": [
    "pca_df['AdultWeekend'].fillna(pca_df.AdultWeekend.mean(), inplace=True)\n",
    "pca_df['Quartile'] = pca_df['Quartile'].cat.add_categories('NA')\n",
    "pca_df['Quartile'].fillna('NA', inplace=True)\n",
    "pca_df.loc['Rhode Island']"
   ]
  },
  {
   "cell_type": "markdown",
   "metadata": {},
   "source": [
    "Note, in the above Quartile has the string value 'NA' that you inserted. This is different to `numpy`'s NaN type.\n",
    "\n",
    "You now have enough information to recreate the scatterplot, now adding marker size for ticket price and colour for the discrete quartile."
   ]
  },
  {
   "cell_type": "markdown",
   "metadata": {},
   "source": [
    "Notice in the code below how you're iterating over each quartile and plotting the points in the same quartile group as one. This gives a list of quartiles for an informative legend with points coloured by quartile and sized by ticket price (higher prices are represented by larger point markers)."
   ]
  },
  {
   "cell_type": "code",
   "execution_count": null,
   "metadata": {
    "ExecuteTime": {
     "end_time": "2024-04-02T22:29:48.975094900Z",
     "start_time": "2024-04-02T22:29:48.972094300Z"
    }
   },
   "outputs": [],
   "source": [
    "x = pca_df.PC1\n",
    "y = pca_df.PC2\n",
    "price = pca_df.AdultWeekend\n",
    "quartiles = pca_df.Quartile\n",
    "state = pca_df.index\n",
    "pc_var = 100 * state_pca.explained_variance_ratio_.cumsum()[1]\n",
    "fig, ax = plt.subplots(figsize=(10,8))\n",
    "for q in quartiles.cat.categories:\n",
    "    im = quartiles == q\n",
    "    ax.scatter(x=x[im], y=y[im], s=price[im], label=q)\n",
    "ax.set_xlabel('First component')\n",
    "ax.set_ylabel('Second component')\n",
    "plt.legend()\n",
    "ax.set_title(f'Ski states summary PCA, {pc_var:.1f}% variance explained')\n",
    "for s, x, y in zip(state, x, y):\n",
    "    plt.annotate(s, (x, y))"
   ]
  },
  {
   "cell_type": "markdown",
   "metadata": {},
   "source": [
    "Now, you see the same distribution of states as before, but with additional information about the average price. There isn't an obvious pattern. The red points representing the upper quartile of price can be seen to the left, the right, and up top. There's also a spread of the other quartiles as well. In this representation of the ski summaries for each state, which accounts for some 77% of the variance, you simply do not seeing a pattern with price."
   ]
  },
  {
   "cell_type": "markdown",
   "metadata": {},
   "source": [
    "The above scatterplot was created using matplotlib. This is powerful, but took quite a bit of effort to set up. You have to iterate over the categories, plotting each separately, to get a colour legend. You can also tell that the points in the legend have different sizes as well as colours. As it happens, the size and the colour will be a 1:1 mapping here, so it happily works for us here. If we were using size and colour to display fundamentally different aesthetics, you'd have a lot more work to do. So matplotlib is powerful, but not ideally suited to when we want to visually explore multiple features as here (and intelligent use of colour, point size, and even shape can be incredibly useful for EDA).\n",
    "\n",
    "Fortunately, there's another option: seaborn. You saw seaborn in action in the previous notebook, when you wanted to distinguish between weekend and weekday ticket prices in the boxplot. After melting the dataframe to have ticket price as a single column with the ticket type represented in a new column, you asked seaborn to create separate boxes for each type."
   ]
  },
  {
   "cell_type": "code",
   "execution_count": null,
   "metadata": {
    "ExecuteTime": {
     "start_time": "2024-04-02T22:29:48.973094500Z"
    }
   },
   "outputs": [],
   "source": [
    "#Code task 11#\n",
    "#Create a seaborn scatterplot by calling `sns.scatterplot`\n",
    "#Specify the dataframe pca_df as the source of the data,\n",
    "#specify 'PC1' for x and 'PC2' for y,\n",
    "#specify 'AdultWeekend' for the pointsize (scatterplot's `size` argument),\n",
    "#specify 'Quartile' for `hue`\n",
    "#specify pca_df.Quartile.cat.categories for `hue_order` - what happens with/without this?\n",
    "x = pca_df.PC1\n",
    "y = pca_df.PC2\n",
    "state = pca_df.index\n",
    "plt.subplots(figsize=(12, 10))\n",
    "# Note the argument below to make sure we get the colours in the ascending\n",
    "# order we intuitively expect!\n",
    "sns.___(x=___, y=___, size=___, hue=___, \n",
    "                hue_order=___, data=pca_df)\n",
    "#and we can still annotate with the state labels\n",
    "for s, x, y in zip(state, x, y):\n",
    "    plt.annotate(s, (x, y))   \n",
    "plt.title(f'Ski states summary PCA, {pc_var:.1f}% variance explained');"
   ]
  },
  {
   "cell_type": "markdown",
   "metadata": {},
   "source": [
    "Seaborn does more! You should always care about your output. What if you want the ordering of the colours in the legend to align intuitively with the ordering of the quartiles? Add a `hue_order` argument! Seaborn has thrown in a few nice other things:\n",
    "\n",
    "* the aesthetics are separated in the legend\n",
    "* it defaults to marker sizes that provide more contrast (smaller to larger)\n",
    "* when starting with a DataFrame, you have less work to do to visualize patterns in the data\n",
    "\n",
    "The last point is important. Less work means less chance of mixing up objects and jumping to erroneous conclusions. This also emphasizes the importance of getting data into a suitable DataFrame. In the previous notebook, you `melt`ed the data to make it longer, but with fewer columns, in order to get a single column of price with a new column representing a categorical feature you'd want to use. A **key skill** is being able to wrangle data into a form most suited to the particular use case."
   ]
  },
  {
   "cell_type": "markdown",
   "metadata": {},
   "source": [
    "Having gained a good visualization of the state summary data, you can discuss and follow up on your findings."
   ]
  },
  {
   "cell_type": "markdown",
   "metadata": {},
   "source": [
    "In the first two components, there is a spread of states across the first component. It looks like Vermont and New Hampshire might be off on their own a little in the second dimension, although they're really no more extreme than New York and Colorado are in the first dimension. But if you were curious, could you get an idea what it is that pushes Vermont and New Hampshire up?\n",
    "\n",
    "The `components_` attribute of the fitted PCA object tell us how important (and in what direction) each feature contributes to each score (or coordinate on the plot). **NB we were sensible and scaled our original features (to zero mean and unit variance)**. You may not always be interested in interpreting the coefficients of the PCA transformation in this way, although it's more likely you will when using PCA for EDA as opposed to a preprocessing step as part of a machine learning pipeline. The attribute is actually a numpy ndarray, and so has been stripped of helpful index and column names. Fortunately, you thought ahead and saved these. This is how we were able to annotate the scatter plots above. It also means you can construct a DataFrame of `components_` with the feature names for context:"
   ]
  },
  {
   "cell_type": "code",
   "execution_count": null,
   "metadata": {
    "ExecuteTime": {
     "start_time": "2024-04-02T22:29:48.975094900Z"
    }
   },
   "outputs": [],
   "source": [
    "pd.DataFrame(state_pca.components_, columns=state_summary_columns)"
   ]
  },
  {
   "cell_type": "markdown",
   "metadata": {},
   "source": [
    "For the row associated with the second component, are there any large values?"
   ]
  },
  {
   "cell_type": "markdown",
   "metadata": {},
   "source": [
    "It looks like `resorts_per_100kcapita` and `resorts_per_100ksq_mile` might count for quite a lot, in a positive sense. Be aware that sign matters; a large negative coefficient multiplying a large negative feature will actually produce a large positive PCA score."
   ]
  },
  {
   "cell_type": "code",
   "execution_count": null,
   "metadata": {
    "ExecuteTime": {
     "end_time": "2024-04-02T22:29:48.979095800Z",
     "start_time": "2024-04-02T22:29:48.976095100Z"
    }
   },
   "outputs": [],
   "source": [
    "state_summary[state_summary.state.isin(['New Hampshire', 'Vermont'])].T"
   ]
  },
  {
   "cell_type": "code",
   "execution_count": null,
   "metadata": {
    "ExecuteTime": {
     "start_time": "2024-04-02T22:29:48.977095500Z"
    }
   },
   "outputs": [],
   "source": [
    "state_summary_scaled_df[state_summary.state.isin(['New Hampshire', 'Vermont'])].T"
   ]
  },
  {
   "cell_type": "markdown",
   "metadata": {},
   "source": [
    "So, yes, both states have particularly large values of `resorts_per_100ksq_mile` in absolute terms, and these put them more than 3 standard deviations from the mean. Vermont also has a notably large value for `resorts_per_100kcapita`. New York, then, does not seem to be a stand-out for density of ski resorts either in terms of state size or population count."
   ]
  },
  {
   "cell_type": "markdown",
   "metadata": {},
   "source": [
    "### 3.5.4 Conclusion On How To Handle State Label<a id='3.5.4_Conclusion_On_How_To_Handle_State_Label'></a>"
   ]
  },
  {
   "cell_type": "markdown",
   "metadata": {},
   "source": [
    "You can offer some justification for treating all states equally, and work towards building a pricing model that considers all states together, without treating any one particularly specially. You haven't seen any clear grouping yet, but you have captured potentially relevant state data in features most likely to be relevant to your business use case. This answers a big question!"
   ]
  },
  {
   "cell_type": "markdown",
   "metadata": {},
   "source": [
    "### 3.5.5 Ski Resort Numeric Data<a id='3.5.5_Ski_Resort_Numeric_Data'></a>"
   ]
  },
  {
   "cell_type": "code",
   "execution_count": null,
   "metadata": {
    "ExecuteTime": {
     "start_time": "2024-04-02T22:29:48.979095800Z"
    }
   },
   "outputs": [],
   "source": []
  },
  {
   "cell_type": "markdown",
   "metadata": {},
   "source": [
    "After what may feel a detour, return to examining the ski resort data. It's worth noting, the previous EDA was valuable because it's given us some potentially useful features, as well as validating an approach for how to subsequently handle the state labels in your modeling."
   ]
  },
  {
   "cell_type": "code",
   "execution_count": null,
   "metadata": {
    "ExecuteTime": {
     "end_time": "2024-04-02T22:29:48.996101600Z",
     "start_time": "2024-04-02T22:29:48.980096100Z"
    }
   },
   "outputs": [],
   "source": [
    "ski_data.head().T"
   ]
  },
  {
   "cell_type": "markdown",
   "metadata": {},
   "source": [
    "#### 3.5.5.1 Feature engineering<a id='3.5.5.1_Feature_engineering'></a>"
   ]
  },
  {
   "cell_type": "markdown",
   "metadata": {},
   "source": [
    "Having previously spent some time exploring the state summary data you derived, you now start to explore the resort-level data in more detail. This can help guide you on how (or whether) to use the state labels in the data. It's now time to merge the two datasets and engineer some intuitive features. For example, you can engineer a resort's share of the supply for a given state."
   ]
  },
  {
   "cell_type": "code",
   "execution_count": null,
   "metadata": {
    "ExecuteTime": {
     "start_time": "2024-04-02T22:29:48.981096400Z"
    }
   },
   "outputs": [],
   "source": [
    "state_summary.head()"
   ]
  },
  {
   "cell_type": "code",
   "execution_count": null,
   "metadata": {
    "ExecuteTime": {
     "start_time": "2024-04-02T22:29:48.983096800Z"
    }
   },
   "outputs": [],
   "source": [
    "# DataFrame's merge method provides SQL-like joins\n",
    "# here 'state' is a column (not an index)\n",
    "ski_data = ski_data.merge(state_summary, how='left', on='state')\n",
    "ski_data.head().T"
   ]
  },
  {
   "cell_type": "markdown",
   "metadata": {},
   "source": [
    "Having merged your state summary features into the ski resort data, add \"state resort competition\" features:\n",
    "\n",
    "* ratio of resort skiable area to total state skiable area\n",
    "* ratio of resort days open to total state days open\n",
    "* ratio of resort terrain park count to total state terrain park count\n",
    "* ratio of resort night skiing area to total state night skiing area\n",
    "\n",
    "Once you've derived these features to put each resort within the context of its state,drop those state columns. Their main purpose was to understand what share of states' skiing \"assets\" is accounted for by each resort."
   ]
  },
  {
   "cell_type": "code",
   "execution_count": null,
   "metadata": {
    "ExecuteTime": {
     "start_time": "2024-04-02T22:29:48.984097100Z"
    }
   },
   "outputs": [],
   "source": [
    "ski_data['resort_skiable_area_ac_state_ratio'] = ski_data.SkiableTerrain_ac / ski_data.state_total_skiable_area_ac\n",
    "ski_data['resort_days_open_state_ratio'] = ski_data.daysOpenLastYear / ski_data.state_total_days_open\n",
    "ski_data['resort_terrain_park_state_ratio'] = ski_data.TerrainParks / ski_data.state_total_terrain_parks\n",
    "ski_data['resort_night_skiing_state_ratio'] = ski_data.NightSkiing_ac / ski_data.state_total_nightskiing_ac\n",
    "\n",
    "ski_data.drop(columns=['state_total_skiable_area_ac', 'state_total_days_open', \n",
    "                       'state_total_terrain_parks', 'state_total_nightskiing_ac'], inplace=True)"
   ]
  },
  {
   "cell_type": "markdown",
   "metadata": {},
   "source": [
    "#### 3.5.5.2 Feature correlation heatmap<a id='3.5.5.2_Feature_correlation_heatmap'></a>"
   ]
  },
  {
   "cell_type": "markdown",
   "metadata": {},
   "source": [
    "A great way to gain a high level view of relationships amongst the features."
   ]
  },
  {
   "cell_type": "code",
   "execution_count": null,
   "metadata": {
    "ExecuteTime": {
     "start_time": "2024-04-02T22:29:48.985097600Z"
    }
   },
   "outputs": [],
   "source": [
    "#Code task 12#\n",
    "#Show a seaborn heatmap of correlations in ski_data\n",
    "#Hint: call pandas' `corr()` method on `ski_data` and pass that into `sns.heatmap`\n",
    "plt.subplots(figsize=(12,10))\n",
    "sns.___(ski_data.___);"
   ]
  },
  {
   "cell_type": "markdown",
   "metadata": {},
   "source": [
    "There is a lot to take away from this. First, summit and base elevation are quite highly correlated. This isn't a surprise. You can also see that you've introduced a lot of multicollinearity with your new ratio features; they are negatively correlated with the number of resorts in each state. This latter observation makes sense! If you increase the number of resorts in a state, the share of all the other state features will drop for each. An interesting observation in this region of the heatmap is that there is some positive correlation between the ratio of night skiing area with the number of resorts per capita. In other words, it seems that when resorts are more densely located with population, more night skiing is provided.\n",
    "\n",
    "Turning your attention to your target feature, `AdultWeekend` ticket price, you see quite a few reasonable correlations. `fastQuads` stands out, along with `Runs` and `Snow Making_ac`. The last one is interesting. Visitors would seem to value more guaranteed snow, which would cost in terms of snow making equipment, which would drive prices and costs up. Of the new features, `resort_night_skiing_state_ratio` seems the most correlated with ticket price. If this is true, then perhaps seizing a greater share of night skiing capacity is positive for the price a resort can charge.\n",
    "\n",
    "As well as `Runs`, `total_chairs` is quite well correlated with ticket price. This is plausible; the more runs you have, the more chairs you'd need to ferry people to them! Interestingly, they may count for more than the total skiable terrain area. For sure, the total skiable terrain area is not as useful as the area with snow making. People seem to put more value in guaranteed snow cover rather than more variable terrain area.\n",
    "\n",
    "The vertical drop seems to be a selling point that raises ticket prices as well."
   ]
  },
  {
   "cell_type": "markdown",
   "metadata": {},
   "source": [
    "#### 3.5.5.3 Scatterplots of numeric features against ticket price<a id='3.5.5.3_Scatterplots_of_numeric_features_against_ticket_price'></a>"
   ]
  },
  {
   "cell_type": "markdown",
   "metadata": {},
   "source": [
    "Correlations, particularly viewing them together as a heatmap, can be a great first pass at identifying patterns. But correlation can mask relationships between two variables. You'll now create a series of scatterplots to really dive into how ticket price varies with other numeric features."
   ]
  },
  {
   "cell_type": "code",
   "execution_count": null,
   "metadata": {
    "ExecuteTime": {
     "start_time": "2024-04-02T22:29:48.986097600Z"
    }
   },
   "outputs": [],
   "source": [
    "# define useful function to create scatterplots of ticket prices against desired columns\n",
    "def scatterplots(columns, ncol=None, figsize=(15, 8)):\n",
    "    if ncol is None:\n",
    "        ncol = len(columns)\n",
    "    nrow = int(np.ceil(len(columns) / ncol))\n",
    "    fig, axes = plt.subplots(nrow, ncol, figsize=figsize, squeeze=False)\n",
    "    fig.subplots_adjust(wspace=0.5, hspace=0.6)\n",
    "    for i, col in enumerate(columns):\n",
    "        ax = axes.flatten()[i]\n",
    "        ax.scatter(x = col, y = 'AdultWeekend', data=ski_data, alpha=0.5)\n",
    "        ax.set(xlabel=col, ylabel='Ticket price')\n",
    "    nsubplots = nrow * ncol    \n",
    "    for empty in range(i+1, nsubplots):\n",
    "        axes.flatten()[empty].set_visible(False)"
   ]
  },
  {
   "cell_type": "code",
   "execution_count": null,
   "metadata": {
    "ExecuteTime": {
     "start_time": "2024-04-02T22:29:48.987097800Z"
    }
   },
   "outputs": [],
   "source": [
    "#Code task 13#\n",
    "#Use a list comprehension to build a list of features from the columns of `ski_data` that\n",
    "#are _not_ any of 'Name', 'Region', 'state', or 'AdultWeekend'\n",
    "features = [___ for ___ in ski_data.columns if ___ not in [___, ___, ___, ___]]"
   ]
  },
  {
   "cell_type": "code",
   "execution_count": null,
   "metadata": {
    "ExecuteTime": {
     "start_time": "2024-04-02T22:29:48.988098100Z"
    }
   },
   "outputs": [],
   "source": [
    "scatterplots(features, ncol=4, figsize=(15, 15))"
   ]
  },
  {
   "cell_type": "markdown",
   "metadata": {},
   "source": [
    "In the scatterplots you see what some of the high correlations were clearly picking up on. There's a strong positive correlation with `vertical_drop`. `fastQuads` seems very useful. `Runs` and `total_chairs` appear quite similar and also useful. `resorts_per_100kcapita` shows something interesting that you don't see from just a headline correlation figure. When the value is low, there is quite a variability in ticket price, although it's capable of going quite high. Ticket price may drop a little before then climbing upwards as the number of resorts per capita increases. Ticket price could climb with the number of resorts serving a population because it indicates a popular area for skiing with plenty of demand. The lower ticket price when fewer resorts serve a population may similarly be because it's a less popular state for skiing. The high price for some resorts when resorts are rare (relative to the population size) may indicate areas where a small number of resorts can benefit from a monopoly effect. It's not a clear picture, although we have some interesting signs."
   ]
  },
  {
   "cell_type": "markdown",
   "metadata": {},
   "source": [
    "Finally, think of some further features that may be useful in that they relate to how easily a resort can transport people around. You have the numbers of various chairs, and the number of runs, but you don't have the ratio of chairs to runs. It seems logical that this ratio would inform you how easily, and so quickly, people could get to their next ski slope! Create these features now."
   ]
  },
  {
   "cell_type": "code",
   "execution_count": null,
   "metadata": {
    "ExecuteTime": {
     "start_time": "2024-04-02T22:29:48.989098300Z"
    }
   },
   "outputs": [],
   "source": [
    "ski_data['total_chairs_runs_ratio'] = ski_data.total_chairs / ski_data.Runs\n",
    "ski_data['total_chairs_skiable_ratio'] = ski_data.total_chairs / ski_data.SkiableTerrain_ac\n",
    "ski_data['fastQuads_runs_ratio'] = ski_data.fastQuads / ski_data.Runs\n",
    "ski_data['fastQuads_skiable_ratio'] = ski_data.fastQuads / ski_data.SkiableTerrain_ac"
   ]
  },
  {
   "cell_type": "code",
   "execution_count": null,
   "metadata": {
    "ExecuteTime": {
     "start_time": "2024-04-02T22:29:48.990099900Z"
    }
   },
   "outputs": [],
   "source": [
    "scatterplots(['total_chairs_runs_ratio', 'total_chairs_skiable_ratio', \n",
    "              'fastQuads_runs_ratio', 'fastQuads_skiable_ratio'], ncol=2)"
   ]
  },
  {
   "cell_type": "markdown",
   "metadata": {},
   "source": [
    "At first these relationships are quite counterintuitive. It seems that the more chairs a resort has to move people around, relative to the number of runs, ticket price rapidly plummets and stays low. What we may be seeing here is an exclusive vs. mass market resort effect; if you don't have so many chairs, you can charge more for your tickets, although with fewer chairs you're inevitably going to be able to serve fewer visitors. Your price per visitor is high but your number of visitors may be low. Something very useful that's missing from the data is the number of visitors per year.\n",
    "\n",
    "It also appears that having no fast quads may limit the ticket price, but if your resort covers a wide area then getting a small number of fast quads may be beneficial to ticket price."
   ]
  },
  {
   "cell_type": "markdown",
   "metadata": {},
   "source": [
    "## 3.6 Summary<a id='3.6_Summary'></a>"
   ]
  },
  {
   "cell_type": "markdown",
   "metadata": {},
   "source": [
    "**Q: 1** Write a summary of the exploratory data analysis above. What numerical or categorical features were in the data? Was there any pattern suggested of a relationship between state and ticket price? What did this lead us to decide regarding which features to use in subsequent modeling? What aspects of the data (e.g. relationships between features) should you remain wary of when you come to perform feature selection for modeling? Two key points that must be addressed are the choice of target feature for your modelling and how, if at all, you're going to handle the states labels in the data."
   ]
  },
  {
   "cell_type": "markdown",
   "metadata": {},
   "source": [
    "**A: 1** Your answer here"
   ]
  },
  {
   "cell_type": "code",
   "execution_count": null,
   "metadata": {
    "ExecuteTime": {
     "start_time": "2024-04-02T22:29:48.991099900Z"
    }
   },
   "outputs": [],
   "source": [
    "ski_data.head().T"
   ]
  },
  {
   "cell_type": "code",
   "execution_count": null,
   "metadata": {
    "ExecuteTime": {
     "start_time": "2024-04-02T22:29:48.992100200Z"
    }
   },
   "outputs": [],
   "source": [
    "# Save the data \n",
    "\n",
    "datapath = '../data'\n",
    "save_file(ski_data, 'ski_data_step3_features.csv', datapath)"
   ]
  }
 ],
 "metadata": {
  "kernelspec": {
   "display_name": "Python 3",
   "language": "python",
   "name": "python3"
  },
  "language_info": {
   "codemirror_mode": {
    "name": "ipython",
    "version": 3
   },
   "file_extension": ".py",
   "mimetype": "text/x-python",
   "name": "python",
   "nbconvert_exporter": "python",
   "pygments_lexer": "ipython3",
   "version": "3.7.9"
  },
  "toc": {
   "base_numbering": 1,
   "nav_menu": {},
   "number_sections": true,
   "sideBar": true,
   "skip_h1_title": false,
   "title_cell": "Table of Contents",
   "title_sidebar": "Contents",
   "toc_cell": false,
   "toc_position": {},
   "toc_section_display": true,
   "toc_window_display": false
  },
  "varInspector": {
   "cols": {
    "lenName": 16,
    "lenType": 16,
    "lenVar": 40
   },
   "kernels_config": {
    "python": {
     "delete_cmd_postfix": "",
     "delete_cmd_prefix": "del ",
     "library": "var_list.py",
     "varRefreshCmd": "print(var_dic_list())"
    },
    "r": {
     "delete_cmd_postfix": ") ",
     "delete_cmd_prefix": "rm(",
     "library": "var_list.r",
     "varRefreshCmd": "cat(var_dic_list()) "
    }
   },
   "types_to_exclude": [
    "module",
    "function",
    "builtin_function_or_method",
    "instance",
    "_Feature"
   ],
   "window_display": false
  }
 },
 "nbformat": 4,
 "nbformat_minor": 4
}
